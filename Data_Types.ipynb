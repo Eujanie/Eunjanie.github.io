{
  "nbformat": 4,
  "nbformat_minor": 0,
  "metadata": {
    "colab": {
      "provenance": []
    },
    "kernelspec": {
      "display_name": "R",
      "name": "ir"
    }
  },
  "cells": [
    {
      "cell_type": "markdown",
      "metadata": {
        "id": "gtETsh5j8vHw"
      },
      "source": [
        "# **R Data Types**\n",
        "\n",
        "---"
      ]
    },
    {
      "cell_type": "markdown",
      "metadata": {
        "id": "DifDIaoOtjkH"
      },
      "source": [
        "## R Data Types\n",
        "\n",
        "The R programming language has 6 basic data types. These are\n",
        "*   character\n",
        "*   double (numeric)\n",
        "*   integer\n",
        "*   complex\n",
        "*   logical\n",
        "\n"
      ]
    },
    {
      "cell_type": "markdown",
      "metadata": {
        "id": "zZzxYxtp9b9t"
      },
      "source": [
        "## Character data type\n",
        "\n",
        "Strings in R are called \"characters\". A character is denoted by quotations or apostrophes surrounding a letter or phrase."
      ]
    },
    {
      "cell_type": "code",
      "metadata": {
        "id": "Z60PpIfIeF4Z",
        "colab": {
          "base_uri": "https://localhost:8080/",
          "height": 34
        },
        "outputId": "ed32b504-a3c3-472c-a177-9042a1804da5"
      },
      "source": [
        "# the following string is stored in binary\n",
        "my_string <- \"Baby Yoda is actually not baby Yoda\"\n",
        "my_string"
      ],
      "execution_count": null,
      "outputs": [
        {
          "output_type": "display_data",
          "data": {
            "text/plain": [
              "[1] \"Baby Yoda is actually not baby Yoda\""
            ],
            "text/latex": "'Baby Yoda is actually not baby Yoda'",
            "text/markdown": "'Baby Yoda is actually not baby Yoda'",
            "text/html": [
              "'Baby Yoda is actually not baby Yoda'"
            ]
          },
          "metadata": {
            "tags": []
          }
        }
      ]
    },
    {
      "cell_type": "code",
      "metadata": {
        "colab": {
          "base_uri": "https://localhost:8080/",
          "height": 34
        },
        "id": "MJBnMxw1sfsc",
        "outputId": "e20bedd6-4930-4d24-8bdd-0ff15de4206f"
      },
      "source": [
        "# with apotrophes\n",
        "my_string <- 'Baby Yoda is actually not baby Yoda'\n",
        "my_string"
      ],
      "execution_count": null,
      "outputs": [
        {
          "output_type": "display_data",
          "data": {
            "text/plain": [
              "[1] \"Baby Yoda is actually not baby Yoda\""
            ],
            "text/latex": "'Baby Yoda is actually not baby Yoda'",
            "text/markdown": "'Baby Yoda is actually not baby Yoda'",
            "text/html": [
              "'Baby Yoda is actually not baby Yoda'"
            ]
          },
          "metadata": {
            "tags": []
          }
        }
      ]
    },
    {
      "cell_type": "code",
      "metadata": {
        "colab": {
          "base_uri": "https://localhost:8080/",
          "height": 34
        },
        "id": "RmuPSDkCu0H_",
        "outputId": "74ca604e-2571-4bf0-ebfa-ae573a083852"
      },
      "source": [
        "# numbers can be stored as strings as well\n",
        "my_string <- \"200\"\n",
        "my_string"
      ],
      "execution_count": null,
      "outputs": [
        {
          "output_type": "display_data",
          "data": {
            "text/plain": [
              "[1] \"200\""
            ],
            "text/latex": "'200'",
            "text/markdown": "'200'",
            "text/html": [
              "'200'"
            ]
          },
          "metadata": {
            "tags": []
          }
        }
      ]
    },
    {
      "cell_type": "markdown",
      "metadata": {
        "id": "s8uGbs-PsqPo"
      },
      "source": [
        "What if we are unsure of the type of value stored in the variable?\n",
        "\n",
        "We can use the `typeof()` function to check."
      ]
    },
    {
      "cell_type": "code",
      "metadata": {
        "id": "8AxGIIkC8lgA",
        "colab": {
          "base_uri": "https://localhost:8080/",
          "height": 34
        },
        "outputId": "a507ee9d-afbf-493a-fb58-8ce71ea961c9"
      },
      "source": [
        "typeof(my_string)"
      ],
      "execution_count": null,
      "outputs": [
        {
          "output_type": "display_data",
          "data": {
            "text/plain": [
              "[1] \"character\""
            ],
            "text/latex": "'character'",
            "text/markdown": "'character'",
            "text/html": [
              "'character'"
            ]
          },
          "metadata": {
            "tags": []
          }
        }
      ]
    },
    {
      "cell_type": "markdown",
      "metadata": {
        "id": "i33SVp6ItMdI"
      },
      "source": [
        "## Double (numeric)\n",
        "\n",
        "The most common R data type is a \"double\" data type, meaning double precision (64-bit storage).  <br>\n",
        "These can be integers or floating points (decimals)."
      ]
    },
    {
      "cell_type": "code",
      "metadata": {
        "colab": {
          "base_uri": "https://localhost:8080/",
          "height": 34
        },
        "id": "_zoQdOjCvT6N",
        "outputId": "c67fcaae-921e-421e-cac0-a7e810eb70cc"
      },
      "source": [
        "# store an integer into the variable my_numeric\n",
        "my_numeric <- 35\n",
        "my_numeric"
      ],
      "execution_count": null,
      "outputs": [
        {
          "output_type": "display_data",
          "data": {
            "text/plain": [
              "[1] 35"
            ],
            "text/latex": "35",
            "text/markdown": "35",
            "text/html": [
              "35"
            ]
          },
          "metadata": {
            "tags": []
          }
        }
      ]
    },
    {
      "cell_type": "code",
      "metadata": {
        "id": "kWXRzbFQx0ZA",
        "colab": {
          "base_uri": "https://localhost:8080/",
          "height": 34
        },
        "outputId": "96172785-8e5d-4219-c3e3-587c06c9a994"
      },
      "source": [
        "# identify the data type of the variable my_numeric\n",
        "typeof(my_numeric)"
      ],
      "execution_count": null,
      "outputs": [
        {
          "output_type": "display_data",
          "data": {
            "text/plain": [
              "[1] \"double\""
            ],
            "text/latex": "'double'",
            "text/markdown": "'double'",
            "text/html": [
              "'double'"
            ]
          },
          "metadata": {
            "tags": []
          }
        }
      ]
    },
    {
      "cell_type": "code",
      "metadata": {
        "colab": {
          "base_uri": "https://localhost:8080/",
          "height": 34
        },
        "id": "-43W-MPxvXFy",
        "outputId": "0863b1ab-6ded-4abf-9cbb-144cd5ee12e5"
      },
      "source": [
        "# store a decimal into the variable my_numeric\n",
        "my_numeric <- 35.2\n",
        "my_numeric"
      ],
      "execution_count": null,
      "outputs": [
        {
          "output_type": "display_data",
          "data": {
            "text/plain": [
              "[1] 35.2"
            ],
            "text/latex": "35.2",
            "text/markdown": "35.2",
            "text/html": [
              "35.2"
            ]
          },
          "metadata": {
            "tags": []
          }
        }
      ]
    },
    {
      "cell_type": "code",
      "metadata": {
        "colab": {
          "base_uri": "https://localhost:8080/",
          "height": 34
        },
        "id": "RsD4pfhTvY8_",
        "outputId": "265c049b-aa12-4824-84b0-3afe0723f89c"
      },
      "source": [
        "# identify the class or data type of the variable my_numeric\n",
        "typeof(my_numeric)"
      ],
      "execution_count": null,
      "outputs": [
        {
          "output_type": "display_data",
          "data": {
            "text/plain": [
              "[1] \"double\""
            ],
            "text/latex": "'double'",
            "text/markdown": "'double'",
            "text/html": [
              "'double'"
            ]
          },
          "metadata": {
            "tags": []
          }
        }
      ]
    },
    {
      "cell_type": "markdown",
      "metadata": {
        "id": "QcZDyGiWwTKc"
      },
      "source": [
        "## Integer\n",
        "\n",
        "Sometimes we want to store a variable as an integer data type if we know the variable will always be an integer since integers require less storage space.\n",
        "\n",
        "For the purposes of this class, we will not have to worry of about this issue. However, data scientists encounter storage issues in practice because of the large volume of data in the world!"
      ]
    },
    {
      "cell_type": "code",
      "metadata": {
        "colab": {
          "base_uri": "https://localhost:8080/",
          "height": 34
        },
        "id": "aeWbBSCOvbHG",
        "outputId": "d26c3df7-934a-434d-a731-f6a343a8af66"
      },
      "source": [
        "# integers are double by default\n",
        "my_numeric <- 35\n",
        "my_numeric"
      ],
      "execution_count": null,
      "outputs": [
        {
          "output_type": "display_data",
          "data": {
            "text/plain": [
              "[1] 35"
            ],
            "text/latex": "35",
            "text/markdown": "35",
            "text/html": [
              "35"
            ]
          },
          "metadata": {
            "tags": []
          }
        }
      ]
    },
    {
      "cell_type": "code",
      "metadata": {
        "colab": {
          "base_uri": "https://localhost:8080/",
          "height": 34
        },
        "id": "8GzqMl54u34a",
        "outputId": "b530bac7-116f-455f-8ba0-348776707cfa"
      },
      "source": [
        "# check data type\n",
        "typeof(my_numeric)"
      ],
      "execution_count": null,
      "outputs": [
        {
          "output_type": "display_data",
          "data": {
            "text/plain": [
              "[1] \"double\""
            ],
            "text/latex": "'double'",
            "text/markdown": "'double'",
            "text/html": [
              "'double'"
            ]
          },
          "metadata": {
            "tags": []
          }
        }
      ]
    },
    {
      "cell_type": "code",
      "metadata": {
        "colab": {
          "base_uri": "https://localhost:8080/",
          "height": 34
        },
        "id": "QWsK5ESQwYju",
        "outputId": "ee3e956f-a263-4d7d-bb08-c107aa2fe522"
      },
      "source": [
        "# as.integer converts a number to an integer data type\n",
        "my_numeric <- as.integer(35)\n",
        "my_numeric"
      ],
      "execution_count": null,
      "outputs": [
        {
          "output_type": "display_data",
          "data": {
            "text/plain": [
              "[1] 35"
            ],
            "text/latex": "35",
            "text/markdown": "35",
            "text/html": [
              "35"
            ]
          },
          "metadata": {
            "tags": []
          }
        }
      ]
    },
    {
      "cell_type": "code",
      "metadata": {
        "colab": {
          "base_uri": "https://localhost:8080/",
          "height": 34
        },
        "id": "ga_WNu6swf9E",
        "outputId": "062730c6-429f-4a9e-d594-f65b5184b943"
      },
      "source": [
        "typeof(my_numeric)"
      ],
      "execution_count": null,
      "outputs": [
        {
          "output_type": "display_data",
          "data": {
            "text/plain": [
              "[1] \"integer\""
            ],
            "text/latex": "'integer'",
            "text/markdown": "'integer'",
            "text/html": [
              "'integer'"
            ]
          },
          "metadata": {
            "tags": []
          }
        }
      ]
    },
    {
      "cell_type": "markdown",
      "metadata": {
        "id": "i3sQe_8Zza39"
      },
      "source": [
        "## Complex\n",
        "\n",
        "Complex data types contain a real and imaginary component and are used to store complex numbers.\n",
        "\n",
        "Complex numbers are very useful for applications in specific fields (physics, image processing, etc.).\n",
        "\n",
        "However, the majority of data comprises text or real numbers, therefore we will not be using complex numbers in this course! Phew!"
      ]
    },
    {
      "cell_type": "code",
      "metadata": {
        "colab": {
          "base_uri": "https://localhost:8080/",
          "height": 34
        },
        "id": "coWsg0mfx9nM",
        "outputId": "6b60ef86-f8b0-48e3-f734-8b77927e7d95"
      },
      "source": [
        "my_complex <- 3 + 2i\n",
        "my_complex"
      ],
      "execution_count": null,
      "outputs": [
        {
          "output_type": "display_data",
          "data": {
            "text/plain": [
              "[1] 3+2i"
            ],
            "text/latex": "3+2i",
            "text/markdown": "3+2i",
            "text/html": [
              "3+2i"
            ]
          },
          "metadata": {
            "tags": []
          }
        }
      ]
    },
    {
      "cell_type": "code",
      "metadata": {
        "colab": {
          "base_uri": "https://localhost:8080/",
          "height": 34
        },
        "id": "3jE1ctjQ0M8d",
        "outputId": "0f7d6957-cc50-47c1-ddc8-959cb5abf5c5"
      },
      "source": [
        "typeof(my_complex)"
      ],
      "execution_count": null,
      "outputs": [
        {
          "output_type": "display_data",
          "data": {
            "text/plain": [
              "[1] \"complex\""
            ],
            "text/latex": "'complex'",
            "text/markdown": "'complex'",
            "text/html": [
              "'complex'"
            ]
          },
          "metadata": {
            "tags": []
          }
        }
      ]
    },
    {
      "cell_type": "markdown",
      "metadata": {
        "id": "PUdzoDXA0QxD"
      },
      "source": [
        "## Logical\n",
        "\n",
        "Logicals (also known as Boolean data types) are VERY IMPORTANT!!!\n",
        "\n",
        "They are binary values that take on values of `TRUE` or `FALSE`. In R,\n",
        "*   `0` is `FALSE`\n",
        "*   `1` is `TRUE`\n",
        "\n"
      ]
    },
    {
      "cell_type": "code",
      "metadata": {
        "colab": {
          "base_uri": "https://localhost:8080/",
          "height": 34
        },
        "id": "ZRssdwwi6Qx7",
        "outputId": "8d351caf-b48a-4781-aa0d-d650c12863e6"
      },
      "source": [
        "# store a logical variable\n",
        "my_logical <- TRUE\n",
        "my_logical"
      ],
      "execution_count": null,
      "outputs": [
        {
          "output_type": "display_data",
          "data": {
            "text/plain": [
              "[1] TRUE"
            ],
            "text/latex": "TRUE",
            "text/markdown": "TRUE",
            "text/html": [
              "TRUE"
            ]
          },
          "metadata": {
            "tags": []
          }
        }
      ]
    },
    {
      "cell_type": "code",
      "metadata": {
        "colab": {
          "base_uri": "https://localhost:8080/",
          "height": 34
        },
        "id": "yA-71Xj26Xxb",
        "outputId": "c2d055f4-518f-4f53-e809-f24e466ec954"
      },
      "source": [
        "typeof(my_logical)"
      ],
      "execution_count": null,
      "outputs": [
        {
          "output_type": "display_data",
          "data": {
            "text/plain": [
              "[1] \"logical\""
            ],
            "text/latex": "'logical'",
            "text/markdown": "'logical'",
            "text/html": [
              "'logical'"
            ]
          },
          "metadata": {
            "tags": []
          }
        }
      ]
    },
    {
      "cell_type": "code",
      "metadata": {
        "colab": {
          "base_uri": "https://localhost:8080/",
          "height": 34
        },
        "id": "xZp42SNB6j8B",
        "outputId": "73d4aecf-cff0-45f6-e755-95d9ca18a392"
      },
      "source": [
        "# store a logical variable\n",
        "my_logical <- FALSE\n",
        "my_logical"
      ],
      "execution_count": null,
      "outputs": [
        {
          "output_type": "display_data",
          "data": {
            "text/plain": [
              "[1] FALSE"
            ],
            "text/latex": "FALSE",
            "text/markdown": "FALSE",
            "text/html": [
              "FALSE"
            ]
          },
          "metadata": {
            "tags": []
          }
        }
      ]
    },
    {
      "cell_type": "code",
      "metadata": {
        "colab": {
          "base_uri": "https://localhost:8080/",
          "height": 34
        },
        "id": "7949lPnw6l58",
        "outputId": "e6f81672-f51a-44d3-fce3-282a56e01777"
      },
      "source": [
        "my_logical <- \"TRUE\"\n",
        "typeof(my_logical)"
      ],
      "execution_count": null,
      "outputs": [
        {
          "output_type": "display_data",
          "data": {
            "text/plain": [
              "[1] \"character\""
            ],
            "text/latex": "'character'",
            "text/markdown": "'character'",
            "text/html": [
              "'character'"
            ]
          },
          "metadata": {
            "tags": []
          }
        }
      ]
    },
    {
      "cell_type": "markdown",
      "metadata": {
        "id": "-PESOzfD6mtT"
      },
      "source": [
        "## R Experiments (Quizzables)\n",
        "\n",
        "The best way to learn a programming language is to experiment with commands and try to find ways of breaking it!\n",
        "\n",
        "Try the following exercises. Create a code cell beneath each exercise.\n",
        "\n",
        "\n",
        "\n"
      ]
    },
    {
      "cell_type": "markdown",
      "metadata": {
        "id": "vdNVY0xX6B2e"
      },
      "source": [
        "*   Convert the decimal `5.8` to an integer using `as.integer()`. Is this the result what you expected?\n"
      ]
    },
    {
      "cell_type": "code",
      "metadata": {
        "colab": {
          "base_uri": "https://localhost:8080/",
          "height": 34
        },
        "id": "fIguAuIj7qOI",
        "outputId": "5547db12-eed9-43e5-ec09-17ae94f9742a"
      },
      "source": [
        "typeof(as.integer(5.8))"
      ],
      "execution_count": null,
      "outputs": [
        {
          "output_type": "display_data",
          "data": {
            "text/plain": [
              "[1] \"integer\""
            ],
            "text/latex": "'integer'",
            "text/markdown": "'integer'",
            "text/html": [
              "'integer'"
            ]
          },
          "metadata": {
            "tags": []
          }
        }
      ]
    },
    {
      "cell_type": "markdown",
      "metadata": {
        "id": "Ax-843Pp6me6"
      },
      "source": [
        "*   Add a number to a character. What happens?"
      ]
    },
    {
      "cell_type": "code",
      "metadata": {
        "colab": {
          "base_uri": "https://localhost:8080/",
          "height": 96
        },
        "id": "2jOyEo_e_fbf",
        "outputId": "ca4c602e-cdfd-4386-cf9d-0b5125026b08"
      },
      "source": [
        "\"5\" + 5"
      ],
      "execution_count": null,
      "outputs": [
        {
          "output_type": "error",
          "ename": "ERROR",
          "evalue": "ignored",
          "traceback": [
            "Error in \"5\" + 5: non-numeric argument to binary operator\nTraceback:\n"
          ]
        }
      ]
    },
    {
      "cell_type": "markdown",
      "metadata": {
        "id": "DYM_ulB07k4n"
      },
      "source": [
        "* Convert the character string `'5'` to a number using `as.numeric()`, then add 2. What is the result? What is the resulting data type?"
      ]
    },
    {
      "cell_type": "code",
      "metadata": {
        "colab": {
          "base_uri": "https://localhost:8080/",
          "height": 34
        },
        "id": "9VYprfyG_zdu",
        "outputId": "61850548-e2a4-4cd6-ee76-55b3b1419f5e"
      },
      "source": [
        "as.numeric('05') + 2"
      ],
      "execution_count": null,
      "outputs": [
        {
          "output_type": "display_data",
          "data": {
            "text/plain": [
              "[1] 7"
            ],
            "text/latex": "7",
            "text/markdown": "7",
            "text/html": [
              "7"
            ]
          },
          "metadata": {
            "tags": []
          }
        }
      ]
    },
    {
      "cell_type": "markdown",
      "metadata": {
        "id": "Il9CPNcS6cDh"
      },
      "source": [
        "*   Convert the character `\"Yoda\"` to a number using `as.numeric()`. What do you observe? Why?\n"
      ]
    },
    {
      "cell_type": "code",
      "metadata": {
        "colab": {
          "base_uri": "https://localhost:8080/",
          "height": 68
        },
        "id": "6XHuAS3GAGDX",
        "outputId": "71a24d3e-8923-402a-ab28-90050e69ab28"
      },
      "source": [
        "as.numeric(\"Yoda\")"
      ],
      "execution_count": null,
      "outputs": [
        {
          "output_type": "stream",
          "text": [
            "Warning message in eval(expr, envir, enclos):\n",
            "“NAs introduced by coercion”\n"
          ],
          "name": "stderr"
        },
        {
          "output_type": "display_data",
          "data": {
            "text/plain": [
              "[1] NA"
            ],
            "text/latex": "<NA>",
            "text/markdown": "&lt;NA&gt;",
            "text/html": [
              "&lt;NA&gt;"
            ]
          },
          "metadata": {
            "tags": []
          }
        }
      ]
    },
    {
      "cell_type": "markdown",
      "metadata": {
        "id": "1TDGGCnQ6e9y"
      },
      "source": [
        "*   Convert the number 200 to a character using `as.character()`. What do you observe? Why?\n"
      ]
    },
    {
      "cell_type": "code",
      "metadata": {
        "colab": {
          "base_uri": "https://localhost:8080/",
          "height": 96
        },
        "id": "NS_vCQV5AThj",
        "outputId": "f6114253-ba32-46fd-95cd-ebb45e19e144"
      },
      "source": [
        "as.character(200) + 10"
      ],
      "execution_count": null,
      "outputs": [
        {
          "output_type": "error",
          "ename": "ERROR",
          "evalue": "ignored",
          "traceback": [
            "Error in as.character(200) + 10: non-numeric argument to binary operator\nTraceback:\n"
          ]
        }
      ]
    },
    {
      "cell_type": "markdown",
      "metadata": {
        "id": "KjiDtcNa6f-j"
      },
      "source": [
        "*   Add a number to the logical value `TRUE`. What do you observe. Why?"
      ]
    },
    {
      "cell_type": "code",
      "metadata": {
        "colab": {
          "base_uri": "https://localhost:8080/",
          "height": 34
        },
        "id": "7s09BSg4Ac2W",
        "outputId": "496c6dd7-617e-42c0-c3fc-55f1b5842a97"
      },
      "source": [
        "typeof(TRUE)"
      ],
      "execution_count": null,
      "outputs": [
        {
          "output_type": "display_data",
          "data": {
            "text/plain": [
              "[1] \"logical\""
            ],
            "text/latex": "'logical'",
            "text/markdown": "'logical'",
            "text/html": [
              "'logical'"
            ]
          },
          "metadata": {
            "tags": []
          }
        }
      ]
    },
    {
      "cell_type": "markdown",
      "metadata": {
        "id": "ZCK6t19o8OhO"
      },
      "source": [
        "* Convert the logical `FALSE` to a number using `as.numeric()`. What do you observe. Why?"
      ]
    },
    {
      "cell_type": "code",
      "metadata": {
        "colab": {
          "base_uri": "https://localhost:8080/",
          "height": 34
        },
        "id": "iFJQwf_BAvZz",
        "outputId": "ec0010a7-a39f-4ee4-8b91-da602e6ec9c3"
      },
      "source": [
        "as.numeric(FALSE)"
      ],
      "execution_count": null,
      "outputs": [
        {
          "output_type": "display_data",
          "data": {
            "text/plain": [
              "[1] 0"
            ],
            "text/latex": "0",
            "text/markdown": "0",
            "text/html": [
              "0"
            ]
          },
          "metadata": {
            "tags": []
          }
        }
      ]
    },
    {
      "cell_type": "markdown",
      "metadata": {
        "id": "89sazEDh89ZF"
      },
      "source": [
        "* Convert `5` to an integer using `as.integer` and store as `x`\n",
        "* What is the data type of `x`?\n",
        "* Now add 5 to `x` and store as `y`.\n",
        "* What is the data type of `y`?"
      ]
    },
    {
      "cell_type": "code",
      "metadata": {
        "id": "KdWYuXXEAyjY"
      },
      "source": [
        "x <- as.integer(5)"
      ],
      "execution_count": null,
      "outputs": []
    },
    {
      "cell_type": "code",
      "metadata": {
        "colab": {
          "base_uri": "https://localhost:8080/",
          "height": 34
        },
        "id": "J4L3A7uiA9wj",
        "outputId": "e1867b4f-cc40-4afb-8de6-cbd16e65f73c"
      },
      "source": [
        "typeof(x)"
      ],
      "execution_count": null,
      "outputs": [
        {
          "output_type": "display_data",
          "data": {
            "text/plain": [
              "[1] \"integer\""
            ],
            "text/latex": "'integer'",
            "text/markdown": "'integer'",
            "text/html": [
              "'integer'"
            ]
          },
          "metadata": {
            "tags": []
          }
        }
      ]
    },
    {
      "cell_type": "code",
      "metadata": {
        "colab": {
          "base_uri": "https://localhost:8080/",
          "height": 34
        },
        "id": "PtC7CJQ1A_dC",
        "outputId": "3d277fef-64c9-4267-fee8-1e564717f9b3"
      },
      "source": [
        "y <- x + 5\n",
        "y"
      ],
      "execution_count": null,
      "outputs": [
        {
          "output_type": "display_data",
          "data": {
            "text/plain": [
              "[1] 10"
            ],
            "text/latex": "10",
            "text/markdown": "10",
            "text/html": [
              "10"
            ]
          },
          "metadata": {
            "tags": []
          }
        }
      ]
    },
    {
      "cell_type": "code",
      "metadata": {
        "colab": {
          "base_uri": "https://localhost:8080/",
          "height": 34
        },
        "id": "F1I2tAfZBL27",
        "outputId": "46dea93c-6b88-4331-a0bc-ed3c90227918"
      },
      "source": [
        "typeof(y)"
      ],
      "execution_count": null,
      "outputs": [
        {
          "output_type": "display_data",
          "data": {
            "text/plain": [
              "[1] \"double\""
            ],
            "text/latex": "'double'",
            "text/markdown": "'double'",
            "text/html": [
              "'double'"
            ]
          },
          "metadata": {
            "tags": []
          }
        }
      ]
    },
    {
      "cell_type": "markdown",
      "metadata": {
        "id": "4NE2z0W5m1Af"
      },
      "source": [
        "* What is the data type of the script `3 * 2 + 0i`? Why?"
      ]
    },
    {
      "cell_type": "code",
      "metadata": {
        "colab": {
          "base_uri": "https://localhost:8080/",
          "height": 34
        },
        "id": "YcqOFEKhBWJr",
        "outputId": "b87cb6f5-d199-4dd9-9aed-602d965672df"
      },
      "source": [
        "typeof(3 * 2 + 0i)"
      ],
      "execution_count": null,
      "outputs": [
        {
          "output_type": "display_data",
          "data": {
            "text/plain": [
              "[1] \"complex\""
            ],
            "text/latex": "'complex'",
            "text/markdown": "'complex'",
            "text/html": [
              "'complex'"
            ]
          },
          "metadata": {
            "tags": []
          }
        }
      ]
    }
  ]
}