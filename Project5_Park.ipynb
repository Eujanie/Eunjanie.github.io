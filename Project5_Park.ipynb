{
  "nbformat": 4,
  "nbformat_minor": 0,
  "metadata": {
    "colab": {
      "provenance": []
    },
    "kernelspec": {
      "name": "ir",
      "display_name": "R"
    }
  },
  "cells": [
    {
      "cell_type": "markdown",
      "metadata": {
        "id": "gtETsh5j8vHw"
      },
      "source": [
        "# **Homework 5 (21 points)**\n",
        "\n",
        "#### **WRITE YOUR NAME HERE**\n"
      ]
    },
    {
      "cell_type": "markdown",
      "metadata": {
        "id": "hVSLQqLnfUUD"
      },
      "source": [
        "For this assignment, I would like you to complete Tasks 1 through 3 of the project. I have included these tasks below\n",
        "\n",
        "<br>\n",
        "\n",
        "---\n",
        "\n",
        "<br>\n",
        "\n",
        "Please follow the directions below carefully:\n",
        "\n",
        "- <font color=red>Tasks</font> indicated in red must be completed to receive credit\n",
        "- Include all code for your work\n",
        "- Comment all code using the `#`. This is a must!\n",
        "- Include markdown cells with written answers explaining your work when prompted\n",
        "- **NOTE: Your completed project must be submitted to Canvas as a .ipynb file by the assigned due date**\n",
        "\n"
      ]
    },
    {
      "cell_type": "markdown",
      "metadata": {
        "id": "iAq-0mHOk47g"
      },
      "source": [
        "<br>\n",
        "\n",
        "---\n",
        "\n",
        "<br>\n",
        "\n",
        "\n",
        "\n",
        "\n"
      ]
    },
    {
      "cell_type": "markdown",
      "metadata": {
        "id": "ARFdaNITmap5"
      },
      "source": [
        "## Data\n",
        "\n",
        "Data for the project is available [here](https://raw.githubusercontent.com/khasenst/datasets_teaching/main/copd_data_project.csv). A data dictionary describing the meaning of each of the variables in the dataset is available in the Project module in Canvas."
      ]
    },
    {
      "cell_type": "markdown",
      "metadata": {
        "id": "JnFw01WcmX4_"
      },
      "source": [
        "<br>\n",
        "\n",
        "---\n",
        "\n",
        "<br>\n",
        "\n",
        "\n",
        "\n",
        "\n"
      ]
    },
    {
      "cell_type": "markdown",
      "metadata": {
        "id": "pysEPMTuhyZs"
      },
      "source": [
        "## Introduction\n",
        "\n",
        "Chronic obstructive pulmonary disease (COPD) affects over 16 million Americans and is the fourth leading cause of death in the United States behind heart disease, cancer, and accidental death. While COPD can result from various toxic inhalations or asthma, it is most commonly associated with cigarette smoking. \n",
        "\n",
        "<br>\n",
        "\n",
        "COPD severity is typically measured by a device called a spirometer. Patients forcefully exhale into the device and the volume of air exhaled is used as a measure for the severity of disease (less air exhaled $\\Rightarrow$ worse disease). Data collected by the COPDGene research group includes spirometry data on thousands of research participants.\n",
        "\n",
        "<br>\n",
        "\n",
        "Spirometry measures in the dataset:\n",
        "* The forced expiratory volume (`FEV1`) is the volume of air exhaled in 1 second\n",
        "* The forced vital capacity (`FVC`) is the total volume of air exhaled after a full breath\n",
        "* `FEV1_FVC_ratio` is the ratio between `FEV1` and `FVC` (smaller $\\Rightarrow$ worse disease)\n",
        "* `FEV1_phase2` is the `FEV1` of research participants 5 years later\n",
        "\n",
        "<br>\n",
        "\n",
        "You overall task in this project is to analyze the relationship between FEV1 at follow-up `FEV1_phase2` and other variables in the dataset. The project has been organized into a series of tasks to assist you with your analysis organization."
      ]
    },
    {
      "cell_type": "markdown",
      "metadata": {
        "id": "sn_ZvQJyk0fh"
      },
      "source": [
        "<br>\n",
        "\n",
        "---\n",
        "\n",
        "<br>\n",
        "\n",
        "\n",
        "\n",
        "\n"
      ]
    },
    {
      "cell_type": "markdown",
      "metadata": {
        "id": "MfKT4gy91QKV"
      },
      "source": [
        "####<font color=red>Organized</font> (1 points)\n",
        "* Answers should be organized in the following format for organization and readability\n",
        "\n",
        "<br>\n",
        "\n",
        "```\n",
        "# 1. \n",
        "This will be the code block to answer the first part of a task\n",
        "```\n",
        "\n",
        "1. This will be the text answer/explanation (if prompted) for the first task\n",
        "\n",
        "```\n",
        "# 2. \n",
        "This will be the code block to answer the second part of a task in a separate code cell\n",
        "```\n",
        "\n",
        "2. This will be the text answer/explanation (if prompted) for the second task\n",
        "\n",
        "<br>\n",
        "\n",
        "Continue this format for the remaining subtasks\n"
      ]
    },
    {
      "cell_type": "markdown",
      "metadata": {
        "id": "YfKhJv3Q1PBh"
      },
      "source": [
        "<br>\n",
        "\n",
        "---\n",
        "\n",
        "<br>\n",
        "\n",
        "\n",
        "\n",
        "\n"
      ]
    },
    {
      "cell_type": "markdown",
      "metadata": {
        "id": "Ek6IuNtolHgW"
      },
      "source": [
        "####<font color=red>Task 1</font> (6 points)\n",
        "\n",
        "1. Load the COPDGene dataset and show the first few lines.\n",
        "2. Remove the NAs from the dataset and store as `dat1`. How many rows does `dat1` contain? Answer in a complete sentence.\n",
        "3. Select all rows in the dataset where `FEV1_phase2` is `NA` and store as `dat2`. How many rows does `dat2` contain? Answer in a complete sentence.\n"
      ]
    },
    {
      "cell_type": "code",
      "metadata": {
        "colab": {
          "base_uri": "https://localhost:8080/",
          "height": 301
        },
        "id": "T9FXeZqoC6-k",
        "outputId": "16df7858-7287-4214-e943-9e37d6087903"
      },
      "source": [
        "#1\n",
        "dat <- read.csv(\"https://raw.githubusercontent.com/khasenst/datasets_teaching/main/copd_data_project.csv\")\n",
        "head(dat)"
      ],
      "execution_count": null,
      "outputs": [
        {
          "output_type": "display_data",
          "data": {
            "text/plain": [
              "  sid    visit_year visit_date visit_age gender race  height_cm weight_kg sysBP\n",
              "1 10005Q 2008       1/15/2008  54.5      Female White 159.9      73.0     130  \n",
              "2 10006S 2008       1/15/2008  62.3      Female White 162.6      86.0     170  \n",
              "3 10010J 2008       1/15/2008  65.9      Female White 162.1      62.8      96  \n",
              "4 10015T 2008       2/15/2008  59.6      Male   White 182.9     110.0     142  \n",
              "5 10017X 2008       6/15/2008  67.5      Male   White 179.1      83.0     106  \n",
              "6 10022Q 2008       2/15/2008  69.8      Female White 158.8      78.0     122  \n",
              "  diasBP ⋯ total_lung_capacity pct_emphysema functional_residual_capacity\n",
              "1 80     ⋯ 5.6636               0.926851      2.4766                     \n",
              "2 80     ⋯ 5.2325              14.005900     -1.0000                     \n",
              "3 63     ⋯ 5.1960               1.683760      3.8993                     \n",
              "4 88     ⋯ 6.3971               9.330450     -1.0000                     \n",
              "5 72     ⋯ 7.8935              36.262400      4.1043                     \n",
              "6 78     ⋯ 5.1016              30.484400     -1.0000                     \n",
              "  pct_gastrapping insp_meanatt exp_meanatt FEV1_FVC_ratio FEV1  FVC  \n",
              "1  6.80077        -830.343     -650.526    0.77           2.921 3.805\n",
              "2 -1.00000        -841.880       -1.000    0.43           1.288 3.022\n",
              "3 41.34930        -833.429     -789.595    0.53           1.008 1.909\n",
              "4 -1.00000        -841.315       -1.000    0.51           1.906 3.732\n",
              "5 46.17690        -887.947     -792.397    0.57           2.748 4.827\n",
              "6 -1.00000        -865.608       -1.000    0.53           1.076 2.047\n",
              "  FEV1_phase2\n",
              "1 2.622      \n",
              "2    NA      \n",
              "3 1.087      \n",
              "4 2.002      \n",
              "5 2.178      \n",
              "6 0.924      "
            ],
            "text/latex": "A data.frame: 6 × 35\n\\begin{tabular}{r|lllllllllllllllllllll}\n  & sid & visit\\_year & visit\\_date & visit\\_age & gender & race & height\\_cm & weight\\_kg & sysBP & diasBP & ⋯ & total\\_lung\\_capacity & pct\\_emphysema & functional\\_residual\\_capacity & pct\\_gastrapping & insp\\_meanatt & exp\\_meanatt & FEV1\\_FVC\\_ratio & FEV1 & FVC & FEV1\\_phase2\\\\\n  & <chr> & <int> & <chr> & <dbl> & <chr> & <chr> & <dbl> & <dbl> & <int> & <int> & ⋯ & <dbl> & <dbl> & <dbl> & <dbl> & <dbl> & <dbl> & <dbl> & <dbl> & <dbl> & <dbl>\\\\\n\\hline\n\t1 & 10005Q & 2008 & 1/15/2008 & 54.5 & Female & White & 159.9 &  73.0 & 130 & 80 & ⋯ & 5.6636 &  0.926851 &  2.4766 &  6.80077 & -830.343 & -650.526 & 0.77 & 2.921 & 3.805 & 2.622\\\\\n\t2 & 10006S & 2008 & 1/15/2008 & 62.3 & Female & White & 162.6 &  86.0 & 170 & 80 & ⋯ & 5.2325 & 14.005900 & -1.0000 & -1.00000 & -841.880 &   -1.000 & 0.43 & 1.288 & 3.022 &    NA\\\\\n\t3 & 10010J & 2008 & 1/15/2008 & 65.9 & Female & White & 162.1 &  62.8 &  96 & 63 & ⋯ & 5.1960 &  1.683760 &  3.8993 & 41.34930 & -833.429 & -789.595 & 0.53 & 1.008 & 1.909 & 1.087\\\\\n\t4 & 10015T & 2008 & 2/15/2008 & 59.6 & Male   & White & 182.9 & 110.0 & 142 & 88 & ⋯ & 6.3971 &  9.330450 & -1.0000 & -1.00000 & -841.315 &   -1.000 & 0.51 & 1.906 & 3.732 & 2.002\\\\\n\t5 & 10017X & 2008 & 6/15/2008 & 67.5 & Male   & White & 179.1 &  83.0 & 106 & 72 & ⋯ & 7.8935 & 36.262400 &  4.1043 & 46.17690 & -887.947 & -792.397 & 0.57 & 2.748 & 4.827 & 2.178\\\\\n\t6 & 10022Q & 2008 & 2/15/2008 & 69.8 & Female & White & 158.8 &  78.0 & 122 & 78 & ⋯ & 5.1016 & 30.484400 & -1.0000 & -1.00000 & -865.608 &   -1.000 & 0.53 & 1.076 & 2.047 & 0.924\\\\\n\\end{tabular}\n",
            "text/markdown": "\nA data.frame: 6 × 35\n\n| <!--/--> | sid &lt;chr&gt; | visit_year &lt;int&gt; | visit_date &lt;chr&gt; | visit_age &lt;dbl&gt; | gender &lt;chr&gt; | race &lt;chr&gt; | height_cm &lt;dbl&gt; | weight_kg &lt;dbl&gt; | sysBP &lt;int&gt; | diasBP &lt;int&gt; | ⋯ ⋯ | total_lung_capacity &lt;dbl&gt; | pct_emphysema &lt;dbl&gt; | functional_residual_capacity &lt;dbl&gt; | pct_gastrapping &lt;dbl&gt; | insp_meanatt &lt;dbl&gt; | exp_meanatt &lt;dbl&gt; | FEV1_FVC_ratio &lt;dbl&gt; | FEV1 &lt;dbl&gt; | FVC &lt;dbl&gt; | FEV1_phase2 &lt;dbl&gt; |\n|---|---|---|---|---|---|---|---|---|---|---|---|---|---|---|---|---|---|---|---|---|---|\n| 1 | 10005Q | 2008 | 1/15/2008 | 54.5 | Female | White | 159.9 |  73.0 | 130 | 80 | ⋯ | 5.6636 |  0.926851 |  2.4766 |  6.80077 | -830.343 | -650.526 | 0.77 | 2.921 | 3.805 | 2.622 |\n| 2 | 10006S | 2008 | 1/15/2008 | 62.3 | Female | White | 162.6 |  86.0 | 170 | 80 | ⋯ | 5.2325 | 14.005900 | -1.0000 | -1.00000 | -841.880 |   -1.000 | 0.43 | 1.288 | 3.022 |    NA |\n| 3 | 10010J | 2008 | 1/15/2008 | 65.9 | Female | White | 162.1 |  62.8 |  96 | 63 | ⋯ | 5.1960 |  1.683760 |  3.8993 | 41.34930 | -833.429 | -789.595 | 0.53 | 1.008 | 1.909 | 1.087 |\n| 4 | 10015T | 2008 | 2/15/2008 | 59.6 | Male   | White | 182.9 | 110.0 | 142 | 88 | ⋯ | 6.3971 |  9.330450 | -1.0000 | -1.00000 | -841.315 |   -1.000 | 0.51 | 1.906 | 3.732 | 2.002 |\n| 5 | 10017X | 2008 | 6/15/2008 | 67.5 | Male   | White | 179.1 |  83.0 | 106 | 72 | ⋯ | 7.8935 | 36.262400 |  4.1043 | 46.17690 | -887.947 | -792.397 | 0.57 | 2.748 | 4.827 | 2.178 |\n| 6 | 10022Q | 2008 | 2/15/2008 | 69.8 | Female | White | 158.8 |  78.0 | 122 | 78 | ⋯ | 5.1016 | 30.484400 | -1.0000 | -1.00000 | -865.608 |   -1.000 | 0.53 | 1.076 | 2.047 | 0.924 |\n\n",
            "text/html": [
              "<table class=\"dataframe\">\n",
              "<caption>A data.frame: 6 × 35</caption>\n",
              "<thead>\n",
              "\t<tr><th></th><th scope=col>sid</th><th scope=col>visit_year</th><th scope=col>visit_date</th><th scope=col>visit_age</th><th scope=col>gender</th><th scope=col>race</th><th scope=col>height_cm</th><th scope=col>weight_kg</th><th scope=col>sysBP</th><th scope=col>diasBP</th><th scope=col>⋯</th><th scope=col>total_lung_capacity</th><th scope=col>pct_emphysema</th><th scope=col>functional_residual_capacity</th><th scope=col>pct_gastrapping</th><th scope=col>insp_meanatt</th><th scope=col>exp_meanatt</th><th scope=col>FEV1_FVC_ratio</th><th scope=col>FEV1</th><th scope=col>FVC</th><th scope=col>FEV1_phase2</th></tr>\n",
              "\t<tr><th></th><th scope=col>&lt;chr&gt;</th><th scope=col>&lt;int&gt;</th><th scope=col>&lt;chr&gt;</th><th scope=col>&lt;dbl&gt;</th><th scope=col>&lt;chr&gt;</th><th scope=col>&lt;chr&gt;</th><th scope=col>&lt;dbl&gt;</th><th scope=col>&lt;dbl&gt;</th><th scope=col>&lt;int&gt;</th><th scope=col>&lt;int&gt;</th><th scope=col>⋯</th><th scope=col>&lt;dbl&gt;</th><th scope=col>&lt;dbl&gt;</th><th scope=col>&lt;dbl&gt;</th><th scope=col>&lt;dbl&gt;</th><th scope=col>&lt;dbl&gt;</th><th scope=col>&lt;dbl&gt;</th><th scope=col>&lt;dbl&gt;</th><th scope=col>&lt;dbl&gt;</th><th scope=col>&lt;dbl&gt;</th><th scope=col>&lt;dbl&gt;</th></tr>\n",
              "</thead>\n",
              "<tbody>\n",
              "\t<tr><th scope=row>1</th><td>10005Q</td><td>2008</td><td>1/15/2008</td><td>54.5</td><td>Female</td><td>White</td><td>159.9</td><td> 73.0</td><td>130</td><td>80</td><td>⋯</td><td>5.6636</td><td> 0.926851</td><td> 2.4766</td><td> 6.80077</td><td>-830.343</td><td>-650.526</td><td>0.77</td><td>2.921</td><td>3.805</td><td>2.622</td></tr>\n",
              "\t<tr><th scope=row>2</th><td>10006S</td><td>2008</td><td>1/15/2008</td><td>62.3</td><td>Female</td><td>White</td><td>162.6</td><td> 86.0</td><td>170</td><td>80</td><td>⋯</td><td>5.2325</td><td>14.005900</td><td>-1.0000</td><td>-1.00000</td><td>-841.880</td><td>  -1.000</td><td>0.43</td><td>1.288</td><td>3.022</td><td>   NA</td></tr>\n",
              "\t<tr><th scope=row>3</th><td>10010J</td><td>2008</td><td>1/15/2008</td><td>65.9</td><td>Female</td><td>White</td><td>162.1</td><td> 62.8</td><td> 96</td><td>63</td><td>⋯</td><td>5.1960</td><td> 1.683760</td><td> 3.8993</td><td>41.34930</td><td>-833.429</td><td>-789.595</td><td>0.53</td><td>1.008</td><td>1.909</td><td>1.087</td></tr>\n",
              "\t<tr><th scope=row>4</th><td>10015T</td><td>2008</td><td>2/15/2008</td><td>59.6</td><td>Male  </td><td>White</td><td>182.9</td><td>110.0</td><td>142</td><td>88</td><td>⋯</td><td>6.3971</td><td> 9.330450</td><td>-1.0000</td><td>-1.00000</td><td>-841.315</td><td>  -1.000</td><td>0.51</td><td>1.906</td><td>3.732</td><td>2.002</td></tr>\n",
              "\t<tr><th scope=row>5</th><td>10017X</td><td>2008</td><td>6/15/2008</td><td>67.5</td><td>Male  </td><td>White</td><td>179.1</td><td> 83.0</td><td>106</td><td>72</td><td>⋯</td><td>7.8935</td><td>36.262400</td><td> 4.1043</td><td>46.17690</td><td>-887.947</td><td>-792.397</td><td>0.57</td><td>2.748</td><td>4.827</td><td>2.178</td></tr>\n",
              "\t<tr><th scope=row>6</th><td>10022Q</td><td>2008</td><td>2/15/2008</td><td>69.8</td><td>Female</td><td>White</td><td>158.8</td><td> 78.0</td><td>122</td><td>78</td><td>⋯</td><td>5.1016</td><td>30.484400</td><td>-1.0000</td><td>-1.00000</td><td>-865.608</td><td>  -1.000</td><td>0.53</td><td>1.076</td><td>2.047</td><td>0.924</td></tr>\n",
              "</tbody>\n",
              "</table>\n"
            ]
          },
          "metadata": {
            "tags": []
          }
        }
      ]
    },
    {
      "cell_type": "code",
      "metadata": {
        "colab": {
          "base_uri": "https://localhost:8080/",
          "height": 35
        },
        "id": "c9ECn0j1DZ8C",
        "outputId": "fae54494-3221-41d3-c241-34cc330cfb3a"
      },
      "source": [
        "#2\n",
        "dat1 <- na.omit(dat)    #Professor, I tried subset fuction at here and I go 4000 as well. \n",
        "                        #However I'm wondering why wasn't work to mean and sd function if dat1 is made by subse funtion..\n",
        "nrow(dat1)\n"
      ],
      "execution_count": null,
      "outputs": [
        {
          "output_type": "display_data",
          "data": {
            "text/plain": [
              "[1] 4000"
            ],
            "text/latex": "4000",
            "text/markdown": "4000",
            "text/html": [
              "4000"
            ]
          },
          "metadata": {
            "tags": []
          }
        }
      ]
    },
    {
      "cell_type": "markdown",
      "metadata": {
        "id": "HPHYVVpEKyJB"
      },
      "source": [
        "2. The number of removed 'NA' row is 4000."
      ]
    },
    {
      "cell_type": "code",
      "metadata": {
        "colab": {
          "base_uri": "https://localhost:8080/",
          "height": 35
        },
        "id": "WiXGSpoFEmW4",
        "outputId": "28dba705-17a4-4677-9687-adb460652bfb"
      },
      "source": [
        "#3\n",
        "dat2 <- subset(dat,FEV1_phase2!=\"NA\")\n",
        "nrow(dat)-nrow(dat2)\n",
        "\n"
      ],
      "execution_count": null,
      "outputs": [
        {
          "output_type": "display_data",
          "data": {
            "text/plain": [
              "[1] 1747"
            ],
            "text/latex": "1747",
            "text/markdown": "1747",
            "text/html": [
              "1747"
            ]
          },
          "metadata": {
            "tags": []
          }
        }
      ]
    },
    {
      "cell_type": "markdown",
      "metadata": {
        "id": "dWPUlqbZ2kxu"
      },
      "source": [
        "3. The number of 'NA' row is 1747."
      ]
    },
    {
      "cell_type": "markdown",
      "metadata": {
        "id": "3IIpgatI3tCV"
      },
      "source": [
        "<br>\n",
        "\n",
        "---\n",
        "\n",
        "<br>\n",
        "\n",
        "\n",
        "\n",
        "\n"
      ]
    },
    {
      "cell_type": "markdown",
      "metadata": {
        "id": "uTE55FDFqjO1"
      },
      "source": [
        "####<font color=red>Task 2</font> (8 points)\n",
        "\n",
        "1. From `dat1`, plot the histogram of `FEV1`\n",
        "2. Calculate the percentage of `FEV1` values within one standard deviation of its mean. Answer in a complete sentence.\n",
        "3. Calculate the percentage of `FEV1` values within 2 standard deviations of its mean. Answer in a complete sentence.\n",
        "4. Use your answers from 2.1-2.3 to determine if the FEV1 variable is approximately normally distributed.\n"
      ]
    },
    {
      "cell_type": "code",
      "metadata": {
        "colab": {
          "base_uri": "https://localhost:8080/",
          "height": 437
        },
        "id": "Fj1VWgUGSzlf",
        "outputId": "d57f4674-cbe1-4ca9-8b3a-d18a4628b54f"
      },
      "source": [
        "#2.1\n",
        "hist(dat1$FEV1)"
      ],
      "execution_count": null,
      "outputs": [
        {
          "output_type": "display_data",
          "data": {
            "image/png": "[encoded data removed]",
            "text/plain": [
              "Plot with title “Histogram of dat1$FEV1”"
            ]
          },
          "metadata": {
            "tags": [],
            "image/png": {
              "width": 420,
              "height": 420
            }
          }
        }
      ]
    },
    {
      "cell_type": "code",
      "metadata": {
        "colab": {
          "base_uri": "https://localhost:8080/",
          "height": 104
        },
        "id": "QxIZX3c02vTx",
        "outputId": "5665ee41-5c97-47dc-a1d2-94e06b84275a"
      },
      "source": [
        "#2.2\n",
        "mean(dat1$FEV1)\n",
        "sd(dat1$FEV1)\n",
        "sum <- sum(dat1$FEV1<mean(dat1$FEV1)+sd(dat1$FEV1) & dat1$FEV1>mean(dat1$FEV1)-sd(dat1$FEV1))\n",
        "sum\n",
        "length(dat1$FEV1)\n",
        "sum/length(dat1$FEV1)"
      ],
      "execution_count": null,
      "outputs": [
        {
          "output_type": "display_data",
          "data": {
            "text/plain": [
              "[1] 2.31065"
            ],
            "text/latex": "2.31065025",
            "text/markdown": "2.31065025",
            "text/html": [
              "2.31065025"
            ]
          },
          "metadata": {
            "tags": []
          }
        },
        {
          "output_type": "display_data",
          "data": {
            "text/plain": [
              "[1] 0.8736347"
            ],
            "text/latex": "0.873634658369283",
            "text/markdown": "0.873634658369283",
            "text/html": [
              "0.873634658369283"
            ]
          },
          "metadata": {
            "tags": []
          }
        },
        {
          "output_type": "display_data",
          "data": {
            "text/plain": [
              "[1] 2703"
            ],
            "text/latex": "2703",
            "text/markdown": "2703",
            "text/html": [
              "2703"
            ]
          },
          "metadata": {
            "tags": []
          }
        },
        {
          "output_type": "display_data",
          "data": {
            "text/plain": [
              "[1] 4000"
            ],
            "text/latex": "4000",
            "text/markdown": "4000",
            "text/html": [
              "4000"
            ]
          },
          "metadata": {
            "tags": []
          }
        },
        {
          "output_type": "display_data",
          "data": {
            "text/plain": [
              "[1] 0.67575"
            ],
            "text/latex": "0.67575",
            "text/markdown": "0.67575",
            "text/html": [
              "0.67575"
            ]
          },
          "metadata": {
            "tags": []
          }
        }
      ]
    },
    {
      "cell_type": "markdown",
      "metadata": {
        "id": "yEZIPLaHmKEq"
      },
      "source": [
        "2.2 Percentage of FEV1 values within one standard deviation is 67.6%."
      ]
    },
    {
      "cell_type": "code",
      "metadata": {
        "colab": {
          "base_uri": "https://localhost:8080/",
          "height": 69
        },
        "id": "-d5GwVQVmVIB",
        "outputId": "5f7abf5c-b95f-4c5f-f78a-612abc37961c"
      },
      "source": [
        "#2.3\n",
        "sum2 <- sum(dat1$FEV1 < mean(dat1$FEV1) + 2*sd(dat1$FEV1) & dat1$FEV1 > mean(dat1$FEV1) - 2*sd(dat1$FEV1))\n",
        "sum2\n",
        "length(dat1$FEV1)\n",
        "sum/length(dat1$FEV1)"
      ],
      "execution_count": null,
      "outputs": [
        {
          "output_type": "display_data",
          "data": {
            "text/plain": [
              "[1] 3870"
            ],
            "text/latex": "3870",
            "text/markdown": "3870",
            "text/html": [
              "3870"
            ]
          },
          "metadata": {
            "tags": []
          }
        },
        {
          "output_type": "display_data",
          "data": {
            "text/plain": [
              "[1] 4000"
            ],
            "text/latex": "4000",
            "text/markdown": "4000",
            "text/html": [
              "4000"
            ]
          },
          "metadata": {
            "tags": []
          }
        },
        {
          "output_type": "display_data",
          "data": {
            "text/plain": [
              "[1] 0.9675"
            ],
            "text/latex": "0.9675",
            "text/markdown": "0.9675",
            "text/html": [
              "0.9675"
            ]
          },
          "metadata": {
            "tags": []
          }
        }
      ]
    },
    {
      "cell_type": "markdown",
      "metadata": {
        "id": "NIJlPUeYm4V_"
      },
      "source": [
        "2.3  FEV1 values within two standard deviation is 96.8%."
      ]
    },
    {
      "cell_type": "markdown",
      "metadata": {
        "id": "0tsbUVEanUi9"
      },
      "source": [
        "2.4 Through 2.2 and 2.3, both percentages are close to normal distribution. Also we can see that histogram is symmetric. "
      ]
    },
    {
      "cell_type": "markdown",
      "metadata": {
        "id": "tc808tSC7EC1"
      },
      "source": [
        "<br>\n",
        "\n",
        "---\n",
        "\n",
        "<br>\n",
        "\n",
        "\n",
        "\n",
        "\n"
      ]
    },
    {
      "cell_type": "markdown",
      "metadata": {
        "id": "IL8Y8fyP7EDV"
      },
      "source": [
        "####<font color=red>Task 3</font> (6 points)\n",
        "\n",
        "1. From `dat1`, find two other numeric variables and plot their histograms.\n",
        "2. Describe the histogram of the FIRST variable you chose.\n",
        "    * Range, standard deviation, skewness or symmetry, mean, normally distributed, outlier observations etc.\n",
        "    * You may use R functions to help you answer and describe the distribution\n",
        "    * Answer in complete sentences in a paragraph\n",
        "3. Describe the histogram of the SECOND variable you chose.\n",
        "    * Range, standard deviation, skewness or symmetry, mean, normally distributed, outlier observations etc.\n",
        "    * You may use R functions to help you answer and describe the distribution\n",
        "    * Answer in complete sentences in a paragraph"
      ]
    },
    {
      "cell_type": "code",
      "metadata": {
        "colab": {
          "base_uri": "https://localhost:8080/",
          "height": 437
        },
        "id": "pZjIDn2_hu8R",
        "outputId": "0909258a-8f63-4bdf-d68b-d4660bc5154e"
      },
      "source": [
        "#3.2\n",
        "hist(dat1$visit_age)"
      ],
      "execution_count": null,
      "outputs": [
        {
          "output_type": "display_data",
          "data": {
            "image/png": "[encoded data removed]",
            "text/plain": [
              "Plot with title “Histogram of dat1$visit_age”"
            ]
          },
          "metadata": {
            "tags": [],
            "image/png": {
              "width": 420,
              "height": 420
            }
          }
        }
      ]
    },
    {
      "cell_type": "code",
      "metadata": {
        "colab": {
          "base_uri": "https://localhost:8080/",
          "height": 87
        },
        "id": "UbothaKFh0ui",
        "outputId": "a0b71226-a3ce-43c1-bffb-5a5a65fe3ba0"
      },
      "source": [
        "#3.2\n",
        "range(dat1$visit_age)\n",
        "sd(dat1$visit_age)\n",
        "median(dat1$visit_age)\n",
        "mean(dat1$visit_age)"
      ],
      "execution_count": null,
      "outputs": [
        {
          "output_type": "display_data",
          "data": {
            "text/plain": [
              "[1] 39 85"
            ],
            "text/latex": "\\begin{enumerate*}\n\\item 39\n\\item 85\n\\end{enumerate*}\n",
            "text/markdown": "1. 39\n2. 85\n\n\n",
            "text/html": [
              "<style>\n",
              ".list-inline {list-style: none; margin:0; padding: 0}\n",
              ".list-inline>li {display: inline-block}\n",
              ".list-inline>li:not(:last-child)::after {content: \"\\00b7\"; padding: 0 .5ex}\n",
              "</style>\n",
              "<ol class=list-inline><li>39</li><li>85</li></ol>\n"
            ]
          },
          "metadata": {
            "tags": []
          }
        },
        {
          "output_type": "display_data",
          "data": {
            "text/plain": [
              "[1] 8.611419"
            ],
            "text/latex": "8.61141895122188",
            "text/markdown": "8.61141895122188",
            "text/html": [
              "8.61141895122188"
            ]
          },
          "metadata": {
            "tags": []
          }
        },
        {
          "output_type": "display_data",
          "data": {
            "text/plain": [
              "[1] 59.4"
            ],
            "text/latex": "59.4",
            "text/markdown": "59.4",
            "text/html": [
              "59.4"
            ]
          },
          "metadata": {
            "tags": []
          }
        },
        {
          "output_type": "display_data",
          "data": {
            "text/plain": [
              "[1] 59.67142"
            ],
            "text/latex": "59.671425",
            "text/markdown": "59.671425",
            "text/html": [
              "59.671425"
            ]
          },
          "metadata": {
            "tags": []
          }
        }
      ]
    },
    {
      "cell_type": "markdown",
      "metadata": {
        "id": "Q5ViHJ3Hm8HY"
      },
      "source": [
        "3.2\n",
        "Range is between 39 and 85, standard deviation is about 8.61. Visit age of dat1 is almost symmetric since there is a little difference between median and mean. Both are almost same so symmetric and normally distributed. Mean is about 59.7. "
      ]
    },
    {
      "cell_type": "code",
      "metadata": {
        "colab": {
          "base_uri": "https://localhost:8080/",
          "height": 437
        },
        "id": "ntdxO9Rek7jt",
        "outputId": "fc9e1ff8-35c0-437e-93aa-3276e7acf2f9"
      },
      "source": [
        "#3.3\n",
        "hist(dat1$pct_emphysema)"
      ],
      "execution_count": null,
      "outputs": [
        {
          "output_type": "display_data",
          "data": {
            "image/png": "[encoded data removed]",
            "text/plain": [
              "Plot with title “Histogram of dat1$pct_emphysema”"
            ]
          },
          "metadata": {
            "tags": [],
            "image/png": {
              "width": 420,
              "height": 420
            }
          }
        }
      ]
    },
    {
      "cell_type": "code",
      "metadata": {
        "colab": {
          "base_uri": "https://localhost:8080/",
          "height": 87
        },
        "id": "PR7gzvi5n1JS",
        "outputId": "2661b85f-c280-4a1f-8431-d4325352126c"
      },
      "source": [
        "range(dat1$pct_emphysema)\n",
        "sd(dat1$pct_emphysema)\n",
        "median(dat1$pct_emphysema)\n",
        "mean(dat1$pct_emphysema)"
      ],
      "execution_count": null,
      "outputs": [
        {
          "output_type": "display_data",
          "data": {
            "text/plain": [
              "[1] -1.0000 56.0577"
            ],
            "text/latex": "\\begin{enumerate*}\n\\item -1\n\\item 56.0577\n\\end{enumerate*}\n",
            "text/markdown": "1. -1\n2. 56.0577\n\n\n",
            "text/html": [
              "<style>\n",
              ".list-inline {list-style: none; margin:0; padding: 0}\n",
              ".list-inline>li {display: inline-block}\n",
              ".list-inline>li:not(:last-child)::after {content: \"\\00b7\"; padding: 0 .5ex}\n",
              "</style>\n",
              "<ol class=list-inline><li>-1</li><li>56.0577</li></ol>\n"
            ]
          },
          "metadata": {
            "tags": []
          }
        },
        {
          "output_type": "display_data",
          "data": {
            "text/plain": [
              "[1] 7.920193"
            ],
            "text/latex": "7.9201930799684",
            "text/markdown": "7.9201930799684",
            "text/html": [
              "7.9201930799684"
            ]
          },
          "metadata": {
            "tags": []
          }
        },
        {
          "output_type": "display_data",
          "data": {
            "text/plain": [
              "[1] 1.168175"
            ],
            "text/latex": "1.168175",
            "text/markdown": "1.168175",
            "text/html": [
              "1.168175"
            ]
          },
          "metadata": {
            "tags": []
          }
        },
        {
          "output_type": "display_data",
          "data": {
            "text/plain": [
              "[1] 4.218915"
            ],
            "text/latex": "4.2189148085855",
            "text/markdown": "4.2189148085855",
            "text/html": [
              "4.2189148085855"
            ]
          },
          "metadata": {
            "tags": []
          }
        }
      ]
    },
    {
      "cell_type": "markdown",
      "metadata": {
        "id": "J-y5z-BvoVfM"
      },
      "source": [
        "3.3 About the histogram of percentage of emphysema the range is between -1 and 56.1. The standard deviation is 7.92 and right skewed. Since mean> median and most data falls to the right as histogram showing up. Mean is about 4.22. The outlier exists for high percentage of emphysema."
      ]
    }
  ]
}