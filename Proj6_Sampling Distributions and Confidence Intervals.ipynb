{
  "nbformat": 4,
  "nbformat_minor": 0,
  "metadata": {
    "colab": {
      "provenance": []
    },
    "kernelspec": {
      "name": "ir",
      "display_name": "R"
    }
  },
  "cells": [
    {
      "cell_type": "markdown",
      "metadata": {
        "id": "gtETsh5j8vHw"
      },
      "source": [
        "# **Lab 6:Sampling Distributions and Confidence Intervals (20 points)**\n",
        "\n",
        "#### **WRITE YOUR NAME HERE**\n"
      ]
    },
    {
      "cell_type": "markdown",
      "metadata": {
        "id": "en9tcPcGuFyc"
      },
      "source": [
        "---\n",
        "**Instructions**: Complete the lab below.\n",
        "- <font color=red>Tasks</font> indicated in red must be completed to receive credit\n",
        "- Include all code for your work\n",
        "- Include markdown cells with written answers explaining your work when prompted\n",
        "- **NOTE: Your completed lab must be submitted to Canvas as a .ipynb file by the end of the lab session**\n",
        "---"
      ]
    },
    {
      "cell_type": "markdown",
      "metadata": {
        "id": "ZXUOzh4drf3V"
      },
      "source": [
        "\n",
        "\n",
        "\n",
        "<br>\n",
        "\n",
        "\n"
      ]
    },
    {
      "cell_type": "markdown",
      "metadata": {
        "id": "MfKT4gy91QKV"
      },
      "source": [
        "####<font color=red>Organized</font> (1 points)\n",
        "* Answers should be organized in the following format for organization and readability\n",
        "\n",
        "<br>\n",
        "\n",
        "```\n",
        "# 1. \n",
        "This will be the code block to answer the first part of a task\n",
        "```\n",
        "\n",
        "1. This will be the text answer/explanation (if prompted) for the first task\n",
        "\n",
        "```\n",
        "# 2. \n",
        "This will be the code block to answer the second part of a task in a separate code cell\n",
        "```\n",
        "\n",
        "2. This will be the text answer/explanation (if prompted) for the second task\n",
        "\n",
        "<br>\n",
        "\n",
        "Continue this format for the remaining subtasks\n"
      ]
    },
    {
      "cell_type": "markdown",
      "metadata": {
        "id": "YfKhJv3Q1PBh"
      },
      "source": [
        "<br>\n",
        "\n",
        "---\n",
        "\n",
        "<br>\n",
        "\n",
        "\n",
        "\n",
        "\n"
      ]
    },
    {
      "cell_type": "markdown",
      "metadata": {
        "id": "Ek6IuNtolHgW"
      },
      "source": [
        "####<font color=red>Task 1</font>  (4 points)\n",
        "\n",
        "1. Load the COPD dataset available [here](https://raw.githubusercontent.com/khasenst/datasets_teaching/main/copd_data_project.csv) as dataframe called `copd`\n",
        "\n",
        "2. Remove rows where `total_lung_capacity` is equal to -1.\n",
        "\n",
        "3. Remove rows where `emphysema` is equal to `\"unknown\"`\n",
        "\n",
        "4. How many rows does the `copd` dataframe have after removing the rows from Task 1.2 and Task 1.3? <br> [Hint: should between 4300 and 4400 rows]"
      ]
    },
    {
      "cell_type": "code",
      "metadata": {
        "id": "YPHpPV-gBw-N"
      },
      "source": [
        "# 1.\n",
        "# load copd dataset\n",
        "copd <- read.csv('https://raw.githubusercontent.com/khasenst/datasets_teaching/main/copd_data_project.csv', header = TRUE)"
      ],
      "execution_count": null,
      "outputs": []
    },
    {
      "cell_type": "code",
      "metadata": {
        "id": "gWSwAjxLD91b"
      },
      "source": [
        "# 2.\n",
        "copd <- copd[copd$total_lung_capacity != -1, ]"
      ],
      "execution_count": null,
      "outputs": []
    },
    {
      "cell_type": "code",
      "metadata": {
        "id": "KZ5fibt_B-BQ"
      },
      "source": [
        "# 3.\n",
        "copd <- copd[copd$emphysema != \"unknown\", ]"
      ],
      "execution_count": null,
      "outputs": []
    },
    {
      "cell_type": "code",
      "metadata": {
        "colab": {
          "base_uri": "https://localhost:8080/",
          "height": 34
        },
        "id": "pW4PxkfIEkA-",
        "outputId": "c38d8fc7-7fc6-4477-9e01-114913fccd16"
      },
      "source": [
        "# 4.\n",
        "nrow(copd)"
      ],
      "execution_count": null,
      "outputs": [
        {
          "output_type": "display_data",
          "data": {
            "text/plain": [
              "[1] 4367"
            ],
            "text/latex": "4367",
            "text/markdown": "4367",
            "text/html": [
              "4367"
            ]
          },
          "metadata": {
            "tags": []
          }
        }
      ]
    },
    {
      "cell_type": "markdown",
      "metadata": {
        "id": "Y9G8IhaEFCFh"
      },
      "source": [
        "<br>\n",
        "\n",
        "---\n",
        "\n",
        "<br>\n",
        "\n",
        "\n",
        "\n",
        "\n"
      ]
    },
    {
      "cell_type": "markdown",
      "metadata": {
        "id": "HGH38JdaFCF5"
      },
      "source": [
        "####<font color=red>Task 2</font>  (4 points)\n",
        "\n",
        "`total_lung_capacity` is the number of liters of air in the lungs. <br>\n",
        "`emphysema` is the emphysema diagnosis by a physician.\n",
        "\n",
        "<br>\n",
        "\n",
        "1. (2 points) Plot a histogram of `total_lung_capacity`. Describe what you observe in complete sentences (e.g., Range, skewness or symmetry, mean, normally distributed, etc.)\n",
        "\n",
        "2. (2 points) Plot a boxplot of `total_lung_capacity` vs `emphysema`. What do you observe in the context of the lung capacity and emphysema?\n",
        "```\n",
        "boxplot(copd$total_lung_capacity~copd$emphysema)\n",
        "```"
      ]
    },
    {
      "cell_type": "code",
      "metadata": {
        "colab": {
          "base_uri": "https://localhost:8080/",
          "height": 437
        },
        "id": "wJGtPunGCD_B",
        "outputId": "9f7c48d2-08cf-4c5e-e64b-ca6b87e4da53"
      },
      "source": [
        "# 1.\n",
        "hist(copd$total_lung_capacity)"
      ],
      "execution_count": null,
      "outputs": [
        {
          "output_type": "display_data",
          "data": {
            "image/png": "[encoded data removed]",
            "text/plain": [
              "Plot with title “Histogram of copd$total_lung_capacity”"
            ]
          },
          "metadata": {
            "tags": [],
            "image/png": {
              "width": 420,
              "height": 420
            }
          }
        }
      ]
    },
    {
      "cell_type": "code",
      "metadata": {
        "colab": {
          "base_uri": "https://localhost:8080/",
          "height": 437
        },
        "id": "y3D5BUelGXhu",
        "outputId": "5e0973d8-bcd0-4bcf-dd55-8c253a582664"
      },
      "source": [
        "# 2.\n",
        "boxplot(copd$total_lung_capacity~copd$emphysema)"
      ],
      "execution_count": null,
      "outputs": [
        {
          "output_type": "display_data",
          "data": {
            "image/png": "[encoded data removed]",
            "text/plain": [
              "plot without title"
            ]
          },
          "metadata": {
            "tags": [],
            "image/png": {
              "width": 420,
              "height": 420
            }
          }
        }
      ]
    },
    {
      "cell_type": "markdown",
      "metadata": {
        "id": "oqfkF7K0GscM"
      },
      "source": [
        "<br>\n",
        "\n",
        "---\n",
        "\n",
        "<br>\n",
        "\n",
        "\n",
        "\n",
        "\n"
      ]
    },
    {
      "cell_type": "markdown",
      "metadata": {
        "id": "wrEtBdZkGsci"
      },
      "source": [
        "####<font color=red>Task 3</font>  (4 points)\n",
        "\n",
        "1. Create a 95% confidence interval `total_lung_capacity` using the following command \n",
        "```\n",
        "t.test(copd$total_lung_capacity)$conf.int\n",
        "```\n",
        "What is the meaning of this confidence interval? Explain in the context of 95% probability.\n",
        "\n",
        "<br>\n",
        "\n",
        "2. Is the average lung capacity of the population less than 6 liters? Using the confidence interval to answer. Explain your reasoning in complete sentences.\n",
        "\n",
        "<br>\n",
        "\n",
        "3. Create a 95% confidence interval to compare the average `total_lung_capacity` between patients with and without `emphysema`using the following command \n",
        "```\n",
        "t.test( copd$total_lung_capacity ~ copd$emphysema )$conf.int\n",
        "```\n",
        "What is the meaning of this confidence interval? Explain in the context of 95% probability.\n",
        "\n",
        "<br>\n",
        "\n",
        "4. Based on the 95% confidence interval from Task 3.3, is the lung capacity for patients with emphysema significantly less than or greater than the lung capacity for patients without emphysema? Or are they not significantly different? <br> Explain how you came to your conclusion in complete sentences."
      ]
    },
    {
      "cell_type": "code",
      "metadata": {
        "colab": {
          "base_uri": "https://localhost:8080/",
          "height": 34
        },
        "id": "GDnIPAjLHI_U",
        "outputId": "a90330b2-4721-454d-d71e-0e17aae8ffeb"
      },
      "source": [
        "# 1.\n",
        "t.test(copd$total_lung_capacity)$conf.int"
      ],
      "execution_count": null,
      "outputs": [
        {
          "output_type": "display_data",
          "data": {
            "text/plain": [
              "[1] 5.482309 5.565455\n",
              "attr(,\"conf.level\")\n",
              "[1] 0.95"
            ],
            "text/latex": "\\begin{enumerate*}\n\\item 5.48230853903962\n\\item 5.56545495992992\n\\end{enumerate*}\n",
            "text/markdown": "1. 5.48230853903962\n2. 5.56545495992992\n\n\n",
            "text/html": [
              "<style>\n",
              ".list-inline {list-style: none; margin:0; padding: 0}\n",
              ".list-inline>li {display: inline-block}\n",
              ".list-inline>li:not(:last-child)::after {content: \"\\00b7\"; padding: 0 .5ex}\n",
              "</style>\n",
              "<ol class=list-inline><li>5.48230853903962</li><li>5.56545495992992</li></ol>\n"
            ]
          },
          "metadata": {
            "tags": []
          }
        }
      ]
    },
    {
      "cell_type": "markdown",
      "metadata": {
        "id": "xheB4GCQKt2q"
      },
      "source": [
        "1. The true population average lung capacity is between 5.48 and 5.57 with 95% probability."
      ]
    },
    {
      "cell_type": "markdown",
      "metadata": {
        "id": "PfxZNjMwK6Gi"
      },
      "source": [
        "2. The average total lung capacity is significantly less than 6 liters since 6 is not contained within the 95% confidence interval."
      ]
    },
    {
      "cell_type": "code",
      "metadata": {
        "colab": {
          "base_uri": "https://localhost:8080/",
          "height": 34
        },
        "id": "psH4ixkxHwrI",
        "outputId": "37e33bcf-1138-400e-cdde-68722069edc4"
      },
      "source": [
        "# 3.\n",
        "t.test( copd$total_lung_capacity ~ copd$emphysema )$conf.int"
      ],
      "execution_count": null,
      "outputs": [
        {
          "output_type": "display_data",
          "data": {
            "text/plain": [
              "[1] -0.6721065 -0.4612752\n",
              "attr(,\"conf.level\")\n",
              "[1] 0.95"
            ],
            "text/latex": "\\begin{enumerate*}\n\\item -0.672106478819779\n\\item -0.461275193711688\n\\end{enumerate*}\n",
            "text/markdown": "1. -0.672106478819779\n2. -0.461275193711688\n\n\n",
            "text/html": [
              "<style>\n",
              ".list-inline {list-style: none; margin:0; padding: 0}\n",
              ".list-inline>li {display: inline-block}\n",
              ".list-inline>li:not(:last-child)::after {content: \"\\00b7\"; padding: 0 .5ex}\n",
              "</style>\n",
              "<ol class=list-inline><li>-0.672106478819779</li><li>-0.461275193711688</li></ol>\n"
            ]
          },
          "metadata": {
            "tags": []
          }
        }
      ]
    },
    {
      "cell_type": "markdown",
      "metadata": {
        "id": "s4mRg6FTLGku"
      },
      "source": [
        "3. With 95% probability, the true mean difference in lung capacity between patients with and without emphysema is between -0.67 and -0.46 liters. Confidence interval displayed in terms of $\\mu_{No} - \\mu_{Yes}$."
      ]
    },
    {
      "cell_type": "code",
      "metadata": {
        "id": "oMWdPrdb3BYT"
      },
      "source": [],
      "execution_count": null,
      "outputs": []
    },
    {
      "cell_type": "markdown",
      "metadata": {
        "id": "UIeRheW_LlFb"
      },
      "source": [
        "4. The lung capacity for patients without emphysema is significantly less than the lung capacity for patients with emphysema since the confidence interval is less than zero."
      ]
    },
    {
      "cell_type": "code",
      "metadata": {
        "colab": {
          "base_uri": "https://localhost:8080/",
          "height": 51
        },
        "id": "EOTkqxEcqb5a",
        "outputId": "91a5e7cc-9ac1-4b55-891d-cc61f0d11772"
      },
      "source": [
        "54 - 2 * (16/100 )\n",
        "54 + 2 * (16/100 )"
      ],
      "execution_count": null,
      "outputs": [
        {
          "output_type": "display_data",
          "data": {
            "text/plain": [
              "[1] 53.68"
            ],
            "text/latex": "53.68",
            "text/markdown": "53.68",
            "text/html": [
              "53.68"
            ]
          },
          "metadata": {
            "tags": []
          }
        },
        {
          "output_type": "display_data",
          "data": {
            "text/plain": [
              "[1] 54.32"
            ],
            "text/latex": "54.32",
            "text/markdown": "54.32",
            "text/html": [
              "54.32"
            ]
          },
          "metadata": {
            "tags": []
          }
        }
      ]
    },
    {
      "cell_type": "markdown",
      "metadata": {
        "id": "IEalWmt8JIRC"
      },
      "source": [
        "<br>\n",
        "\n",
        "---\n",
        "\n",
        "<br>\n",
        "\n",
        "\n",
        "\n",
        "\n"
      ]
    },
    {
      "cell_type": "markdown",
      "metadata": {
        "id": "ve9K--mmJIRO"
      },
      "source": [
        "####<font color=red>Task 4</font>  (7 points)\n",
        "\n",
        "1. Calculate the average of `total_lung_capacity` and store as `mean_tlc`. What is the average lung capacity? Answer in a complete sentence.\n",
        "\n",
        "<br>\n",
        "\n",
        "2. Use the `sample()` function to randomly sample 100 values from `total_lung_capacity`. Store the sample as `tlc_sample`. Print `tlc_sample`.\n",
        "\n",
        "<br>\n",
        "\n",
        "3. Use `t.test()` to store the confidence interval of `tlc_sample` as the variable `tlc_ci`. Print `tlc_ci`.\n",
        "\n",
        "<br>\n",
        "\n",
        "4. Use the following Boolean expression to determine if the \"true mean\" `mean_tlc` is in the interval.\n",
        "```\n",
        "mean_tlc > tlc_ci[1] & mean_tlc < tlc_ci[2]\n",
        "```\n",
        "Store as `tlc_bool` and print.\n",
        "\n",
        "<br>\n",
        "\n",
        "5. (2 points) Place the lines of code for Tasks 4.1 - 4.4 inside the following loop. Run the loop and print `count`.\n",
        "```\n",
        "# task 4.1 average lung capacity\n",
        "set.seed(10)\n",
        "mean_tlc <- mean(copd$total_lung_capacity)\n",
        "count <- 0\n",
        "for (ii in 1:10000) {\n",
        "\n",
        "  # task 4.2 sample from the \"population\"\n",
        "  tlc_sample <- \n",
        "\n",
        "  # task 4.3 calculate confidence interval\n",
        "  tlc_ci <- \n",
        "\n",
        "  # task 4.4 determine if \"true\" mean is in interval\n",
        "  tlc_bool <- \n",
        "\n",
        "  count <- count + tlc_bool\n",
        "}\n",
        "```\n",
        "The loop above creates 10,000 confidence intervals for `total_lung_capacity` and counts (`count`) the number of times the \"true\" population mean is contained within this interval.\n",
        "\n",
        "<br>\n",
        "\n",
        "6. What percentage of the time is the \"true\" population mean contained with the 10,000 confidence intervals? Answer in a complete sentence.\n",
        "\n",
        "<br>\n",
        "\n",
        "**Another intepretation**: If we were to resample the population over and over again, approximately 95% of the 95% confidence intervals from those samples should contain the true population mean!"
      ]
    },
    {
      "cell_type": "code",
      "metadata": {
        "colab": {
          "base_uri": "https://localhost:8080/",
          "height": 34
        },
        "id": "f0hiJeR3O4px",
        "outputId": "bf8a56d6-0043-4082-ccc0-b5ffe99aefd1"
      },
      "source": [
        "# 1.\n",
        "mean_tlc <- mean(copd$total_lung_capacity)\n",
        "mean_tlc"
      ],
      "execution_count": null,
      "outputs": [
        {
          "output_type": "display_data",
          "data": {
            "text/plain": [
              "[1] 5.523882"
            ],
            "text/latex": "5.52388174948477",
            "text/markdown": "5.52388174948477",
            "text/html": [
              "5.52388174948477"
            ]
          },
          "metadata": {
            "tags": []
          }
        }
      ]
    },
    {
      "cell_type": "code",
      "metadata": {
        "colab": {
          "base_uri": "https://localhost:8080/",
          "height": 102
        },
        "id": "VXYJxNpYPBpq",
        "outputId": "be81b66a-c4eb-4d8c-f1ed-93269ce25738"
      },
      "source": [
        "# 2. \n",
        "tlc_sample <- sample(copd$total_lung_capacity, 100)\n",
        "tlc_sample"
      ],
      "execution_count": null,
      "outputs": [
        {
          "output_type": "display_data",
          "data": {
            "text/plain": [
              "  [1] 5.4202 5.5532 6.3949 4.5707 3.6917 4.0161 4.1844 4.4310 6.4375 5.3213\n",
              " [11] 6.9433 6.0278 4.8023 4.8438 5.8114 7.6499 4.6677 5.9729 8.9445 7.8935\n",
              " [21] 7.1448 4.9674 4.4821 4.4291 5.6967 5.6917 6.9409 4.8695 7.0852 5.6437\n",
              " [31] 5.9689 5.4401 3.7915 5.2243 4.3384 6.3070 3.9943 4.3075 4.3551 5.1088\n",
              " [41] 4.0580 4.5653 4.1622 3.6083 7.5917 8.3529 3.8006 4.5594 3.9973 4.1814\n",
              " [51] 5.1497 5.5987 6.4748 4.7090 4.2508 7.2488 5.9262 5.2255 7.3333 4.8982\n",
              " [61] 7.8539 8.8910 6.8055 4.8754 5.8050 5.1448 4.1303 4.4519 6.7185 6.3399\n",
              " [71] 6.1895 7.3114 4.8354 4.0570 7.3232 5.6957 4.6234 5.6571 6.3123 5.4404\n",
              " [81] 5.2285 3.4489 7.5127 6.1975 4.4483 3.9112 4.8399 5.5582 7.4698 5.3880\n",
              " [91] 4.8634 5.3064 2.9204 4.4587 6.4996 7.7452 5.6612 3.6644 4.4304 4.4516"
            ],
            "text/latex": "\\begin{enumerate*}\n\\item 5.4202\n\\item 5.5532\n\\item 6.3949\n\\item 4.5707\n\\item 3.6917\n\\item 4.0161\n\\item 4.1844\n\\item 4.431\n\\item 6.4375\n\\item 5.3213\n\\item 6.9433\n\\item 6.0278\n\\item 4.8023\n\\item 4.8438\n\\item 5.8114\n\\item 7.6499\n\\item 4.6677\n\\item 5.9729\n\\item 8.9445\n\\item 7.8935\n\\item 7.1448\n\\item 4.9674\n\\item 4.4821\n\\item 4.4291\n\\item 5.6967\n\\item 5.6917\n\\item 6.9409\n\\item 4.8695\n\\item 7.0852\n\\item 5.6437\n\\item 5.9689\n\\item 5.4401\n\\item 3.7915\n\\item 5.2243\n\\item 4.3384\n\\item 6.307\n\\item 3.9943\n\\item 4.3075\n\\item 4.3551\n\\item 5.1088\n\\item 4.058\n\\item 4.5653\n\\item 4.1622\n\\item 3.6083\n\\item 7.5917\n\\item 8.3529\n\\item 3.8006\n\\item 4.5594\n\\item 3.9973\n\\item 4.1814\n\\item 5.1497\n\\item 5.5987\n\\item 6.4748\n\\item 4.709\n\\item 4.2508\n\\item 7.2488\n\\item 5.9262\n\\item 5.2255\n\\item 7.3333\n\\item 4.8982\n\\item 7.8539\n\\item 8.891\n\\item 6.8055\n\\item 4.8754\n\\item 5.805\n\\item 5.1448\n\\item 4.1303\n\\item 4.4519\n\\item 6.7185\n\\item 6.3399\n\\item 6.1895\n\\item 7.3114\n\\item 4.8354\n\\item 4.057\n\\item 7.3232\n\\item 5.6957\n\\item 4.6234\n\\item 5.6571\n\\item 6.3123\n\\item 5.4404\n\\item 5.2285\n\\item 3.4489\n\\item 7.5127\n\\item 6.1975\n\\item 4.4483\n\\item 3.9112\n\\item 4.8399\n\\item 5.5582\n\\item 7.4698\n\\item 5.388\n\\item 4.8634\n\\item 5.3064\n\\item 2.9204\n\\item 4.4587\n\\item 6.4996\n\\item 7.7452\n\\item 5.6612\n\\item 3.6644\n\\item 4.4304\n\\item 4.4516\n\\end{enumerate*}\n",
            "text/markdown": "1. 5.4202\n2. 5.5532\n3. 6.3949\n4. 4.5707\n5. 3.6917\n6. 4.0161\n7. 4.1844\n8. 4.431\n9. 6.4375\n10. 5.3213\n11. 6.9433\n12. 6.0278\n13. 4.8023\n14. 4.8438\n15. 5.8114\n16. 7.6499\n17. 4.6677\n18. 5.9729\n19. 8.9445\n20. 7.8935\n21. 7.1448\n22. 4.9674\n23. 4.4821\n24. 4.4291\n25. 5.6967\n26. 5.6917\n27. 6.9409\n28. 4.8695\n29. 7.0852\n30. 5.6437\n31. 5.9689\n32. 5.4401\n33. 3.7915\n34. 5.2243\n35. 4.3384\n36. 6.307\n37. 3.9943\n38. 4.3075\n39. 4.3551\n40. 5.1088\n41. 4.058\n42. 4.5653\n43. 4.1622\n44. 3.6083\n45. 7.5917\n46. 8.3529\n47. 3.8006\n48. 4.5594\n49. 3.9973\n50. 4.1814\n51. 5.1497\n52. 5.5987\n53. 6.4748\n54. 4.709\n55. 4.2508\n56. 7.2488\n57. 5.9262\n58. 5.2255\n59. 7.3333\n60. 4.8982\n61. 7.8539\n62. 8.891\n63. 6.8055\n64. 4.8754\n65. 5.805\n66. 5.1448\n67. 4.1303\n68. 4.4519\n69. 6.7185\n70. 6.3399\n71. 6.1895\n72. 7.3114\n73. 4.8354\n74. 4.057\n75. 7.3232\n76. 5.6957\n77. 4.6234\n78. 5.6571\n79. 6.3123\n80. 5.4404\n81. 5.2285\n82. 3.4489\n83. 7.5127\n84. 6.1975\n85. 4.4483\n86. 3.9112\n87. 4.8399\n88. 5.5582\n89. 7.4698\n90. 5.388\n91. 4.8634\n92. 5.3064\n93. 2.9204\n94. 4.4587\n95. 6.4996\n96. 7.7452\n97. 5.6612\n98. 3.6644\n99. 4.4304\n100. 4.4516\n\n\n",
            "text/html": [
              "<style>\n",
              ".list-inline {list-style: none; margin:0; padding: 0}\n",
              ".list-inline>li {display: inline-block}\n",
              ".list-inline>li:not(:last-child)::after {content: \"\\00b7\"; padding: 0 .5ex}\n",
              "</style>\n",
              "<ol class=list-inline><li>5.4202</li><li>5.5532</li><li>6.3949</li><li>4.5707</li><li>3.6917</li><li>4.0161</li><li>4.1844</li><li>4.431</li><li>6.4375</li><li>5.3213</li><li>6.9433</li><li>6.0278</li><li>4.8023</li><li>4.8438</li><li>5.8114</li><li>7.6499</li><li>4.6677</li><li>5.9729</li><li>8.9445</li><li>7.8935</li><li>7.1448</li><li>4.9674</li><li>4.4821</li><li>4.4291</li><li>5.6967</li><li>5.6917</li><li>6.9409</li><li>4.8695</li><li>7.0852</li><li>5.6437</li><li>5.9689</li><li>5.4401</li><li>3.7915</li><li>5.2243</li><li>4.3384</li><li>6.307</li><li>3.9943</li><li>4.3075</li><li>4.3551</li><li>5.1088</li><li>4.058</li><li>4.5653</li><li>4.1622</li><li>3.6083</li><li>7.5917</li><li>8.3529</li><li>3.8006</li><li>4.5594</li><li>3.9973</li><li>4.1814</li><li>5.1497</li><li>5.5987</li><li>6.4748</li><li>4.709</li><li>4.2508</li><li>7.2488</li><li>5.9262</li><li>5.2255</li><li>7.3333</li><li>4.8982</li><li>7.8539</li><li>8.891</li><li>6.8055</li><li>4.8754</li><li>5.805</li><li>5.1448</li><li>4.1303</li><li>4.4519</li><li>6.7185</li><li>6.3399</li><li>6.1895</li><li>7.3114</li><li>4.8354</li><li>4.057</li><li>7.3232</li><li>5.6957</li><li>4.6234</li><li>5.6571</li><li>6.3123</li><li>5.4404</li><li>5.2285</li><li>3.4489</li><li>7.5127</li><li>6.1975</li><li>4.4483</li><li>3.9112</li><li>4.8399</li><li>5.5582</li><li>7.4698</li><li>5.388</li><li>4.8634</li><li>5.3064</li><li>2.9204</li><li>4.4587</li><li>6.4996</li><li>7.7452</li><li>5.6612</li><li>3.6644</li><li>4.4304</li><li>4.4516</li></ol>\n"
            ]
          },
          "metadata": {
            "tags": []
          }
        }
      ]
    },
    {
      "cell_type": "code",
      "metadata": {
        "colab": {
          "base_uri": "https://localhost:8080/",
          "height": 34
        },
        "id": "z_YZeTthPPHY",
        "outputId": "86b3a440-3149-4a30-a9ce-028b963f1af5"
      },
      "source": [
        "# 3.\n",
        "tlc_ci <- t.test(tlc_sample)$conf.int\n",
        "tlc_ci"
      ],
      "execution_count": null,
      "outputs": [
        {
          "output_type": "display_data",
          "data": {
            "text/plain": [
              "[1] 5.450037 5.980683\n",
              "attr(,\"conf.level\")\n",
              "[1] 0.95"
            ],
            "text/latex": "\\begin{enumerate*}\n\\item 5.45003675167948\n\\item 5.98068324832053\n\\end{enumerate*}\n",
            "text/markdown": "1. 5.45003675167948\n2. 5.98068324832053\n\n\n",
            "text/html": [
              "<style>\n",
              ".list-inline {list-style: none; margin:0; padding: 0}\n",
              ".list-inline>li {display: inline-block}\n",
              ".list-inline>li:not(:last-child)::after {content: \"\\00b7\"; padding: 0 .5ex}\n",
              "</style>\n",
              "<ol class=list-inline><li>5.45003675167948</li><li>5.98068324832053</li></ol>\n"
            ]
          },
          "metadata": {
            "tags": []
          }
        }
      ]
    },
    {
      "cell_type": "code",
      "metadata": {
        "colab": {
          "base_uri": "https://localhost:8080/",
          "height": 34
        },
        "id": "QTUm6lfqPyt7",
        "outputId": "4c914380-6850-4fd9-abba-fcf61698c79b"
      },
      "source": [
        "# 4.\n",
        "mean_tlc > tlc_ci[1] & mean_tlc < tlc_ci[2]"
      ],
      "execution_count": null,
      "outputs": [
        {
          "output_type": "display_data",
          "data": {
            "text/plain": [
              "[1] TRUE"
            ],
            "text/latex": "TRUE",
            "text/markdown": "TRUE",
            "text/html": [
              "TRUE"
            ]
          },
          "metadata": {
            "tags": []
          }
        }
      ]
    },
    {
      "cell_type": "code",
      "metadata": {
        "colab": {
          "base_uri": "https://localhost:8080/",
          "height": 34
        },
        "id": "oA7XFZQ9QLOw",
        "outputId": "0c87155b-f83b-4ebf-b6b3-e7736f78252e"
      },
      "source": [
        "# 5.\n",
        "set.seed(10)\n",
        "mean_tlc <- mean(copd$total_lung_capacity)\n",
        "count <- 0\n",
        "\n",
        "for (ii in 1:10000) {\n",
        "\n",
        "  # sample from the \"population\"\n",
        "  tlc_sample <- sample(copd$total_lung_capacity, 100)\n",
        "\n",
        "  # calculate confidence interval\n",
        "  tlc_ci <- t.test(tlc_sample)$conf.int\n",
        "\n",
        "  # determine if \"true\" mean is in interval\n",
        "  tlc_bool <- mean_tlc > tlc_ci[1] & mean_tlc < tlc_ci[2]\n",
        "\n",
        "  count <- count + tlc_bool\n",
        "}\n",
        "\n",
        "count"
      ],
      "execution_count": null,
      "outputs": [
        {
          "output_type": "display_data",
          "data": {
            "text/plain": [
              "[1] 9545"
            ],
            "text/latex": "9545",
            "text/markdown": "9545",
            "text/html": [
              "9545"
            ]
          },
          "metadata": {
            "tags": []
          }
        }
      ]
    },
    {
      "cell_type": "code",
      "metadata": {
        "colab": {
          "base_uri": "https://localhost:8080/",
          "height": 34
        },
        "id": "saqCOOtvNXuR",
        "outputId": "dadfeb37-fbc8-4022-aef7-2759958019a8"
      },
      "source": [
        "# 6.\n",
        "(count / 10000) * 100"
      ],
      "execution_count": null,
      "outputs": [
        {
          "output_type": "display_data",
          "data": {
            "text/plain": [
              "[1] 95.45"
            ],
            "text/latex": "95.45",
            "text/markdown": "95.45",
            "text/html": [
              "95.45"
            ]
          },
          "metadata": {
            "tags": []
          }
        }
      ]
    }
  ]
}