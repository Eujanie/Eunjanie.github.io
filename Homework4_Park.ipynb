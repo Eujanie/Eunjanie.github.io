{
  "nbformat": 4,
  "nbformat_minor": 0,
  "metadata": {
    "colab": {
      "provenance": []
    },
    "kernelspec": {
      "name": "ir",
      "display_name": "R"
    }
  },
  "cells": [
    {
      "cell_type": "markdown",
      "metadata": {
        "id": "gtETsh5j8vHw"
      },
      "source": [
        "# **Homework 4: Data and Sampling Distributions (21 points)**\n",
        "\n",
        "#### **WRITE YOUR NAME HERE**\n"
      ]
    },
    {
      "cell_type": "markdown",
      "metadata": {
        "id": "en9tcPcGuFyc"
      },
      "source": [
        "---\n",
        "**Instructions**: Complete the lab below.\n",
        "- <font color=red>Tasks</font> indicated in red must be completed to receive credit\n",
        "- Include all code for your work\n",
        "- Include markdown cells with written answers explaining your work when prompted\n",
        "- **NOTE: Your completed assignment must be submitted to Canvas as a .ipynb file by the end of the lab session**\n",
        "---"
      ]
    },
    {
      "cell_type": "markdown",
      "metadata": {
        "id": "ZXUOzh4drf3V"
      },
      "source": [
        "\n",
        "\n",
        "\n",
        "<br>\n",
        "\n",
        "\n"
      ]
    },
    {
      "cell_type": "markdown",
      "metadata": {
        "id": "MfKT4gy91QKV"
      },
      "source": [
        "####<font color=red>Organized</font> (1 points)\n",
        "* Answers should be organized in the following format for organization and readability\n",
        "\n",
        "<br>\n",
        "\n",
        "```\n",
        "# 1. \n",
        "This will be the code block to answer the first part of a task\n",
        "```\n",
        "\n",
        "1. This will be the text answer/explanation (if prompted) for the first task\n",
        "\n",
        "```\n",
        "# 2. \n",
        "This will be the code block to answer the second part of a task in a separate code cell\n",
        "```\n",
        "\n",
        "2. This will be the text answer/explanation (if prompted) for the second task\n",
        "\n",
        "<br>\n",
        "\n",
        "Continue this format for the remaining subtasks\n"
      ]
    },
    {
      "cell_type": "markdown",
      "metadata": {
        "id": "YfKhJv3Q1PBh"
      },
      "source": [
        "<br>\n",
        "\n",
        "---\n",
        "\n",
        "<br>\n",
        "\n",
        "\n",
        "\n",
        "\n"
      ]
    },
    {
      "cell_type": "markdown",
      "metadata": {
        "id": "Ek6IuNtolHgW"
      },
      "source": [
        "####<font color=red>Task 1</font>  (1 points)\n",
        "\n",
        "1. Load the data at this [link](\"https://raw.githubusercontent.com/khasenst/datasets_teaching/main/StudentsPerformance.csv\") \n",
        "2. Show the first few lines of the dataset\n"
      ]
    },
    {
      "cell_type": "code",
      "metadata": {
        "colab": {
          "base_uri": "https://localhost:8080/",
          "height": 281
        },
        "id": "J0qoV-IBA6St",
        "outputId": "25cd4f94-e5d4-4444-9609-34ac6de2263e"
      },
      "source": [
        "#1.Load the data\n",
        "data <- read.csv(\"https://raw.githubusercontent.com/khasenst/datasets_teaching/main/StudentsPerformance.csv\")\n",
        "head(data)"
      ],
      "execution_count": null,
      "outputs": [
        {
          "output_type": "display_data",
          "data": {
            "text/plain": [
              "  gender race.ethnicity parental.level.of.education lunch       \n",
              "1 female group B        bachelor's degree           standard    \n",
              "2 female group C        some college                standard    \n",
              "3 female group B        master's degree             standard    \n",
              "4 male   group A        associate's degree          free/reduced\n",
              "5 male   group C        some college                standard    \n",
              "6 female group B        associate's degree          standard    \n",
              "  test.preparation.course math.score reading.score writing.score\n",
              "1 none                    72         72            74           \n",
              "2 completed               69         90            88           \n",
              "3 none                    90         95            93           \n",
              "4 none                    47         57            44           \n",
              "5 none                    76         78            75           \n",
              "6 none                    71         83            78           "
            ],
            "text/latex": "A data.frame: 6 × 8\n\\begin{tabular}{r|llllllll}\n  & gender & race.ethnicity & parental.level.of.education & lunch & test.preparation.course & math.score & reading.score & writing.score\\\\\n  & <chr> & <chr> & <chr> & <chr> & <chr> & <int> & <int> & <int>\\\\\n\\hline\n\t1 & female & group B & bachelor's degree  & standard     & none      & 72 & 72 & 74\\\\\n\t2 & female & group C & some college       & standard     & completed & 69 & 90 & 88\\\\\n\t3 & female & group B & master's degree    & standard     & none      & 90 & 95 & 93\\\\\n\t4 & male   & group A & associate's degree & free/reduced & none      & 47 & 57 & 44\\\\\n\t5 & male   & group C & some college       & standard     & none      & 76 & 78 & 75\\\\\n\t6 & female & group B & associate's degree & standard     & none      & 71 & 83 & 78\\\\\n\\end{tabular}\n",
            "text/markdown": "\nA data.frame: 6 × 8\n\n| <!--/--> | gender &lt;chr&gt; | race.ethnicity &lt;chr&gt; | parental.level.of.education &lt;chr&gt; | lunch &lt;chr&gt; | test.preparation.course &lt;chr&gt; | math.score &lt;int&gt; | reading.score &lt;int&gt; | writing.score &lt;int&gt; |\n|---|---|---|---|---|---|---|---|---|\n| 1 | female | group B | bachelor's degree  | standard     | none      | 72 | 72 | 74 |\n| 2 | female | group C | some college       | standard     | completed | 69 | 90 | 88 |\n| 3 | female | group B | master's degree    | standard     | none      | 90 | 95 | 93 |\n| 4 | male   | group A | associate's degree | free/reduced | none      | 47 | 57 | 44 |\n| 5 | male   | group C | some college       | standard     | none      | 76 | 78 | 75 |\n| 6 | female | group B | associate's degree | standard     | none      | 71 | 83 | 78 |\n\n",
            "text/html": [
              "<table class=\"dataframe\">\n",
              "<caption>A data.frame: 6 × 8</caption>\n",
              "<thead>\n",
              "\t<tr><th></th><th scope=col>gender</th><th scope=col>race.ethnicity</th><th scope=col>parental.level.of.education</th><th scope=col>lunch</th><th scope=col>test.preparation.course</th><th scope=col>math.score</th><th scope=col>reading.score</th><th scope=col>writing.score</th></tr>\n",
              "\t<tr><th></th><th scope=col>&lt;chr&gt;</th><th scope=col>&lt;chr&gt;</th><th scope=col>&lt;chr&gt;</th><th scope=col>&lt;chr&gt;</th><th scope=col>&lt;chr&gt;</th><th scope=col>&lt;int&gt;</th><th scope=col>&lt;int&gt;</th><th scope=col>&lt;int&gt;</th></tr>\n",
              "</thead>\n",
              "<tbody>\n",
              "\t<tr><th scope=row>1</th><td>female</td><td>group B</td><td>bachelor's degree </td><td>standard    </td><td>none     </td><td>72</td><td>72</td><td>74</td></tr>\n",
              "\t<tr><th scope=row>2</th><td>female</td><td>group C</td><td>some college      </td><td>standard    </td><td>completed</td><td>69</td><td>90</td><td>88</td></tr>\n",
              "\t<tr><th scope=row>3</th><td>female</td><td>group B</td><td>master's degree   </td><td>standard    </td><td>none     </td><td>90</td><td>95</td><td>93</td></tr>\n",
              "\t<tr><th scope=row>4</th><td>male  </td><td>group A</td><td>associate's degree</td><td>free/reduced</td><td>none     </td><td>47</td><td>57</td><td>44</td></tr>\n",
              "\t<tr><th scope=row>5</th><td>male  </td><td>group C</td><td>some college      </td><td>standard    </td><td>none     </td><td>76</td><td>78</td><td>75</td></tr>\n",
              "\t<tr><th scope=row>6</th><td>female</td><td>group B</td><td>associate's degree</td><td>standard    </td><td>none     </td><td>71</td><td>83</td><td>78</td></tr>\n",
              "</tbody>\n",
              "</table>\n"
            ]
          },
          "metadata": {
            "tags": []
          }
        }
      ]
    },
    {
      "cell_type": "markdown",
      "metadata": {
        "id": "3IIpgatI3tCV"
      },
      "source": [
        "<br>\n",
        "\n",
        "---\n",
        "\n",
        "<br>\n",
        "\n",
        "\n",
        "\n",
        "\n"
      ]
    },
    {
      "cell_type": "markdown",
      "metadata": {
        "id": "dPgc0NROCvCK"
      },
      "source": [
        "####<font color=red>Task 2</font>  (4 points)\n",
        "\n",
        "1. Plot a histogram of the variable writing score using the `hist()` function\n",
        "  * Specify the following function arguments for hist()\n",
        "    * `xlim = c(0, 100)`\n",
        "    * `xlab = \"Writing Score\"`\n",
        "    * `main = \"Histogram of Writing Score\"`\n",
        "\n",
        "2. Plot the same histogram, except specifying the number of `breaks = 30`\n",
        "  * Specify the following function arguments for hist()\n",
        "    * `xlim = c(0, 100)`\n",
        "    * `xlab = \"Writing Score\"`\n",
        "    * `main = \"Histogram of Writing Score\"`\n",
        "\n",
        "3. Is the distribution of writing score symmetric? Explain your reasoning in complete sentences.\n",
        "\n",
        "4. Is the distribution of writing score normally distributed? Explain your reasoning in complete sentences."
      ]
    },
    {
      "cell_type": "code",
      "metadata": {
        "colab": {
          "base_uri": "https://localhost:8080/",
          "height": 437
        },
        "id": "n2X8zciQBKyp",
        "outputId": "62b4b7d8-8b3b-4de0-e553-116f3930b7eb"
      },
      "source": [
        "#1.\n",
        "hist( data$writing.score,\n",
        "     xlim = c(0, 100),\n",
        "     xlab = \"Writing Score\",\n",
        "     main = \"Histogram of Writing Score\"\n",
        "     )"
      ],
      "execution_count": null,
      "outputs": [
        {
          "output_type": "display_data",
          "data": {
            "image/png": "[encoded data removed]",
            "text/plain": [
              "Plot with title “Histogram of Writing Score”"
            ]
          },
          "metadata": {
            "tags": [],
            "image/png": {
              "width": 420,
              "height": 420
            }
          }
        }
      ]
    },
    {
      "cell_type": "code",
      "metadata": {
        "colab": {
          "base_uri": "https://localhost:8080/",
          "height": 437
        },
        "id": "6oIpm1_XKpTS",
        "outputId": "a54a3b13-18f8-4b65-d434-ef39ea713009"
      },
      "source": [
        "#2.\n",
        "hist( data$writing.score,\n",
        "     xlim = c(0, 100), breaks = 30,\n",
        "     xlab = \"Writing Score\",\n",
        "     main = \"Histogram of Writing Score\"\n",
        "     )"
      ],
      "execution_count": null,
      "outputs": [
        {
          "output_type": "display_data",
          "data": {
            "image/png": "[encoded data removed]",
            "text/plain": [
              "Plot with title “Histogram of Writing Score”"
            ]
          },
          "metadata": {
            "tags": [],
            "image/png": {
              "width": 420,
              "height": 420
            }
          }
        }
      ]
    },
    {
      "cell_type": "markdown",
      "metadata": {
        "id": "O9n5FE9kG9fe"
      },
      "source": [
        "3. Not symmetric. If it was symmetric, the graph would have to be the left half is a mirror image of the right half."
      ]
    },
    {
      "cell_type": "markdown",
      "metadata": {
        "id": "3NXb4QtyHcFn"
      },
      "source": [
        "4. It is not normally distributed. Since there is oulier at the bottom of writing score and this points leads whole graph to left skewed. "
      ]
    },
    {
      "cell_type": "markdown",
      "metadata": {
        "id": "Biw6othZEJBK"
      },
      "source": [
        "<br>\n",
        "\n",
        "---\n",
        "\n",
        "<br>\n",
        "\n",
        "\n",
        "\n",
        "\n"
      ]
    },
    {
      "cell_type": "markdown",
      "metadata": {
        "id": "vEwNn0xbEJBW"
      },
      "source": [
        "####<font color=red>Task 3</font>  (3 points)\n",
        "\n",
        "1. Store the writing scores for rows where `lunch` is equal to `\"standard\"` in a variable called `standard`\n",
        "\n",
        "2. Store the writing scores for rows where `lunch` is equal to `\"free/reduced\"` in a variable called `free`\n",
        "\n",
        "3. What are the mean writing scores for these two groups? Are they very different? Explain your answer in complete sentences."
      ]
    },
    {
      "cell_type": "code",
      "metadata": {
        "colab": {
          "base_uri": "https://localhost:8080/",
          "height": 191
        },
        "id": "rZRr8hHgYiKK",
        "outputId": "d6bdb1c9-abe0-4acb-afe4-b85fa47955b9"
      },
      "source": [
        "#1.store\n",
        "standard <- data$writing.score[data$lunch == \"standard\"]\n",
        "standard"
      ],
      "execution_count": null,
      "outputs": [
        {
          "output_type": "display_data",
          "data": {
            "text/plain": [
              "  [1]  74  88  93  75  78  92  52  43  73  70  58  78  86  63  53  73  55  75\n",
              " [19]  65  75  74  61  38  82  79  83  68  65  57  62  76  82  48  42  75  86\n",
              " [37]  49  58  71  59  61  74  57  63  41  22  81  72  68  50  63  82  74  67\n",
              " [55]  82  74  71  92  62  70  62  67  74  89  47  90  72 100  64  72  49  47\n",
              " [73]  54 100  74  79  61  65  89  92  93  73  86  67  74  74  51  82  84  48\n",
              " [91]  41  56  67  69  71  47  78  75  81  69  68  66  47  61  88  87  49  91\n",
              "[109] 100  78  74  78  81  70  87  77 100  47  70  65  68  87  69  79  66  62\n",
              "[127]  85  52  86  69  68  42  78  62  76  81  75  56  74  73  75  73  71  54\n",
              "[145]  94  66  42  83  78  84  77  74  51  80  83  55  43  69  71  74  68  62\n",
              "[163]  53  49  70  72  52  70  77  78  78  90  68  81  77  95  61  42  71  76\n",
              "[181]  73  93  75  42  46  46  82  88  82  77  68  70  57  75  43  68  81  64\n",
              "[199]  83  69  81  44  80  57  68  75  65  91  78  69  79  80  94  62  77  51\n",
              "[217]  61  35  53  81  95  69  43  63  74  67  67  75  57  95  76  69  52  80\n",
              "[235]  57  70  70  61  89  59  78  58  58  53  85  71  72  96  73  82  77  62\n",
              "[253]  83  95  75  70  64  75  77  67  56  77  95  57  54  67  43 100  62  68\n",
              "[271]  63  77  85  74  78  60  67  69  68  67  62  64  80  86  70  55  66  64\n",
              "[289]  51  82  79  80  76  77  80  42  72  97  89 100  68  76  62  91  76  90\n",
              "[307]  74  84  61  91  83  66  72  70  67  68  46  54  71  57  70  90  90  68\n",
              "[325]  66  52  68  72  82  92  92  80  66  77  87  73  43  62  85  84  73  78\n",
              "[343]  52  84  57  49  59  70  73  53  58  94  68  58  62  71  86  68  79  89\n",
              "[361]  66  97  64  69  50  40  79  62  79  74  92  45  70  92  56  71  52  89\n",
              "[379]  68  96  80  80  77  76  73  65  65  50  64  73  99  72  48  73  81  63\n",
              "[397]  30  80  62  82  62  65  66  91  74  93  72  38  83  84  86  99  46  55\n",
              "[415]  70  65  81  85  80  64  88  74  73  51  80  60  81  65  55  81  76  98\n",
              "[433]  74  79  67  61  85  63  67  63  61  77  76  84  78  66  76  76  74  60\n",
              "[451]  54  68 100  68  53  73  56  90  70  79  82  72  87  67  36  52  79  90\n",
              "[469]  85  99  84  74  72  99  74  42  41  71  77  57  37  94  44  59  84  73\n",
              "[487]  72  82  72  74  71  68  86  68  65  85  92  52  77  54  86  63  59  72\n",
              "[505]  77  60  75  49  74  60  70  82  82  84  62  79  44  32  60  77  51  70\n",
              "[523]  54  57  68  73  95  87  78  69  51  36  67  76  83  87  64  88  92  58\n",
              "[541]  76  53  58  89  45  74  57  79  73  51  84  85  50  68  69  67  63  93\n",
              "[559]  61  55  96  81  46  53  80  91  88  41  47  76  78  84  54  80  74  66\n",
              "[577]  70  54  80  95  91  85  75  69  63  82  89  74  77  51  91  70  82  66\n",
              "[595]  66 100  52  80  91  66  60  90  53  85  69  96  64  61  58  80  71  83\n",
              "[613]  54  69  62  81 100  59  71  64 100  58  72  64  60  67  80 100  69  67\n",
              "[631]  77  58  48  94  78  86  91  82  54  51  76  78  62  95  77"
            ],
            "text/latex": "\\begin{enumerate*}\n\\item 74\n\\item 88\n\\item 93\n\\item 75\n\\item 78\n\\item 92\n\\item 52\n\\item 43\n\\item 73\n\\item 70\n\\item 58\n\\item 78\n\\item 86\n\\item 63\n\\item 53\n\\item 73\n\\item 55\n\\item 75\n\\item 65\n\\item 75\n\\item 74\n\\item 61\n\\item 38\n\\item 82\n\\item 79\n\\item 83\n\\item 68\n\\item 65\n\\item 57\n\\item 62\n\\item 76\n\\item 82\n\\item 48\n\\item 42\n\\item 75\n\\item 86\n\\item 49\n\\item 58\n\\item 71\n\\item 59\n\\item 61\n\\item 74\n\\item 57\n\\item 63\n\\item 41\n\\item 22\n\\item 81\n\\item 72\n\\item 68\n\\item 50\n\\item 63\n\\item 82\n\\item 74\n\\item 67\n\\item 82\n\\item 74\n\\item 71\n\\item 92\n\\item 62\n\\item 70\n\\item 62\n\\item 67\n\\item 74\n\\item 89\n\\item 47\n\\item 90\n\\item 72\n\\item 100\n\\item 64\n\\item 72\n\\item 49\n\\item 47\n\\item 54\n\\item 100\n\\item 74\n\\item 79\n\\item 61\n\\item 65\n\\item 89\n\\item 92\n\\item 93\n\\item 73\n\\item 86\n\\item 67\n\\item 74\n\\item 74\n\\item 51\n\\item 82\n\\item 84\n\\item 48\n\\item 41\n\\item 56\n\\item 67\n\\item 69\n\\item 71\n\\item 47\n\\item 78\n\\item 75\n\\item 81\n\\item 69\n\\item 68\n\\item 66\n\\item 47\n\\item 61\n\\item 88\n\\item 87\n\\item 49\n\\item 91\n\\item 100\n\\item 78\n\\item 74\n\\item 78\n\\item 81\n\\item 70\n\\item 87\n\\item 77\n\\item 100\n\\item 47\n\\item 70\n\\item 65\n\\item 68\n\\item 87\n\\item 69\n\\item 79\n\\item 66\n\\item 62\n\\item 85\n\\item 52\n\\item 86\n\\item 69\n\\item 68\n\\item 42\n\\item 78\n\\item 62\n\\item 76\n\\item 81\n\\item 75\n\\item 56\n\\item 74\n\\item 73\n\\item 75\n\\item 73\n\\item 71\n\\item 54\n\\item 94\n\\item 66\n\\item 42\n\\item 83\n\\item 78\n\\item 84\n\\item 77\n\\item 74\n\\item 51\n\\item 80\n\\item 83\n\\item 55\n\\item 43\n\\item 69\n\\item 71\n\\item 74\n\\item 68\n\\item 62\n\\item 53\n\\item 49\n\\item 70\n\\item 72\n\\item 52\n\\item 70\n\\item 77\n\\item 78\n\\item 78\n\\item 90\n\\item 68\n\\item 81\n\\item 77\n\\item 95\n\\item 61\n\\item 42\n\\item 71\n\\item 76\n\\item 73\n\\item 93\n\\item 75\n\\item 42\n\\item 46\n\\item 46\n\\item 82\n\\item 88\n\\item 82\n\\item 77\n\\item 68\n\\item 70\n\\item 57\n\\item 75\n\\item 43\n\\item 68\n\\item 81\n\\item 64\n\\item 83\n\\item 69\n\\item ⋯\n\\item 66\n\\item 76\n\\item 76\n\\item 74\n\\item 60\n\\item 54\n\\item 68\n\\item 100\n\\item 68\n\\item 53\n\\item 73\n\\item 56\n\\item 90\n\\item 70\n\\item 79\n\\item 82\n\\item 72\n\\item 87\n\\item 67\n\\item 36\n\\item 52\n\\item 79\n\\item 90\n\\item 85\n\\item 99\n\\item 84\n\\item 74\n\\item 72\n\\item 99\n\\item 74\n\\item 42\n\\item 41\n\\item 71\n\\item 77\n\\item 57\n\\item 37\n\\item 94\n\\item 44\n\\item 59\n\\item 84\n\\item 73\n\\item 72\n\\item 82\n\\item 72\n\\item 74\n\\item 71\n\\item 68\n\\item 86\n\\item 68\n\\item 65\n\\item 85\n\\item 92\n\\item 52\n\\item 77\n\\item 54\n\\item 86\n\\item 63\n\\item 59\n\\item 72\n\\item 77\n\\item 60\n\\item 75\n\\item 49\n\\item 74\n\\item 60\n\\item 70\n\\item 82\n\\item 82\n\\item 84\n\\item 62\n\\item 79\n\\item 44\n\\item 32\n\\item 60\n\\item 77\n\\item 51\n\\item 70\n\\item 54\n\\item 57\n\\item 68\n\\item 73\n\\item 95\n\\item 87\n\\item 78\n\\item 69\n\\item 51\n\\item 36\n\\item 67\n\\item 76\n\\item 83\n\\item 87\n\\item 64\n\\item 88\n\\item 92\n\\item 58\n\\item 76\n\\item 53\n\\item 58\n\\item 89\n\\item 45\n\\item 74\n\\item 57\n\\item 79\n\\item 73\n\\item 51\n\\item 84\n\\item 85\n\\item 50\n\\item 68\n\\item 69\n\\item 67\n\\item 63\n\\item 93\n\\item 61\n\\item 55\n\\item 96\n\\item 81\n\\item 46\n\\item 53\n\\item 80\n\\item 91\n\\item 88\n\\item 41\n\\item 47\n\\item 76\n\\item 78\n\\item 84\n\\item 54\n\\item 80\n\\item 74\n\\item 66\n\\item 70\n\\item 54\n\\item 80\n\\item 95\n\\item 91\n\\item 85\n\\item 75\n\\item 69\n\\item 63\n\\item 82\n\\item 89\n\\item 74\n\\item 77\n\\item 51\n\\item 91\n\\item 70\n\\item 82\n\\item 66\n\\item 66\n\\item 100\n\\item 52\n\\item 80\n\\item 91\n\\item 66\n\\item 60\n\\item 90\n\\item 53\n\\item 85\n\\item 69\n\\item 96\n\\item 64\n\\item 61\n\\item 58\n\\item 80\n\\item 71\n\\item 83\n\\item 54\n\\item 69\n\\item 62\n\\item 81\n\\item 100\n\\item 59\n\\item 71\n\\item 64\n\\item 100\n\\item 58\n\\item 72\n\\item 64\n\\item 60\n\\item 67\n\\item 80\n\\item 100\n\\item 69\n\\item 67\n\\item 77\n\\item 58\n\\item 48\n\\item 94\n\\item 78\n\\item 86\n\\item 91\n\\item 82\n\\item 54\n\\item 51\n\\item 76\n\\item 78\n\\item 62\n\\item 95\n\\item 77\n\\end{enumerate*}\n",
            "text/markdown": "1. 74\n2. 88\n3. 93\n4. 75\n5. 78\n6. 92\n7. 52\n8. 43\n9. 73\n10. 70\n11. 58\n12. 78\n13. 86\n14. 63\n15. 53\n16. 73\n17. 55\n18. 75\n19. 65\n20. 75\n21. 74\n22. 61\n23. 38\n24. 82\n25. 79\n26. 83\n27. 68\n28. 65\n29. 57\n30. 62\n31. 76\n32. 82\n33. 48\n34. 42\n35. 75\n36. 86\n37. 49\n38. 58\n39. 71\n40. 59\n41. 61\n42. 74\n43. 57\n44. 63\n45. 41\n46. 22\n47. 81\n48. 72\n49. 68\n50. 50\n51. 63\n52. 82\n53. 74\n54. 67\n55. 82\n56. 74\n57. 71\n58. 92\n59. 62\n60. 70\n61. 62\n62. 67\n63. 74\n64. 89\n65. 47\n66. 90\n67. 72\n68. 100\n69. 64\n70. 72\n71. 49\n72. 47\n73. 54\n74. 100\n75. 74\n76. 79\n77. 61\n78. 65\n79. 89\n80. 92\n81. 93\n82. 73\n83. 86\n84. 67\n85. 74\n86. 74\n87. 51\n88. 82\n89. 84\n90. 48\n91. 41\n92. 56\n93. 67\n94. 69\n95. 71\n96. 47\n97. 78\n98. 75\n99. 81\n100. 69\n101. 68\n102. 66\n103. 47\n104. 61\n105. 88\n106. 87\n107. 49\n108. 91\n109. 100\n110. 78\n111. 74\n112. 78\n113. 81\n114. 70\n115. 87\n116. 77\n117. 100\n118. 47\n119. 70\n120. 65\n121. 68\n122. 87\n123. 69\n124. 79\n125. 66\n126. 62\n127. 85\n128. 52\n129. 86\n130. 69\n131. 68\n132. 42\n133. 78\n134. 62\n135. 76\n136. 81\n137. 75\n138. 56\n139. 74\n140. 73\n141. 75\n142. 73\n143. 71\n144. 54\n145. 94\n146. 66\n147. 42\n148. 83\n149. 78\n150. 84\n151. 77\n152. 74\n153. 51\n154. 80\n155. 83\n156. 55\n157. 43\n158. 69\n159. 71\n160. 74\n161. 68\n162. 62\n163. 53\n164. 49\n165. 70\n166. 72\n167. 52\n168. 70\n169. 77\n170. 78\n171. 78\n172. 90\n173. 68\n174. 81\n175. 77\n176. 95\n177. 61\n178. 42\n179. 71\n180. 76\n181. 73\n182. 93\n183. 75\n184. 42\n185. 46\n186. 46\n187. 82\n188. 88\n189. 82\n190. 77\n191. 68\n192. 70\n193. 57\n194. 75\n195. 43\n196. 68\n197. 81\n198. 64\n199. 83\n200. 69\n201. ⋯\n202. 66\n203. 76\n204. 76\n205. 74\n206. 60\n207. 54\n208. 68\n209. 100\n210. 68\n211. 53\n212. 73\n213. 56\n214. 90\n215. 70\n216. 79\n217. 82\n218. 72\n219. 87\n220. 67\n221. 36\n222. 52\n223. 79\n224. 90\n225. 85\n226. 99\n227. 84\n228. 74\n229. 72\n230. 99\n231. 74\n232. 42\n233. 41\n234. 71\n235. 77\n236. 57\n237. 37\n238. 94\n239. 44\n240. 59\n241. 84\n242. 73\n243. 72\n244. 82\n245. 72\n246. 74\n247. 71\n248. 68\n249. 86\n250. 68\n251. 65\n252. 85\n253. 92\n254. 52\n255. 77\n256. 54\n257. 86\n258. 63\n259. 59\n260. 72\n261. 77\n262. 60\n263. 75\n264. 49\n265. 74\n266. 60\n267. 70\n268. 82\n269. 82\n270. 84\n271. 62\n272. 79\n273. 44\n274. 32\n275. 60\n276. 77\n277. 51\n278. 70\n279. 54\n280. 57\n281. 68\n282. 73\n283. 95\n284. 87\n285. 78\n286. 69\n287. 51\n288. 36\n289. 67\n290. 76\n291. 83\n292. 87\n293. 64\n294. 88\n295. 92\n296. 58\n297. 76\n298. 53\n299. 58\n300. 89\n301. 45\n302. 74\n303. 57\n304. 79\n305. 73\n306. 51\n307. 84\n308. 85\n309. 50\n310. 68\n311. 69\n312. 67\n313. 63\n314. 93\n315. 61\n316. 55\n317. 96\n318. 81\n319. 46\n320. 53\n321. 80\n322. 91\n323. 88\n324. 41\n325. 47\n326. 76\n327. 78\n328. 84\n329. 54\n330. 80\n331. 74\n332. 66\n333. 70\n334. 54\n335. 80\n336. 95\n337. 91\n338. 85\n339. 75\n340. 69\n341. 63\n342. 82\n343. 89\n344. 74\n345. 77\n346. 51\n347. 91\n348. 70\n349. 82\n350. 66\n351. 66\n352. 100\n353. 52\n354. 80\n355. 91\n356. 66\n357. 60\n358. 90\n359. 53\n360. 85\n361. 69\n362. 96\n363. 64\n364. 61\n365. 58\n366. 80\n367. 71\n368. 83\n369. 54\n370. 69\n371. 62\n372. 81\n373. 100\n374. 59\n375. 71\n376. 64\n377. 100\n378. 58\n379. 72\n380. 64\n381. 60\n382. 67\n383. 80\n384. 100\n385. 69\n386. 67\n387. 77\n388. 58\n389. 48\n390. 94\n391. 78\n392. 86\n393. 91\n394. 82\n395. 54\n396. 51\n397. 76\n398. 78\n399. 62\n400. 95\n401. 77\n\n\n",
            "text/html": [
              "<style>\n",
              ".list-inline {list-style: none; margin:0; padding: 0}\n",
              ".list-inline>li {display: inline-block}\n",
              ".list-inline>li:not(:last-child)::after {content: \"\\00b7\"; padding: 0 .5ex}\n",
              "</style>\n",
              "<ol class=list-inline><li>74</li><li>88</li><li>93</li><li>75</li><li>78</li><li>92</li><li>52</li><li>43</li><li>73</li><li>70</li><li>58</li><li>78</li><li>86</li><li>63</li><li>53</li><li>73</li><li>55</li><li>75</li><li>65</li><li>75</li><li>74</li><li>61</li><li>38</li><li>82</li><li>79</li><li>83</li><li>68</li><li>65</li><li>57</li><li>62</li><li>76</li><li>82</li><li>48</li><li>42</li><li>75</li><li>86</li><li>49</li><li>58</li><li>71</li><li>59</li><li>61</li><li>74</li><li>57</li><li>63</li><li>41</li><li>22</li><li>81</li><li>72</li><li>68</li><li>50</li><li>63</li><li>82</li><li>74</li><li>67</li><li>82</li><li>74</li><li>71</li><li>92</li><li>62</li><li>70</li><li>62</li><li>67</li><li>74</li><li>89</li><li>47</li><li>90</li><li>72</li><li>100</li><li>64</li><li>72</li><li>49</li><li>47</li><li>54</li><li>100</li><li>74</li><li>79</li><li>61</li><li>65</li><li>89</li><li>92</li><li>93</li><li>73</li><li>86</li><li>67</li><li>74</li><li>74</li><li>51</li><li>82</li><li>84</li><li>48</li><li>41</li><li>56</li><li>67</li><li>69</li><li>71</li><li>47</li><li>78</li><li>75</li><li>81</li><li>69</li><li>68</li><li>66</li><li>47</li><li>61</li><li>88</li><li>87</li><li>49</li><li>91</li><li>100</li><li>78</li><li>74</li><li>78</li><li>81</li><li>70</li><li>87</li><li>77</li><li>100</li><li>47</li><li>70</li><li>65</li><li>68</li><li>87</li><li>69</li><li>79</li><li>66</li><li>62</li><li>85</li><li>52</li><li>86</li><li>69</li><li>68</li><li>42</li><li>78</li><li>62</li><li>76</li><li>81</li><li>75</li><li>56</li><li>74</li><li>73</li><li>75</li><li>73</li><li>71</li><li>54</li><li>94</li><li>66</li><li>42</li><li>83</li><li>78</li><li>84</li><li>77</li><li>74</li><li>51</li><li>80</li><li>83</li><li>55</li><li>43</li><li>69</li><li>71</li><li>74</li><li>68</li><li>62</li><li>53</li><li>49</li><li>70</li><li>72</li><li>52</li><li>70</li><li>77</li><li>78</li><li>78</li><li>90</li><li>68</li><li>81</li><li>77</li><li>95</li><li>61</li><li>42</li><li>71</li><li>76</li><li>73</li><li>93</li><li>75</li><li>42</li><li>46</li><li>46</li><li>82</li><li>88</li><li>82</li><li>77</li><li>68</li><li>70</li><li>57</li><li>75</li><li>43</li><li>68</li><li>81</li><li>64</li><li>83</li><li>69</li><li>⋯</li><li>66</li><li>76</li><li>76</li><li>74</li><li>60</li><li>54</li><li>68</li><li>100</li><li>68</li><li>53</li><li>73</li><li>56</li><li>90</li><li>70</li><li>79</li><li>82</li><li>72</li><li>87</li><li>67</li><li>36</li><li>52</li><li>79</li><li>90</li><li>85</li><li>99</li><li>84</li><li>74</li><li>72</li><li>99</li><li>74</li><li>42</li><li>41</li><li>71</li><li>77</li><li>57</li><li>37</li><li>94</li><li>44</li><li>59</li><li>84</li><li>73</li><li>72</li><li>82</li><li>72</li><li>74</li><li>71</li><li>68</li><li>86</li><li>68</li><li>65</li><li>85</li><li>92</li><li>52</li><li>77</li><li>54</li><li>86</li><li>63</li><li>59</li><li>72</li><li>77</li><li>60</li><li>75</li><li>49</li><li>74</li><li>60</li><li>70</li><li>82</li><li>82</li><li>84</li><li>62</li><li>79</li><li>44</li><li>32</li><li>60</li><li>77</li><li>51</li><li>70</li><li>54</li><li>57</li><li>68</li><li>73</li><li>95</li><li>87</li><li>78</li><li>69</li><li>51</li><li>36</li><li>67</li><li>76</li><li>83</li><li>87</li><li>64</li><li>88</li><li>92</li><li>58</li><li>76</li><li>53</li><li>58</li><li>89</li><li>45</li><li>74</li><li>57</li><li>79</li><li>73</li><li>51</li><li>84</li><li>85</li><li>50</li><li>68</li><li>69</li><li>67</li><li>63</li><li>93</li><li>61</li><li>55</li><li>96</li><li>81</li><li>46</li><li>53</li><li>80</li><li>91</li><li>88</li><li>41</li><li>47</li><li>76</li><li>78</li><li>84</li><li>54</li><li>80</li><li>74</li><li>66</li><li>70</li><li>54</li><li>80</li><li>95</li><li>91</li><li>85</li><li>75</li><li>69</li><li>63</li><li>82</li><li>89</li><li>74</li><li>77</li><li>51</li><li>91</li><li>70</li><li>82</li><li>66</li><li>66</li><li>100</li><li>52</li><li>80</li><li>91</li><li>66</li><li>60</li><li>90</li><li>53</li><li>85</li><li>69</li><li>96</li><li>64</li><li>61</li><li>58</li><li>80</li><li>71</li><li>83</li><li>54</li><li>69</li><li>62</li><li>81</li><li>100</li><li>59</li><li>71</li><li>64</li><li>100</li><li>58</li><li>72</li><li>64</li><li>60</li><li>67</li><li>80</li><li>100</li><li>69</li><li>67</li><li>77</li><li>58</li><li>48</li><li>94</li><li>78</li><li>86</li><li>91</li><li>82</li><li>54</li><li>51</li><li>76</li><li>78</li><li>62</li><li>95</li><li>77</li></ol>\n"
            ]
          },
          "metadata": {
            "tags": []
          }
        }
      ]
    },
    {
      "cell_type": "code",
      "metadata": {
        "colab": {
          "base_uri": "https://localhost:8080/",
          "height": 173
        },
        "id": "or0u-r1EY5Z0",
        "outputId": "b9083dc4-4980-4c5f-dfa0-d3eb6a778ba1"
      },
      "source": [
        "#2.store\n",
        "free <- data$writing.score[data$lunch == \"free/reduced\"]\n",
        "free"
      ],
      "execution_count": null,
      "outputs": [
        {
          "output_type": "display_data",
          "data": {
            "text/plain": [
              "  [1]  44  39  67  50  28  46  61  70  80  72  65  59  88  57  54  66  54  76\n",
              " [19]  68  87  43  10  72  34  55  37  56  73  48  56  38  45  54  34  88  36\n",
              " [37]  50  82  62  70  98  82  56  40  70  75  64  54  33  66  93  78  60  64\n",
              " [55]  74  85  52  51  78  70  54  58  62  75  66  49  65  45  65  51  55  76\n",
              " [73]  77  76  66  79  27  60  56  88  39  70  62  54  64  67  66  83  68  81\n",
              " [91]  77  51  41  70  58  80  57  84  78  76  80  60  50  75  81  52  67  52\n",
              "[109]  69  63  84  53  43  19  66  27  60  52  66  69  61  32  60  61  58  70\n",
              "[127]  41 100  71  45  43  67  59  41  63  55  56  79  54  93  67  34  62  65\n",
              "[145]  53  54  59  50  53  73  69  73  60  85  74  49  62  47  48  55  45  91\n",
              "[163]  38  65  85  56  61  56  74  82  76  76  54  54  54  52  94  79  50  60\n",
              "[181]  43  47  83  80  80  64  65  88  64  33  66  70  80  46 100  78  47  67\n",
              "[199]  64  53  58  78  62  54  15  51  90  54  63  68  54  56  52  62  63  46\n",
              "[217]  81  90  79  68  53  64  58  73  69  60  71  87  68  50  78  60  44  73\n",
              "[235]  44  83  78  81  86  59  64  65  58  87  80  70  59  88  84  80  43  57\n",
              "[253]  73  55  56  47  59  75  53  72  65  64  57  72  79  55  43  57  82  77\n",
              "[271]  61  61  70  69  73  81  74  75  40  49  76  68  93  51  82  52  70  81\n",
              "[289]  57  89  53  46  36  76  64  65  72  87  38  52  72  51  82  61  66  71\n",
              "[307]  44  59  74  48  73  38  27  79  41 100  84  72  48  66  55  67  46  65\n",
              "[325]  69  52  71  44  51  70  62  73  74  58  57  72  61  60  52  73  72  53\n",
              "[343]  75  60  61  60  23  45  83  75  76  74  55  65  86"
            ],
            "text/latex": "\\begin{enumerate*}\n\\item 44\n\\item 39\n\\item 67\n\\item 50\n\\item 28\n\\item 46\n\\item 61\n\\item 70\n\\item 80\n\\item 72\n\\item 65\n\\item 59\n\\item 88\n\\item 57\n\\item 54\n\\item 66\n\\item 54\n\\item 76\n\\item 68\n\\item 87\n\\item 43\n\\item 10\n\\item 72\n\\item 34\n\\item 55\n\\item 37\n\\item 56\n\\item 73\n\\item 48\n\\item 56\n\\item 38\n\\item 45\n\\item 54\n\\item 34\n\\item 88\n\\item 36\n\\item 50\n\\item 82\n\\item 62\n\\item 70\n\\item 98\n\\item 82\n\\item 56\n\\item 40\n\\item 70\n\\item 75\n\\item 64\n\\item 54\n\\item 33\n\\item 66\n\\item 93\n\\item 78\n\\item 60\n\\item 64\n\\item 74\n\\item 85\n\\item 52\n\\item 51\n\\item 78\n\\item 70\n\\item 54\n\\item 58\n\\item 62\n\\item 75\n\\item 66\n\\item 49\n\\item 65\n\\item 45\n\\item 65\n\\item 51\n\\item 55\n\\item 76\n\\item 77\n\\item 76\n\\item 66\n\\item 79\n\\item 27\n\\item 60\n\\item 56\n\\item 88\n\\item 39\n\\item 70\n\\item 62\n\\item 54\n\\item 64\n\\item 67\n\\item 66\n\\item 83\n\\item 68\n\\item 81\n\\item 77\n\\item 51\n\\item 41\n\\item 70\n\\item 58\n\\item 80\n\\item 57\n\\item 84\n\\item 78\n\\item 76\n\\item 80\n\\item 60\n\\item 50\n\\item 75\n\\item 81\n\\item 52\n\\item 67\n\\item 52\n\\item 69\n\\item 63\n\\item 84\n\\item 53\n\\item 43\n\\item 19\n\\item 66\n\\item 27\n\\item 60\n\\item 52\n\\item 66\n\\item 69\n\\item 61\n\\item 32\n\\item 60\n\\item 61\n\\item 58\n\\item 70\n\\item 41\n\\item 100\n\\item 71\n\\item 45\n\\item 43\n\\item 67\n\\item 59\n\\item 41\n\\item 63\n\\item 55\n\\item 56\n\\item 79\n\\item 54\n\\item 93\n\\item 67\n\\item 34\n\\item 62\n\\item 65\n\\item 53\n\\item 54\n\\item 59\n\\item 50\n\\item 53\n\\item 73\n\\item 69\n\\item 73\n\\item 60\n\\item 85\n\\item 74\n\\item 49\n\\item 62\n\\item 47\n\\item 48\n\\item 55\n\\item 45\n\\item 91\n\\item 38\n\\item 65\n\\item 85\n\\item 56\n\\item 61\n\\item 56\n\\item 74\n\\item 82\n\\item 76\n\\item 76\n\\item 54\n\\item 54\n\\item 54\n\\item 52\n\\item 94\n\\item 79\n\\item 50\n\\item 60\n\\item 43\n\\item 47\n\\item 83\n\\item 80\n\\item 80\n\\item 64\n\\item 65\n\\item 88\n\\item 64\n\\item 33\n\\item 66\n\\item 70\n\\item 80\n\\item 46\n\\item 100\n\\item 78\n\\item 47\n\\item 67\n\\item 64\n\\item 53\n\\item 58\n\\item 78\n\\item 62\n\\item 54\n\\item 15\n\\item 51\n\\item 90\n\\item 54\n\\item 63\n\\item 68\n\\item 54\n\\item 56\n\\item 52\n\\item 62\n\\item 63\n\\item 46\n\\item 81\n\\item 90\n\\item 79\n\\item 68\n\\item 53\n\\item 64\n\\item 58\n\\item 73\n\\item 69\n\\item 60\n\\item 71\n\\item 87\n\\item 68\n\\item 50\n\\item 78\n\\item 60\n\\item 44\n\\item 73\n\\item 44\n\\item 83\n\\item 78\n\\item 81\n\\item 86\n\\item 59\n\\item 64\n\\item 65\n\\item 58\n\\item 87\n\\item 80\n\\item 70\n\\item 59\n\\item 88\n\\item 84\n\\item 80\n\\item 43\n\\item 57\n\\item 73\n\\item 55\n\\item 56\n\\item 47\n\\item 59\n\\item 75\n\\item 53\n\\item 72\n\\item 65\n\\item 64\n\\item 57\n\\item 72\n\\item 79\n\\item 55\n\\item 43\n\\item 57\n\\item 82\n\\item 77\n\\item 61\n\\item 61\n\\item 70\n\\item 69\n\\item 73\n\\item 81\n\\item 74\n\\item 75\n\\item 40\n\\item 49\n\\item 76\n\\item 68\n\\item 93\n\\item 51\n\\item 82\n\\item 52\n\\item 70\n\\item 81\n\\item 57\n\\item 89\n\\item 53\n\\item 46\n\\item 36\n\\item 76\n\\item 64\n\\item 65\n\\item 72\n\\item 87\n\\item 38\n\\item 52\n\\item 72\n\\item 51\n\\item 82\n\\item 61\n\\item 66\n\\item 71\n\\item 44\n\\item 59\n\\item 74\n\\item 48\n\\item 73\n\\item 38\n\\item 27\n\\item 79\n\\item 41\n\\item 100\n\\item 84\n\\item 72\n\\item 48\n\\item 66\n\\item 55\n\\item 67\n\\item 46\n\\item 65\n\\item 69\n\\item 52\n\\item 71\n\\item 44\n\\item 51\n\\item 70\n\\item 62\n\\item 73\n\\item 74\n\\item 58\n\\item 57\n\\item 72\n\\item 61\n\\item 60\n\\item 52\n\\item 73\n\\item 72\n\\item 53\n\\item 75\n\\item 60\n\\item 61\n\\item 60\n\\item 23\n\\item 45\n\\item 83\n\\item 75\n\\item 76\n\\item 74\n\\item 55\n\\item 65\n\\item 86\n\\end{enumerate*}\n",
            "text/markdown": "1. 44\n2. 39\n3. 67\n4. 50\n5. 28\n6. 46\n7. 61\n8. 70\n9. 80\n10. 72\n11. 65\n12. 59\n13. 88\n14. 57\n15. 54\n16. 66\n17. 54\n18. 76\n19. 68\n20. 87\n21. 43\n22. 10\n23. 72\n24. 34\n25. 55\n26. 37\n27. 56\n28. 73\n29. 48\n30. 56\n31. 38\n32. 45\n33. 54\n34. 34\n35. 88\n36. 36\n37. 50\n38. 82\n39. 62\n40. 70\n41. 98\n42. 82\n43. 56\n44. 40\n45. 70\n46. 75\n47. 64\n48. 54\n49. 33\n50. 66\n51. 93\n52. 78\n53. 60\n54. 64\n55. 74\n56. 85\n57. 52\n58. 51\n59. 78\n60. 70\n61. 54\n62. 58\n63. 62\n64. 75\n65. 66\n66. 49\n67. 65\n68. 45\n69. 65\n70. 51\n71. 55\n72. 76\n73. 77\n74. 76\n75. 66\n76. 79\n77. 27\n78. 60\n79. 56\n80. 88\n81. 39\n82. 70\n83. 62\n84. 54\n85. 64\n86. 67\n87. 66\n88. 83\n89. 68\n90. 81\n91. 77\n92. 51\n93. 41\n94. 70\n95. 58\n96. 80\n97. 57\n98. 84\n99. 78\n100. 76\n101. 80\n102. 60\n103. 50\n104. 75\n105. 81\n106. 52\n107. 67\n108. 52\n109. 69\n110. 63\n111. 84\n112. 53\n113. 43\n114. 19\n115. 66\n116. 27\n117. 60\n118. 52\n119. 66\n120. 69\n121. 61\n122. 32\n123. 60\n124. 61\n125. 58\n126. 70\n127. 41\n128. 100\n129. 71\n130. 45\n131. 43\n132. 67\n133. 59\n134. 41\n135. 63\n136. 55\n137. 56\n138. 79\n139. 54\n140. 93\n141. 67\n142. 34\n143. 62\n144. 65\n145. 53\n146. 54\n147. 59\n148. 50\n149. 53\n150. 73\n151. 69\n152. 73\n153. 60\n154. 85\n155. 74\n156. 49\n157. 62\n158. 47\n159. 48\n160. 55\n161. 45\n162. 91\n163. 38\n164. 65\n165. 85\n166. 56\n167. 61\n168. 56\n169. 74\n170. 82\n171. 76\n172. 76\n173. 54\n174. 54\n175. 54\n176. 52\n177. 94\n178. 79\n179. 50\n180. 60\n181. 43\n182. 47\n183. 83\n184. 80\n185. 80\n186. 64\n187. 65\n188. 88\n189. 64\n190. 33\n191. 66\n192. 70\n193. 80\n194. 46\n195. 100\n196. 78\n197. 47\n198. 67\n199. 64\n200. 53\n201. 58\n202. 78\n203. 62\n204. 54\n205. 15\n206. 51\n207. 90\n208. 54\n209. 63\n210. 68\n211. 54\n212. 56\n213. 52\n214. 62\n215. 63\n216. 46\n217. 81\n218. 90\n219. 79\n220. 68\n221. 53\n222. 64\n223. 58\n224. 73\n225. 69\n226. 60\n227. 71\n228. 87\n229. 68\n230. 50\n231. 78\n232. 60\n233. 44\n234. 73\n235. 44\n236. 83\n237. 78\n238. 81\n239. 86\n240. 59\n241. 64\n242. 65\n243. 58\n244. 87\n245. 80\n246. 70\n247. 59\n248. 88\n249. 84\n250. 80\n251. 43\n252. 57\n253. 73\n254. 55\n255. 56\n256. 47\n257. 59\n258. 75\n259. 53\n260. 72\n261. 65\n262. 64\n263. 57\n264. 72\n265. 79\n266. 55\n267. 43\n268. 57\n269. 82\n270. 77\n271. 61\n272. 61\n273. 70\n274. 69\n275. 73\n276. 81\n277. 74\n278. 75\n279. 40\n280. 49\n281. 76\n282. 68\n283. 93\n284. 51\n285. 82\n286. 52\n287. 70\n288. 81\n289. 57\n290. 89\n291. 53\n292. 46\n293. 36\n294. 76\n295. 64\n296. 65\n297. 72\n298. 87\n299. 38\n300. 52\n301. 72\n302. 51\n303. 82\n304. 61\n305. 66\n306. 71\n307. 44\n308. 59\n309. 74\n310. 48\n311. 73\n312. 38\n313. 27\n314. 79\n315. 41\n316. 100\n317. 84\n318. 72\n319. 48\n320. 66\n321. 55\n322. 67\n323. 46\n324. 65\n325. 69\n326. 52\n327. 71\n328. 44\n329. 51\n330. 70\n331. 62\n332. 73\n333. 74\n334. 58\n335. 57\n336. 72\n337. 61\n338. 60\n339. 52\n340. 73\n341. 72\n342. 53\n343. 75\n344. 60\n345. 61\n346. 60\n347. 23\n348. 45\n349. 83\n350. 75\n351. 76\n352. 74\n353. 55\n354. 65\n355. 86\n\n\n",
            "text/html": [
              "<style>\n",
              ".list-inline {list-style: none; margin:0; padding: 0}\n",
              ".list-inline>li {display: inline-block}\n",
              ".list-inline>li:not(:last-child)::after {content: \"\\00b7\"; padding: 0 .5ex}\n",
              "</style>\n",
              "<ol class=list-inline><li>44</li><li>39</li><li>67</li><li>50</li><li>28</li><li>46</li><li>61</li><li>70</li><li>80</li><li>72</li><li>65</li><li>59</li><li>88</li><li>57</li><li>54</li><li>66</li><li>54</li><li>76</li><li>68</li><li>87</li><li>43</li><li>10</li><li>72</li><li>34</li><li>55</li><li>37</li><li>56</li><li>73</li><li>48</li><li>56</li><li>38</li><li>45</li><li>54</li><li>34</li><li>88</li><li>36</li><li>50</li><li>82</li><li>62</li><li>70</li><li>98</li><li>82</li><li>56</li><li>40</li><li>70</li><li>75</li><li>64</li><li>54</li><li>33</li><li>66</li><li>93</li><li>78</li><li>60</li><li>64</li><li>74</li><li>85</li><li>52</li><li>51</li><li>78</li><li>70</li><li>54</li><li>58</li><li>62</li><li>75</li><li>66</li><li>49</li><li>65</li><li>45</li><li>65</li><li>51</li><li>55</li><li>76</li><li>77</li><li>76</li><li>66</li><li>79</li><li>27</li><li>60</li><li>56</li><li>88</li><li>39</li><li>70</li><li>62</li><li>54</li><li>64</li><li>67</li><li>66</li><li>83</li><li>68</li><li>81</li><li>77</li><li>51</li><li>41</li><li>70</li><li>58</li><li>80</li><li>57</li><li>84</li><li>78</li><li>76</li><li>80</li><li>60</li><li>50</li><li>75</li><li>81</li><li>52</li><li>67</li><li>52</li><li>69</li><li>63</li><li>84</li><li>53</li><li>43</li><li>19</li><li>66</li><li>27</li><li>60</li><li>52</li><li>66</li><li>69</li><li>61</li><li>32</li><li>60</li><li>61</li><li>58</li><li>70</li><li>41</li><li>100</li><li>71</li><li>45</li><li>43</li><li>67</li><li>59</li><li>41</li><li>63</li><li>55</li><li>56</li><li>79</li><li>54</li><li>93</li><li>67</li><li>34</li><li>62</li><li>65</li><li>53</li><li>54</li><li>59</li><li>50</li><li>53</li><li>73</li><li>69</li><li>73</li><li>60</li><li>85</li><li>74</li><li>49</li><li>62</li><li>47</li><li>48</li><li>55</li><li>45</li><li>91</li><li>38</li><li>65</li><li>85</li><li>56</li><li>61</li><li>56</li><li>74</li><li>82</li><li>76</li><li>76</li><li>54</li><li>54</li><li>54</li><li>52</li><li>94</li><li>79</li><li>50</li><li>60</li><li>43</li><li>47</li><li>83</li><li>80</li><li>80</li><li>64</li><li>65</li><li>88</li><li>64</li><li>33</li><li>66</li><li>70</li><li>80</li><li>46</li><li>100</li><li>78</li><li>47</li><li>67</li><li>64</li><li>53</li><li>58</li><li>78</li><li>62</li><li>54</li><li>15</li><li>51</li><li>90</li><li>54</li><li>63</li><li>68</li><li>54</li><li>56</li><li>52</li><li>62</li><li>63</li><li>46</li><li>81</li><li>90</li><li>79</li><li>68</li><li>53</li><li>64</li><li>58</li><li>73</li><li>69</li><li>60</li><li>71</li><li>87</li><li>68</li><li>50</li><li>78</li><li>60</li><li>44</li><li>73</li><li>44</li><li>83</li><li>78</li><li>81</li><li>86</li><li>59</li><li>64</li><li>65</li><li>58</li><li>87</li><li>80</li><li>70</li><li>59</li><li>88</li><li>84</li><li>80</li><li>43</li><li>57</li><li>73</li><li>55</li><li>56</li><li>47</li><li>59</li><li>75</li><li>53</li><li>72</li><li>65</li><li>64</li><li>57</li><li>72</li><li>79</li><li>55</li><li>43</li><li>57</li><li>82</li><li>77</li><li>61</li><li>61</li><li>70</li><li>69</li><li>73</li><li>81</li><li>74</li><li>75</li><li>40</li><li>49</li><li>76</li><li>68</li><li>93</li><li>51</li><li>82</li><li>52</li><li>70</li><li>81</li><li>57</li><li>89</li><li>53</li><li>46</li><li>36</li><li>76</li><li>64</li><li>65</li><li>72</li><li>87</li><li>38</li><li>52</li><li>72</li><li>51</li><li>82</li><li>61</li><li>66</li><li>71</li><li>44</li><li>59</li><li>74</li><li>48</li><li>73</li><li>38</li><li>27</li><li>79</li><li>41</li><li>100</li><li>84</li><li>72</li><li>48</li><li>66</li><li>55</li><li>67</li><li>46</li><li>65</li><li>69</li><li>52</li><li>71</li><li>44</li><li>51</li><li>70</li><li>62</li><li>73</li><li>74</li><li>58</li><li>57</li><li>72</li><li>61</li><li>60</li><li>52</li><li>73</li><li>72</li><li>53</li><li>75</li><li>60</li><li>61</li><li>60</li><li>23</li><li>45</li><li>83</li><li>75</li><li>76</li><li>74</li><li>55</li><li>65</li><li>86</li></ol>\n"
            ]
          },
          "metadata": {
            "tags": []
          }
        }
      ]
    },
    {
      "cell_type": "code",
      "metadata": {
        "colab": {
          "base_uri": "https://localhost:8080/",
          "height": 52
        },
        "id": "NXA8Vyj_ZISS",
        "outputId": "5e304f7e-9007-4080-b79a-98d8e9479caa"
      },
      "source": [
        "#3. mean between two groupa\n",
        "mean( standard)\n",
        "mean(free)"
      ],
      "execution_count": null,
      "outputs": [
        {
          "output_type": "display_data",
          "data": {
            "text/plain": [
              "[1] 70.82326"
            ],
            "text/latex": "70.8232558139535",
            "text/markdown": "70.8232558139535",
            "text/html": [
              "70.8232558139535"
            ]
          },
          "metadata": {
            "tags": []
          }
        },
        {
          "output_type": "display_data",
          "data": {
            "text/plain": [
              "[1] 63.02254"
            ],
            "text/latex": "63.0225352112676",
            "text/markdown": "63.0225352112676",
            "text/html": [
              "63.0225352112676"
            ]
          },
          "metadata": {
            "tags": []
          }
        }
      ]
    },
    {
      "cell_type": "markdown",
      "metadata": {
        "id": "teUl7TMkZtlF"
      },
      "source": [
        "3. There is a little bit difference. The average of standard lunch is bigger than free/reduced one. "
      ]
    },
    {
      "cell_type": "markdown",
      "metadata": {
        "id": "Reh-L9RrOptc"
      },
      "source": [
        "<br>\n",
        "\n",
        "---\n",
        "\n",
        "<br>\n",
        "\n",
        "\n",
        "\n",
        "\n"
      ]
    },
    {
      "cell_type": "markdown",
      "metadata": {
        "id": "uCoHHDR9OiI_"
      },
      "source": [
        "####<font color=red>Task 4</font>  (2 points)\n",
        "\n",
        "1.  Plot histograms of the two groups using the code below\n",
        "```\n",
        "hist_standard <- hist(standard, plot = FALSE)\n",
        "hist_free     <- hist(free, plot = FALSE)\n",
        "```\n",
        "```\n",
        "plot(hist_standard, \n",
        "     col = rgb(0, 0, 1, 0.5),\n",
        "     xlim = c(0, 100),\n",
        "     xlab = \"Writing Score\",\n",
        "     main = \"Histogram of Writing Score \\n blue = standard, red = free\")\n",
        "plot(hist_free, \n",
        "     add = TRUE,\n",
        "     xlim = c(0, 100),\n",
        "     col = rgb(1, 0, 0, 0.5))\n",
        "```\n",
        "\n",
        "<br>\n",
        "\n",
        "2. Are the distributions of writing for `standard` and `free` very different? Explain in the context of mean, median, and mode of the distributions.\n"
      ]
    },
    {
      "cell_type": "code",
      "metadata": {
        "colab": {
          "base_uri": "https://localhost:8080/",
          "height": 437
        },
        "id": "w5KVH-SuXuJt",
        "outputId": "1461d2b0-368b-47aa-e79f-454f04f6b8bc"
      },
      "source": [
        "#1.\n",
        "hist_standard <- hist(standard, plot = FALSE)\n",
        "hist_free     <- hist(free, plot = FALSE)\n",
        "\n",
        "plot(hist_standard, \n",
        " col = rgb(0, 0, 1, 0.5),\n",
        " xlim = c(0, 100),\n",
        " xlab = \"Writing Score\",\n",
        " main = \"Histogram of Writing Score \\n blue = standard, red = free\")\n",
        "plot(hist_free, \n",
        " add = TRUE,\n",
        " xlim = c(0, 100),\n",
        " col = rgb(1, 0, 0, 0.5))"
      ],
      "execution_count": null,
      "outputs": [
        {
          "output_type": "display_data",
          "data": {
            "image/png": "[encoded data removed]",
            "text/plain": [
              "Plot with title “Histogram of Writing Score \n",
              " blue = standard, red = free”"
            ]
          },
          "metadata": {
            "tags": [],
            "image/png": {
              "width": 420,
              "height": 420
            }
          }
        }
      ]
    },
    {
      "cell_type": "markdown",
      "metadata": {
        "id": "VIiI-hscMTsH"
      },
      "source": [
        "2. Both graph have similar distribution. First, for the \"standard\"graph the mean is closed to 75, median is about 60 and mode is between 70 and 80. Second, for the\"free\" graph, the mean is closed to 55, median is 55 and mode is between 50~60. "
      ]
    },
    {
      "cell_type": "markdown",
      "metadata": {
        "id": "Ty_FrrI9PSCk"
      },
      "source": [
        "<br>\n",
        "\n",
        "---\n",
        "\n",
        "<br>\n",
        "\n",
        "\n",
        "\n",
        "\n"
      ]
    },
    {
      "cell_type": "markdown",
      "metadata": {
        "id": "qDa2h_u8apaf"
      },
      "source": [
        "####<font color=red>Task 5</font>  (4 points)\n",
        "\n",
        "You collect data on the calorie intake of incoming college freshman. You find that the data approximately follow a normal distribution with mean $\\mu = 2200$ calories and standard deviation $\\sigma = 500$ calories.\n",
        "\n",
        "1. Using R as a calculator, find the interval that contains the middle ~68% of the data. Explain your answer in a complete sentence.\n",
        "\n",
        "2. Using R as a calculator, find the interval that contains the middle ~95% of the data. Explain your answer in a complete sentence.\n",
        "\n",
        "3. Using R as a calculator, find the interval that contains the middle ~99.7% of the data. Explain your answer in a complete sentence.\n",
        "\n",
        "4. 2.5% of students fall above a certain number of calories. What is this number? Explain your answer in a complete sentence."
      ]
    },
    {
      "cell_type": "markdown",
      "metadata": {
        "id": "zWi7XNXv7N6B"
      },
      "source": [
        "1. (2200-1x500, 2200+1x500 ) bold text"
      ]
    },
    {
      "cell_type": "markdown",
      "metadata": {
        "id": "VEUv_BcY86NA"
      },
      "source": [
        "2. (2200-2x500, 2200+2x500)"
      ]
    },
    {
      "cell_type": "markdown",
      "metadata": {
        "id": "uORoALzC9PQj"
      },
      "source": [
        "3.(2200-3x500, 2200+3x500)"
      ]
    },
    {
      "cell_type": "markdown",
      "metadata": {
        "id": "ohC0ZT_m9Ydy"
      },
      "source": [
        "4. 2200+2*500. That is 3200. Since for the interval that contains 95% of the data, the space remains 5%. That's 2.5% on each side."
      ]
    },
    {
      "cell_type": "markdown",
      "metadata": {
        "id": "3SNaPdzdaNLi"
      },
      "source": [
        "[link text](https:// [link text](https://))<br>\n",
        "\n",
        "---\n",
        "\n",
        "<br>\n",
        "\n",
        "\n",
        "\n",
        "\n"
      ]
    },
    {
      "cell_type": "markdown",
      "metadata": {
        "id": "HT3Cs3UAaNMB"
      },
      "source": [
        "####<font color=red>Task 6</font>  (6 points)\n",
        "\n",
        "Find a histogram online that interests you.\n",
        "\n",
        "1. Include the link of the histogram you selected in a text cell.\n",
        "\n",
        "2. What is the x-axis? Explain your answer in complete sentences.\n",
        "\n",
        "3. What is the y-axis? Explain your answer in complete sentences.\n",
        "\n",
        "4. What is the minimum and maximum of the data? range? Explain your answer in complete sentences.\n",
        "\n",
        "5. Is the distribution left skewed? right skewed? symmetric? Explain your answer in complete sentences.\n",
        "\n",
        "6. Is the mean greater than or less than the median? Explain your answer in complete sentences."
      ]
    },
    {
      "cell_type": "markdown",
      "metadata": {
        "id": "lJW7uSqw3OmJ"
      },
      "source": [
        "1. https://obesityinamericablog.files.wordpress.com/2012/01/screen-shot-2012-01-08-at-10-29-23-am.png"
      ]
    },
    {
      "cell_type": "markdown",
      "metadata": {
        "id": "tGiZSlHv3Qxz"
      },
      "source": [
        "2. x-axis is about the percentage of obesity.\n"
      ]
    },
    {
      "cell_type": "markdown",
      "metadata": {
        "id": "Xdrw0oBR4cwq"
      },
      "source": [
        "3. y-axis is about frequency."
      ]
    },
    {
      "cell_type": "markdown",
      "metadata": {
        "id": "38Inxqf74mFd"
      },
      "source": [
        "4. The highest frequency is 18 and the smallest frequency is 3. Range is 34-16=18."
      ]
    },
    {
      "cell_type": "markdown",
      "metadata": {
        "id": "jlvf3Qny5BWV"
      },
      "source": [
        "5. It tends to right skewed."
      ]
    },
    {
      "cell_type": "markdown",
      "metadata": {
        "id": "IXecZpoI5On8"
      },
      "source": [
        "6. mean>median. Since the high obesity rates are outlier. "
      ]
    }
  ]
}