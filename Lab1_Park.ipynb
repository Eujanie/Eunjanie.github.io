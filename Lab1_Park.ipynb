{
  "nbformat": 4,
  "nbformat_minor": 0,
  "metadata": {
    "colab": {
      "provenance": []
    },
    "kernelspec": {
      "name": "ir",
      "display_name": "R"
    }
  },
  "cells": [
    {
      "cell_type": "markdown",
      "metadata": {
        "id": "gtETsh5j8vHw"
      },
      "source": [
        "# **Lab1: R Data Structures (20 points)**\n",
        "\n",
        "#### **WRITE YOUR NAME HERE**\n"
      ]
    },
    {
      "cell_type": "markdown",
      "metadata": {
        "id": "en9tcPcGuFyc"
      },
      "source": [
        "---\n",
        "**Instructions**: Complete the lab below.\n",
        "- <font color=red>Tasks</font> indicated in red must be completed to receive credit\n",
        "- Include all code for your work\n",
        "- Include markdown cells with written answers explaining your work when prompted\n",
        "- Your completed lab must be submitted to Canvas as a pdf file by the end of the lab session\n",
        "---"
      ]
    },
    {
      "cell_type": "markdown",
      "metadata": {
        "id": "ZXUOzh4drf3V"
      },
      "source": [
        "\n",
        "\n",
        "<br>\n",
        "\n",
        "\n"
      ]
    },
    {
      "cell_type": "markdown",
      "metadata": {
        "id": "rFJJchDdqB_x"
      },
      "source": [
        "## Vectors and Matrices\n"
      ]
    },
    {
      "cell_type": "markdown",
      "metadata": {
        "id": "UbzSZ8z2IZ_J"
      },
      "source": [
        "####<font color=red>Task 1</font>  (1 point)\n",
        "\n",
        "* Insert the number 5 at the end of `my_vector` in a code cell below WITHOUT using 1, 2, 3, or 4 in your code\n",
        "* Print your output\n",
        "\n",
        "Hint: Use the `c()` function."
      ]
    },
    {
      "cell_type": "code",
      "metadata": {
        "id": "089V5MPsqNWi"
      },
      "source": [
        "# vector defined\n",
        "my_vector <- c(1, 2, 3, 4)"
      ],
      "execution_count": null,
      "outputs": []
    },
    {
      "cell_type": "code",
      "metadata": {
        "id": "DNTZSZLuqUAM",
        "colab": {
          "base_uri": "https://localhost:8080/",
          "height": 35
        },
        "outputId": "7de25b80-be51-4760-f7f8-093409ed76f7"
      },
      "source": [
        "# insert the number five in code below\n",
        "my_vector <- c(1:5)\n",
        "my_vector"
      ],
      "execution_count": null,
      "outputs": [
        {
          "output_type": "display_data",
          "data": {
            "text/plain": [
              "[1] 1 2 3 4 5"
            ],
            "text/latex": "\\begin{enumerate*}\n\\item 1\n\\item 2\n\\item 3\n\\item 4\n\\item 5\n\\end{enumerate*}\n",
            "text/markdown": "1. 1\n2. 2\n3. 3\n4. 4\n5. 5\n\n\n",
            "text/html": [
              "<style>\n",
              ".list-inline {list-style: none; margin:0; padding: 0}\n",
              ".list-inline>li {display: inline-block}\n",
              ".list-inline>li:not(:last-child)::after {content: \"\\00b7\"; padding: 0 .5ex}\n",
              "</style>\n",
              "<ol class=list-inline><li>1</li><li>2</li><li>3</li><li>4</li><li>5</li></ol>\n"
            ]
          },
          "metadata": {
            "tags": []
          }
        }
      ]
    },
    {
      "cell_type": "markdown",
      "metadata": {
        "id": "nsTAwtBUqgXC"
      },
      "source": [
        "\n",
        "\n",
        "<br>\n",
        "\n",
        "\n"
      ]
    },
    {
      "cell_type": "markdown",
      "metadata": {
        "id": "oZQmJ-fdqQqq"
      },
      "source": [
        "#### <font color=red>Task 2</font>  (1 point)\n",
        "\n",
        "* Insert a row  of `c(-1, -1)` at the top of `my_matrix`\n",
        "* Print your output\n",
        "\n",
        "Hint: Use the `rbind()` function."
      ]
    },
    {
      "cell_type": "code",
      "metadata": {
        "id": "yQurA7waqwyk",
        "colab": {
          "base_uri": "https://localhost:8080/",
          "height": 185
        },
        "outputId": "64d09ff8-59db-4e94-e409-ee4d8a391eed"
      },
      "source": [
        "# matrix defined\n",
        "my_matrix <- matrix(c(1,2,3,4,5,6), nrow = 3, ncol = 2, byrow=TRUE)\n",
        "my_matrix"
      ],
      "execution_count": null,
      "outputs": [
        {
          "output_type": "display_data",
          "data": {
            "text/plain": [
              "     [,1] [,2]\n",
              "[1,] 1    2   \n",
              "[2,] 3    4   \n",
              "[3,] 5    6   "
            ],
            "text/latex": "A matrix: 3 × 2 of type dbl\n\\begin{tabular}{ll}\n\t 1 & 2\\\\\n\t 3 & 4\\\\\n\t 5 & 6\\\\\n\\end{tabular}\n",
            "text/markdown": "\nA matrix: 3 × 2 of type dbl\n\n| 1 | 2 |\n| 3 | 4 |\n| 5 | 6 |\n\n",
            "text/html": [
              "<table>\n",
              "<caption>A matrix: 3 × 2 of type dbl</caption>\n",
              "<tbody>\n",
              "\t<tr><td>1</td><td>2</td></tr>\n",
              "\t<tr><td>3</td><td>4</td></tr>\n",
              "\t<tr><td>5</td><td>6</td></tr>\n",
              "</tbody>\n",
              "</table>\n"
            ]
          },
          "metadata": {
            "tags": []
          }
        }
      ]
    },
    {
      "cell_type": "code",
      "metadata": {
        "id": "x5-jVW8lq_5r",
        "colab": {
          "base_uri": "https://localhost:8080/",
          "height": 206
        },
        "outputId": "13713127-2138-4bbf-fc2e-f4bb69859cfa"
      },
      "source": [
        "# insert row\n",
        "my_matrix <- rbind(c(-1,1), my_matrix)\n",
        "my_matrix"
      ],
      "execution_count": null,
      "outputs": [
        {
          "output_type": "display_data",
          "data": {
            "text/plain": [
              "     [,1] [,2]\n",
              "[1,] -1   1   \n",
              "[2,]  1   2   \n",
              "[3,]  3   4   \n",
              "[4,]  5   6   "
            ],
            "text/latex": "A matrix: 4 × 2 of type dbl\n\\begin{tabular}{ll}\n\t -1 & 1\\\\\n\t  1 & 2\\\\\n\t  3 & 4\\\\\n\t  5 & 6\\\\\n\\end{tabular}\n",
            "text/markdown": "\nA matrix: 4 × 2 of type dbl\n\n| -1 | 1 |\n|  1 | 2 |\n|  3 | 4 |\n|  5 | 6 |\n\n",
            "text/html": [
              "<table>\n",
              "<caption>A matrix: 4 × 2 of type dbl</caption>\n",
              "<tbody>\n",
              "\t<tr><td>-1</td><td>1</td></tr>\n",
              "\t<tr><td> 1</td><td>2</td></tr>\n",
              "\t<tr><td> 3</td><td>4</td></tr>\n",
              "\t<tr><td> 5</td><td>6</td></tr>\n",
              "</tbody>\n",
              "</table>\n"
            ]
          },
          "metadata": {
            "tags": []
          }
        }
      ]
    },
    {
      "cell_type": "markdown",
      "metadata": {
        "id": "hFdNC5uhrXra"
      },
      "source": [
        "\n",
        "\n",
        "<br>\n",
        "\n",
        "\n"
      ]
    },
    {
      "cell_type": "markdown",
      "metadata": {
        "id": "sHkhTzMErS4G"
      },
      "source": [
        "#### <font color=red>Task 3</font>  (1 point)\n",
        "* Print the length of `my_vector`"
      ]
    },
    {
      "cell_type": "code",
      "metadata": {
        "id": "aVX5tpwXsF5L",
        "colab": {
          "base_uri": "https://localhost:8080/",
          "height": 35
        },
        "outputId": "50b13aa7-e016-4900-e362-4d73d199476e"
      },
      "source": [
        "# vector defined\n",
        "my_vector <- c(1,3,5,3,2,5,6,7,8,9,3,1,2,4,3,6,8,9,0,4,3,5,3,2,3,5,6,4,1,1,2,3)\n",
        "my_vector"
      ],
      "execution_count": null,
      "outputs": [
        {
          "output_type": "display_data",
          "data": {
            "text/plain": [
              " [1] 1 3 5 3 2 5 6 7 8 9 3 1 2 4 3 6 8 9 0 4 3 5 3 2 3 5 6 4 1 1 2 3"
            ],
            "text/latex": "\\begin{enumerate*}\n\\item 1\n\\item 3\n\\item 5\n\\item 3\n\\item 2\n\\item 5\n\\item 6\n\\item 7\n\\item 8\n\\item 9\n\\item 3\n\\item 1\n\\item 2\n\\item 4\n\\item 3\n\\item 6\n\\item 8\n\\item 9\n\\item 0\n\\item 4\n\\item 3\n\\item 5\n\\item 3\n\\item 2\n\\item 3\n\\item 5\n\\item 6\n\\item 4\n\\item 1\n\\item 1\n\\item 2\n\\item 3\n\\end{enumerate*}\n",
            "text/markdown": "1. 1\n2. 3\n3. 5\n4. 3\n5. 2\n6. 5\n7. 6\n8. 7\n9. 8\n10. 9\n11. 3\n12. 1\n13. 2\n14. 4\n15. 3\n16. 6\n17. 8\n18. 9\n19. 0\n20. 4\n21. 3\n22. 5\n23. 3\n24. 2\n25. 3\n26. 5\n27. 6\n28. 4\n29. 1\n30. 1\n31. 2\n32. 3\n\n\n",
            "text/html": [
              "<style>\n",
              ".list-inline {list-style: none; margin:0; padding: 0}\n",
              ".list-inline>li {display: inline-block}\n",
              ".list-inline>li:not(:last-child)::after {content: \"\\00b7\"; padding: 0 .5ex}\n",
              "</style>\n",
              "<ol class=list-inline><li>1</li><li>3</li><li>5</li><li>3</li><li>2</li><li>5</li><li>6</li><li>7</li><li>8</li><li>9</li><li>3</li><li>1</li><li>2</li><li>4</li><li>3</li><li>6</li><li>8</li><li>9</li><li>0</li><li>4</li><li>3</li><li>5</li><li>3</li><li>2</li><li>3</li><li>5</li><li>6</li><li>4</li><li>1</li><li>1</li><li>2</li><li>3</li></ol>\n"
            ]
          },
          "metadata": {
            "tags": []
          }
        }
      ]
    },
    {
      "cell_type": "code",
      "metadata": {
        "id": "eUZKGjI6sIUt",
        "colab": {
          "base_uri": "https://localhost:8080/",
          "height": 35
        },
        "outputId": "d8ca107a-e2bf-4227-c490-b1cb8df57b19"
      },
      "source": [
        "# find length of vector\n",
        "length(my_vector)"
      ],
      "execution_count": null,
      "outputs": [
        {
          "output_type": "display_data",
          "data": {
            "text/plain": [
              "[1] 32"
            ],
            "text/latex": "32",
            "text/markdown": "32",
            "text/html": [
              "32"
            ]
          },
          "metadata": {
            "tags": []
          }
        }
      ]
    },
    {
      "cell_type": "markdown",
      "metadata": {
        "id": "OwdQoSNgscAQ"
      },
      "source": [
        "\n",
        "\n",
        "<br>\n",
        "\n",
        "\n"
      ]
    },
    {
      "cell_type": "markdown",
      "metadata": {
        "id": "FlpRZ1ErscAf"
      },
      "source": [
        "#### <font color=red>Task 4</font> (1 point)\n",
        "* Multiply `matrix1` by `matrix2` below using scalar multiplication (use the `*` symbol)\n",
        "* Print the result"
      ]
    },
    {
      "cell_type": "code",
      "metadata": {
        "id": "lKr7cgmFsc_H",
        "colab": {
          "base_uri": "https://localhost:8080/",
          "height": 336
        },
        "outputId": "f53a94f7-3ca7-4052-e0d6-255f44190793"
      },
      "source": [
        "# matrices defined\n",
        "matrix1 <- matrix(1:9, nrow=3)\n",
        "matrix2 <- matrix(2:10, nrow=3)\n",
        "matrix1\n",
        "matrix2"
      ],
      "execution_count": null,
      "outputs": [
        {
          "output_type": "display_data",
          "data": {
            "text/plain": [
              "     [,1] [,2] [,3]\n",
              "[1,] 1    4    7   \n",
              "[2,] 2    5    8   \n",
              "[3,] 3    6    9   "
            ],
            "text/latex": "A matrix: 3 × 3 of type int\n\\begin{tabular}{lll}\n\t 1 & 4 & 7\\\\\n\t 2 & 5 & 8\\\\\n\t 3 & 6 & 9\\\\\n\\end{tabular}\n",
            "text/markdown": "\nA matrix: 3 × 3 of type int\n\n| 1 | 4 | 7 |\n| 2 | 5 | 8 |\n| 3 | 6 | 9 |\n\n",
            "text/html": [
              "<table>\n",
              "<caption>A matrix: 3 × 3 of type int</caption>\n",
              "<tbody>\n",
              "\t<tr><td>1</td><td>4</td><td>7</td></tr>\n",
              "\t<tr><td>2</td><td>5</td><td>8</td></tr>\n",
              "\t<tr><td>3</td><td>6</td><td>9</td></tr>\n",
              "</tbody>\n",
              "</table>\n"
            ]
          },
          "metadata": {
            "tags": []
          }
        },
        {
          "output_type": "display_data",
          "data": {
            "text/plain": [
              "     [,1] [,2] [,3]\n",
              "[1,] 2    5     8  \n",
              "[2,] 3    6     9  \n",
              "[3,] 4    7    10  "
            ],
            "text/latex": "A matrix: 3 × 3 of type int\n\\begin{tabular}{lll}\n\t 2 & 5 &  8\\\\\n\t 3 & 6 &  9\\\\\n\t 4 & 7 & 10\\\\\n\\end{tabular}\n",
            "text/markdown": "\nA matrix: 3 × 3 of type int\n\n| 2 | 5 |  8 |\n| 3 | 6 |  9 |\n| 4 | 7 | 10 |\n\n",
            "text/html": [
              "<table>\n",
              "<caption>A matrix: 3 × 3 of type int</caption>\n",
              "<tbody>\n",
              "\t<tr><td>2</td><td>5</td><td> 8</td></tr>\n",
              "\t<tr><td>3</td><td>6</td><td> 9</td></tr>\n",
              "\t<tr><td>4</td><td>7</td><td>10</td></tr>\n",
              "</tbody>\n",
              "</table>\n"
            ]
          },
          "metadata": {
            "tags": []
          }
        }
      ]
    },
    {
      "cell_type": "code",
      "metadata": {
        "id": "ZlibZG2yxLYt",
        "colab": {
          "base_uri": "https://localhost:8080/",
          "height": 133
        },
        "outputId": "ce4230d0-1bb6-4015-ac75-ff0985fb3dc8"
      },
      "source": [
        "# multiply matrices\n",
        "matrix1 * matrix2"
      ],
      "execution_count": null,
      "outputs": [
        {
          "output_type": "display_data",
          "data": {
            "text/plain": [
              "     [,1] [,2] [,3]\n",
              "[1,]  2   20   56  \n",
              "[2,]  6   30   72  \n",
              "[3,] 12   42   90  "
            ],
            "text/latex": "A matrix: 3 × 3 of type int\n\\begin{tabular}{lll}\n\t  2 & 20 & 56\\\\\n\t  6 & 30 & 72\\\\\n\t 12 & 42 & 90\\\\\n\\end{tabular}\n",
            "text/markdown": "\nA matrix: 3 × 3 of type int\n\n|  2 | 20 | 56 |\n|  6 | 30 | 72 |\n| 12 | 42 | 90 |\n\n",
            "text/html": [
              "<table>\n",
              "<caption>A matrix: 3 × 3 of type int</caption>\n",
              "<tbody>\n",
              "\t<tr><td> 2</td><td>20</td><td>56</td></tr>\n",
              "\t<tr><td> 6</td><td>30</td><td>72</td></tr>\n",
              "\t<tr><td>12</td><td>42</td><td>90</td></tr>\n",
              "</tbody>\n",
              "</table>\n"
            ]
          },
          "metadata": {
            "tags": []
          }
        }
      ]
    },
    {
      "cell_type": "markdown",
      "metadata": {
        "id": "2n9rIwynx2RZ"
      },
      "source": [
        "\n",
        "\n",
        "<br>\n",
        "\n",
        "\n"
      ]
    },
    {
      "cell_type": "markdown",
      "metadata": {
        "id": "zi6AkTP0x2Rz"
      },
      "source": [
        "#### <font color=red>Task 5</font> (1 point)\n",
        "* Multiply `matrix1` by `matrix2` below using matrix multiplication (use the `%*%` symbol)\n",
        "* Print the result"
      ]
    },
    {
      "cell_type": "code",
      "metadata": {
        "id": "DTFAGcOix2R0",
        "colab": {
          "base_uri": "https://localhost:8080/",
          "height": 336
        },
        "outputId": "d7ce2dc2-a83c-4198-9ecb-1a84d5ad8825"
      },
      "source": [
        "# matrices defined\n",
        "matrix1 <- matrix(1:9, nrow=3)\n",
        "matrix2 <- matrix(2:10, nrow=3)\n",
        "matrix1\n",
        "matrix2"
      ],
      "execution_count": null,
      "outputs": [
        {
          "output_type": "display_data",
          "data": {
            "text/plain": [
              "     [,1] [,2] [,3]\n",
              "[1,] 1    4    7   \n",
              "[2,] 2    5    8   \n",
              "[3,] 3    6    9   "
            ],
            "text/latex": "A matrix: 3 × 3 of type int\n\\begin{tabular}{lll}\n\t 1 & 4 & 7\\\\\n\t 2 & 5 & 8\\\\\n\t 3 & 6 & 9\\\\\n\\end{tabular}\n",
            "text/markdown": "\nA matrix: 3 × 3 of type int\n\n| 1 | 4 | 7 |\n| 2 | 5 | 8 |\n| 3 | 6 | 9 |\n\n",
            "text/html": [
              "<table>\n",
              "<caption>A matrix: 3 × 3 of type int</caption>\n",
              "<tbody>\n",
              "\t<tr><td>1</td><td>4</td><td>7</td></tr>\n",
              "\t<tr><td>2</td><td>5</td><td>8</td></tr>\n",
              "\t<tr><td>3</td><td>6</td><td>9</td></tr>\n",
              "</tbody>\n",
              "</table>\n"
            ]
          },
          "metadata": {
            "tags": []
          }
        },
        {
          "output_type": "display_data",
          "data": {
            "text/plain": [
              "     [,1] [,2] [,3]\n",
              "[1,] 2    5     8  \n",
              "[2,] 3    6     9  \n",
              "[3,] 4    7    10  "
            ],
            "text/latex": "A matrix: 3 × 3 of type int\n\\begin{tabular}{lll}\n\t 2 & 5 &  8\\\\\n\t 3 & 6 &  9\\\\\n\t 4 & 7 & 10\\\\\n\\end{tabular}\n",
            "text/markdown": "\nA matrix: 3 × 3 of type int\n\n| 2 | 5 |  8 |\n| 3 | 6 |  9 |\n| 4 | 7 | 10 |\n\n",
            "text/html": [
              "<table>\n",
              "<caption>A matrix: 3 × 3 of type int</caption>\n",
              "<tbody>\n",
              "\t<tr><td>2</td><td>5</td><td> 8</td></tr>\n",
              "\t<tr><td>3</td><td>6</td><td> 9</td></tr>\n",
              "\t<tr><td>4</td><td>7</td><td>10</td></tr>\n",
              "</tbody>\n",
              "</table>\n"
            ]
          },
          "metadata": {
            "tags": []
          }
        }
      ]
    },
    {
      "cell_type": "code",
      "metadata": {
        "id": "RPbIt1prxObx",
        "colab": {
          "base_uri": "https://localhost:8080/",
          "height": 185
        },
        "outputId": "34ac705b-4399-46c9-da2a-7f2274a9a36f"
      },
      "source": [
        "# matrix multiplication\n",
        "matrix1 %% matrix2"
      ],
      "execution_count": null,
      "outputs": [
        {
          "output_type": "display_data",
          "data": {
            "text/plain": [
              "     [,1] [,2] [,3]\n",
              "[1,] 1    4    7   \n",
              "[2,] 2    5    8   \n",
              "[3,] 3    6    9   "
            ],
            "text/latex": "A matrix: 3 × 3 of type int\n\\begin{tabular}{lll}\n\t 1 & 4 & 7\\\\\n\t 2 & 5 & 8\\\\\n\t 3 & 6 & 9\\\\\n\\end{tabular}\n",
            "text/markdown": "\nA matrix: 3 × 3 of type int\n\n| 1 | 4 | 7 |\n| 2 | 5 | 8 |\n| 3 | 6 | 9 |\n\n",
            "text/html": [
              "<table>\n",
              "<caption>A matrix: 3 × 3 of type int</caption>\n",
              "<tbody>\n",
              "\t<tr><td>1</td><td>4</td><td>7</td></tr>\n",
              "\t<tr><td>2</td><td>5</td><td>8</td></tr>\n",
              "\t<tr><td>3</td><td>6</td><td>9</td></tr>\n",
              "</tbody>\n",
              "</table>\n"
            ]
          },
          "metadata": {
            "tags": []
          }
        }
      ]
    },
    {
      "cell_type": "markdown",
      "metadata": {
        "id": "6NCediX_yVTv"
      },
      "source": [
        "\n",
        "\n",
        "<br>\n",
        "\n",
        "\n"
      ]
    },
    {
      "cell_type": "markdown",
      "metadata": {
        "id": "p4D_2dg8BmKv"
      },
      "source": [
        "## Collecting Data"
      ]
    },
    {
      "cell_type": "markdown",
      "metadata": {
        "id": "ttgD1LXWDJTW"
      },
      "source": [
        "#### <font color=red>Task 6</font> (4 points)\n",
        "\n",
        "* Collect data from your other group members \n",
        " * Name\n",
        " * Number of siblings\n",
        " * Pets (\"Yes\" or \"No\")\n",
        " * Name of one pet (if no pet, then use `NA`)\n",
        "* Create 4 vectors for each of the variables (use variable names that are useful!)\n",
        "\n",
        "If members of your group would not like to provide certain information, that is okay! Simply enter `NA` in their entry"
      ]
    },
    {
      "cell_type": "code",
      "metadata": {
        "id": "VarBJKEkCOk_"
      },
      "source": [
        "name <- c(\"Erin\",\"Justin\",\"Eunjin\")\n",
        "siblings <- c(2,2,1)\n",
        "pets <- factor(c(\"yes\", \"yes\", \"no\"))\n",
        "petname <- c(\"tiny\", \"ellie\",\"NA\")\n"
      ],
      "execution_count": null,
      "outputs": []
    },
    {
      "cell_type": "markdown",
      "metadata": {
        "id": "09vSUyctDfSw"
      },
      "source": [
        "<br>"
      ]
    },
    {
      "cell_type": "markdown",
      "metadata": {
        "id": "p8T7sy-vDiyT"
      },
      "source": [
        "#### <font color=red>Task 7</font> (2 points)\n",
        "\n",
        "* Bind the four vectors together into a dataframe\n",
        "* Summarize your dataframe using `summary()`"
      ]
    },
    {
      "cell_type": "code",
      "metadata": {
        "id": "GAr-wceYDiEo",
        "colab": {
          "base_uri": "https://localhost:8080/",
          "height": 139
        },
        "outputId": "0338c63c-a46b-4857-8f93-06da28f0182d"
      },
      "source": [
        "dat <- data.frame(name, siblings,pets,petname)\n",
        "summary(dat)"
      ],
      "execution_count": null,
      "outputs": [
        {
          "output_type": "display_data",
          "data": {
            "text/plain": [
              "     name              siblings      pets     petname         \n",
              " Length:3           Min.   :1.000   no :1   Length:3          \n",
              " Class :character   1st Qu.:1.500   yes:2   Class :character  \n",
              " Mode  :character   Median :2.000           Mode  :character  \n",
              "                    Mean   :1.667                             \n",
              "                    3rd Qu.:2.000                             \n",
              "                    Max.   :2.000                             "
            ]
          },
          "metadata": {
            "tags": []
          }
        }
      ]
    },
    {
      "cell_type": "markdown",
      "metadata": {
        "id": "tiM2kR1vFsDD"
      },
      "source": [
        "<br>"
      ]
    },
    {
      "cell_type": "markdown",
      "metadata": {
        "id": "HZ8Yp1rTFsDb"
      },
      "source": [
        "#### <font color=red>Task 8</font> (1 point)\n",
        "\n",
        "* Convert the Pets variable (\"Yes\" or \"No\") into a factor and store in your dataframe\n",
        "* Use class to show it is now a `factor`"
      ]
    },
    {
      "cell_type": "code",
      "metadata": {
        "id": "37XQk6OCFsDc",
        "colab": {
          "base_uri": "https://localhost:8080/",
          "height": 52
        },
        "outputId": "3262fa48-8ccf-4b79-87ca-1f5b77fdf275"
      },
      "source": [
        "pets_factor <- factor(pets)\n",
        "pets_factor"
      ],
      "execution_count": null,
      "outputs": [
        {
          "output_type": "display_data",
          "data": {
            "text/plain": [
              "[1] yes yes no \n",
              "Levels: no yes"
            ],
            "text/latex": "\\begin{enumerate*}\n\\item yes\n\\item yes\n\\item no\n\\end{enumerate*}\n\n\\emph{Levels}: \\begin{enumerate*}\n\\item 'no'\n\\item 'yes'\n\\end{enumerate*}\n",
            "text/markdown": "1. yes\n2. yes\n3. no\n\n\n\n**Levels**: 1. 'no'\n2. 'yes'\n\n\n",
            "text/html": [
              "<style>\n",
              ".list-inline {list-style: none; margin:0; padding: 0}\n",
              ".list-inline>li {display: inline-block}\n",
              ".list-inline>li:not(:last-child)::after {content: \"\\00b7\"; padding: 0 .5ex}\n",
              "</style>\n",
              "<ol class=list-inline><li>yes</li><li>yes</li><li>no</li></ol>\n",
              "\n",
              "<details>\n",
              "\t<summary style=display:list-item;cursor:pointer>\n",
              "\t\t<strong>Levels</strong>:\n",
              "\t</summary>\n",
              "\t<style>\n",
              "\t.list-inline {list-style: none; margin:0; padding: 0}\n",
              "\t.list-inline>li {display: inline-block}\n",
              "\t.list-inline>li:not(:last-child)::after {content: \"\\00b7\"; padding: 0 .5ex}\n",
              "\t</style>\n",
              "\t<ol class=list-inline><li>'no'</li><li>'yes'</li></ol>\n",
              "</details>"
            ]
          },
          "metadata": {
            "tags": []
          }
        }
      ]
    },
    {
      "cell_type": "markdown",
      "metadata": {
        "id": "96ppdobFEU18"
      },
      "source": [
        "<br>"
      ]
    },
    {
      "cell_type": "markdown",
      "metadata": {
        "id": "XYej4-ytEU1-"
      },
      "source": [
        "#### <font color=red>Task 9</font> (1 point)\n",
        "\n",
        "* Using your dataframe, calculate the average number of siblings in your group? (Use the `$` to call the variable from the dataframe)"
      ]
    },
    {
      "cell_type": "code",
      "metadata": {
        "id": "EQf54L4AEU1_",
        "colab": {
          "base_uri": "https://localhost:8080/",
          "height": 35
        },
        "outputId": "eb2a060a-3dac-4819-c6b8-9a5f0ca7f04e"
      },
      "source": [
        "mean(siblings)"
      ],
      "execution_count": null,
      "outputs": [
        {
          "output_type": "display_data",
          "data": {
            "text/plain": [
              "[1] 1.666667"
            ],
            "text/latex": "1.66666666666667",
            "text/markdown": "1.66666666666667",
            "text/html": [
              "1.66666666666667"
            ]
          },
          "metadata": {
            "tags": []
          }
        }
      ]
    },
    {
      "cell_type": "markdown",
      "metadata": {
        "id": "glv-fVVDyS-d"
      },
      "source": [
        "## Dataframes\n",
        "\n",
        "* R offers several built-in dataframes already loaded for you to use\n",
        "* For this activity we will use the `mtcars` dataset containing information on different car models"
      ]
    },
    {
      "cell_type": "markdown",
      "metadata": {
        "id": "5B7W1YY9zfXp"
      },
      "source": [
        "* The goal of this portion of the lab is to create a new variable for this dataframe that represents the engine displacement per cylinder in cubic inches for each vehicle\n",
        "* You may not know what displacement is (or maybe even cylinders), but it will suffice to know that values in the column named `disp` divided by values in the column named `cyl` will yield the appropriate quantity"
      ]
    },
    {
      "cell_type": "markdown",
      "metadata": {
        "id": "9Dxn_7yi0UCu"
      },
      "source": [
        "\n",
        "\n",
        "<br>\n",
        "\n",
        "\n"
      ]
    },
    {
      "cell_type": "markdown",
      "metadata": {
        "id": "EmgSViwhz5TC"
      },
      "source": [
        "#### <font color=red>Task 10</font> (1 point)\n",
        "\n",
        "One fundamental principle of working with data is that you should never overwrite or change your original raw data\n",
        "* Copy/Store the `mtcars` dataframe into another dataframe called `mtcars_lastname`\n",
        " * E.g., My dataframe would be `mtcars_hasenstab`"
      ]
    },
    {
      "cell_type": "code",
      "metadata": {
        "id": "cPUD1EeS0YCC"
      },
      "source": [
        "mtcars_Park <- (mtcars)\n",
        "\n"
      ],
      "execution_count": null,
      "outputs": []
    },
    {
      "cell_type": "markdown",
      "metadata": {
        "id": "6Vr1IBkl6O3T"
      },
      "source": [
        "\n",
        "\n",
        "<br>\n",
        "\n",
        "\n"
      ]
    },
    {
      "cell_type": "markdown",
      "metadata": {
        "id": "6RT5Ma2d6O3f"
      },
      "source": [
        "#### <font color=red>Task 11</font> (1 point)\n",
        "\n",
        "* View the first few lines of the dataframe using `head()`"
      ]
    },
    {
      "cell_type": "code",
      "metadata": {
        "id": "fgwMZY-g73ka",
        "colab": {
          "base_uri": "https://localhost:8080/",
          "height": 202
        },
        "outputId": "e50bf91e-fea3-42aa-cb81-032969b59a3e"
      },
      "source": [
        "head(mtcars_Park)"
      ],
      "execution_count": null,
      "outputs": [
        {
          "output_type": "display_data",
          "data": {
            "text/plain": [
              "                  mpg  cyl disp hp  drat wt    qsec  vs am gear carb\n",
              "Mazda RX4         21.0 6   160  110 3.90 2.620 16.46 0  1  4    4   \n",
              "Mazda RX4 Wag     21.0 6   160  110 3.90 2.875 17.02 0  1  4    4   \n",
              "Datsun 710        22.8 4   108   93 3.85 2.320 18.61 1  1  4    1   \n",
              "Hornet 4 Drive    21.4 6   258  110 3.08 3.215 19.44 1  0  3    1   \n",
              "Hornet Sportabout 18.7 8   360  175 3.15 3.440 17.02 0  0  3    2   \n",
              "Valiant           18.1 6   225  105 2.76 3.460 20.22 1  0  3    1   "
            ],
            "text/latex": "A data.frame: 6 × 11\n\\begin{tabular}{r|lllllllllll}\n  & mpg & cyl & disp & hp & drat & wt & qsec & vs & am & gear & carb\\\\\n  & <dbl> & <dbl> & <dbl> & <dbl> & <dbl> & <dbl> & <dbl> & <dbl> & <dbl> & <dbl> & <dbl>\\\\\n\\hline\n\tMazda RX4 & 21.0 & 6 & 160 & 110 & 3.90 & 2.620 & 16.46 & 0 & 1 & 4 & 4\\\\\n\tMazda RX4 Wag & 21.0 & 6 & 160 & 110 & 3.90 & 2.875 & 17.02 & 0 & 1 & 4 & 4\\\\\n\tDatsun 710 & 22.8 & 4 & 108 &  93 & 3.85 & 2.320 & 18.61 & 1 & 1 & 4 & 1\\\\\n\tHornet 4 Drive & 21.4 & 6 & 258 & 110 & 3.08 & 3.215 & 19.44 & 1 & 0 & 3 & 1\\\\\n\tHornet Sportabout & 18.7 & 8 & 360 & 175 & 3.15 & 3.440 & 17.02 & 0 & 0 & 3 & 2\\\\\n\tValiant & 18.1 & 6 & 225 & 105 & 2.76 & 3.460 & 20.22 & 1 & 0 & 3 & 1\\\\\n\\end{tabular}\n",
            "text/markdown": "\nA data.frame: 6 × 11\n\n| <!--/--> | mpg &lt;dbl&gt; | cyl &lt;dbl&gt; | disp &lt;dbl&gt; | hp &lt;dbl&gt; | drat &lt;dbl&gt; | wt &lt;dbl&gt; | qsec &lt;dbl&gt; | vs &lt;dbl&gt; | am &lt;dbl&gt; | gear &lt;dbl&gt; | carb &lt;dbl&gt; |\n|---|---|---|---|---|---|---|---|---|---|---|---|\n| Mazda RX4 | 21.0 | 6 | 160 | 110 | 3.90 | 2.620 | 16.46 | 0 | 1 | 4 | 4 |\n| Mazda RX4 Wag | 21.0 | 6 | 160 | 110 | 3.90 | 2.875 | 17.02 | 0 | 1 | 4 | 4 |\n| Datsun 710 | 22.8 | 4 | 108 |  93 | 3.85 | 2.320 | 18.61 | 1 | 1 | 4 | 1 |\n| Hornet 4 Drive | 21.4 | 6 | 258 | 110 | 3.08 | 3.215 | 19.44 | 1 | 0 | 3 | 1 |\n| Hornet Sportabout | 18.7 | 8 | 360 | 175 | 3.15 | 3.440 | 17.02 | 0 | 0 | 3 | 2 |\n| Valiant | 18.1 | 6 | 225 | 105 | 2.76 | 3.460 | 20.22 | 1 | 0 | 3 | 1 |\n\n",
            "text/html": [
              "<table>\n",
              "<caption>A data.frame: 6 × 11</caption>\n",
              "<thead>\n",
              "\t<tr><th></th><th scope=col>mpg</th><th scope=col>cyl</th><th scope=col>disp</th><th scope=col>hp</th><th scope=col>drat</th><th scope=col>wt</th><th scope=col>qsec</th><th scope=col>vs</th><th scope=col>am</th><th scope=col>gear</th><th scope=col>carb</th></tr>\n",
              "\t<tr><th></th><th scope=col>&lt;dbl&gt;</th><th scope=col>&lt;dbl&gt;</th><th scope=col>&lt;dbl&gt;</th><th scope=col>&lt;dbl&gt;</th><th scope=col>&lt;dbl&gt;</th><th scope=col>&lt;dbl&gt;</th><th scope=col>&lt;dbl&gt;</th><th scope=col>&lt;dbl&gt;</th><th scope=col>&lt;dbl&gt;</th><th scope=col>&lt;dbl&gt;</th><th scope=col>&lt;dbl&gt;</th></tr>\n",
              "</thead>\n",
              "<tbody>\n",
              "\t<tr><th scope=row>Mazda RX4</th><td>21.0</td><td>6</td><td>160</td><td>110</td><td>3.90</td><td>2.620</td><td>16.46</td><td>0</td><td>1</td><td>4</td><td>4</td></tr>\n",
              "\t<tr><th scope=row>Mazda RX4 Wag</th><td>21.0</td><td>6</td><td>160</td><td>110</td><td>3.90</td><td>2.875</td><td>17.02</td><td>0</td><td>1</td><td>4</td><td>4</td></tr>\n",
              "\t<tr><th scope=row>Datsun 710</th><td>22.8</td><td>4</td><td>108</td><td> 93</td><td>3.85</td><td>2.320</td><td>18.61</td><td>1</td><td>1</td><td>4</td><td>1</td></tr>\n",
              "\t<tr><th scope=row>Hornet 4 Drive</th><td>21.4</td><td>6</td><td>258</td><td>110</td><td>3.08</td><td>3.215</td><td>19.44</td><td>1</td><td>0</td><td>3</td><td>1</td></tr>\n",
              "\t<tr><th scope=row>Hornet Sportabout</th><td>18.7</td><td>8</td><td>360</td><td>175</td><td>3.15</td><td>3.440</td><td>17.02</td><td>0</td><td>0</td><td>3</td><td>2</td></tr>\n",
              "\t<tr><th scope=row>Valiant</th><td>18.1</td><td>6</td><td>225</td><td>105</td><td>2.76</td><td>3.460</td><td>20.22</td><td>1</td><td>0</td><td>3</td><td>1</td></tr>\n",
              "</tbody>\n",
              "</table>\n"
            ]
          },
          "metadata": {
            "tags": []
          }
        }
      ]
    },
    {
      "cell_type": "markdown",
      "metadata": {
        "id": "QjuzpQ5-0Si-"
      },
      "source": [
        "\n",
        "\n",
        "<br>\n",
        "\n",
        "\n"
      ]
    },
    {
      "cell_type": "markdown",
      "metadata": {
        "id": "yjIWUwFf75E5"
      },
      "source": [
        "#### <font color=red>Task 12</font> (1 point)\n",
        "\n",
        "* Use R code to determine the number of rows (observations) and columns (variables) in the dataframe\n",
        "* Print the result"
      ]
    },
    {
      "cell_type": "code",
      "metadata": {
        "id": "64Bc36gN75E7",
        "colab": {
          "base_uri": "https://localhost:8080/",
          "height": 52
        },
        "outputId": "bebbaeb3-7241-4359-8009-1669e81df233"
      },
      "source": [
        "mtcars_Park <- (mtcars)\n",
        "nrow(mtcars_Park)\n",
        "ncol(mtcars_Park)\n"
      ],
      "execution_count": null,
      "outputs": [
        {
          "output_type": "display_data",
          "data": {
            "text/plain": [
              "[1] 32"
            ],
            "text/latex": "32",
            "text/markdown": "32",
            "text/html": [
              "32"
            ]
          },
          "metadata": {
            "tags": []
          }
        },
        {
          "output_type": "display_data",
          "data": {
            "text/plain": [
              "[1] 11"
            ],
            "text/latex": "11",
            "text/markdown": "11",
            "text/html": [
              "11"
            ]
          },
          "metadata": {
            "tags": []
          }
        }
      ]
    },
    {
      "cell_type": "markdown",
      "metadata": {
        "id": "d0S-q-YQ75E8"
      },
      "source": [
        "\n",
        "\n",
        "<br>\n",
        "\n",
        "\n"
      ]
    },
    {
      "cell_type": "markdown",
      "metadata": {
        "id": "YzMjC8qr0cci"
      },
      "source": [
        "#### <font color=red>Task 13</font> (2 points)\n",
        "\n",
        "* Calculate engine displacement per cylinder and save it as a new variable `UnitEngine` in the `mtcars_lastname` dataframe\n",
        "* Note displacement per cylinder is defined by `disp` divided by `cyl`\n",
        "\n",
        "Hint: `mt_cars$UnitEngine <- ...`"
      ]
    },
    {
      "cell_type": "code",
      "metadata": {
        "id": "SpYztxyeyf6t"
      },
      "source": [
        " mtcars_Park$UnitEngine <- c(mtcars_Park$disp/mtcars_Park$cyl)\n",
        "\n"
      ],
      "execution_count": null,
      "outputs": []
    },
    {
      "cell_type": "markdown",
      "metadata": {
        "id": "9WP2MPwK-ZzJ"
      },
      "source": [
        "\n",
        "\n",
        "<br>\n",
        "\n",
        "\n"
      ]
    },
    {
      "cell_type": "markdown",
      "metadata": {
        "id": "Y-FO4KMo-ZzK"
      },
      "source": [
        "#### <font color=red>Task 14</font> (1 point)\n",
        "\n",
        "* Confirm that the `UnitEngine` variable has been added to the `mtcars_lastname` dataframe using the `summary()` function\n",
        "* Show the summary\n"
      ]
    },
    {
      "cell_type": "code",
      "metadata": {
        "id": "ASk4bYIVCSYm",
        "colab": {
          "base_uri": "https://localhost:8080/",
          "height": 52
        },
        "outputId": "aa8ad1c1-7933-4d24-9ca6-5abb54f8e9b2"
      },
      "source": [
        "summary(mtcars_Park$UnitEngine)"
      ],
      "execution_count": null,
      "outputs": [
        {
          "output_type": "display_data",
          "data": {
            "text/plain": [
              "   Min. 1st Qu.  Median    Mean 3rd Qu.    Max. \n",
              "  17.77   26.92   34.48   35.03   43.19   59.00 "
            ]
          },
          "metadata": {
            "tags": []
          }
        }
      ]
    },
    {
      "cell_type": "markdown",
      "metadata": {
        "id": "3cXM4YEsMjfK"
      },
      "source": [
        "\n",
        "\n",
        "<br>\n",
        "\n",
        "\n"
      ]
    },
    {
      "cell_type": "markdown",
      "metadata": {
        "id": "ErHFkXQCMjfm"
      },
      "source": [
        "#### <font color=red>Task 15</font> (1 point)\n",
        "\n",
        "* Use the `mean()` function to calculate the average miles per gallon (`mpg`) of all of the cars in the dataset"
      ]
    },
    {
      "cell_type": "code",
      "metadata": {
        "id": "ImUwgudsMjfm",
        "colab": {
          "base_uri": "https://localhost:8080/",
          "height": 35
        },
        "outputId": "619aa5e4-c662-4282-e01a-f2f5d0628f1a"
      },
      "source": [
        "mean(mtcars_Park$mpg)"
      ],
      "execution_count": null,
      "outputs": [
        {
          "output_type": "display_data",
          "data": {
            "text/plain": [
              "[1] 20.09062"
            ],
            "text/latex": "20.090625",
            "text/markdown": "20.090625",
            "text/html": [
              "20.090625"
            ]
          },
          "metadata": {
            "tags": []
          }
        }
      ]
    },
    {
      "cell_type": "code",
      "metadata": {
        "id": "NqGRQ44KnjdO"
      },
      "source": [],
      "execution_count": null,
      "outputs": []
    }
  ]
}