{
  "nbformat": 4,
  "nbformat_minor": 0,
  "metadata": {
    "colab": {
      "provenance": [],
      "collapsed_sections": [
        "DifDIaoOtjkH",
        "ZGJlYDoqIdh3",
        "epF1YItx3Eut",
        "ubaFzPJg7D0s",
        "Wn6QESCeN_7t",
        "8FUEZfBv_2FW",
        "WMxhD4TMAEF7",
        "Z5A032ASIUmL",
        "IP28o3wvK5jD"
      ]
    },
    "kernelspec": {
      "display_name": "R",
      "name": "ir"
    }
  },
  "cells": [
    {
      "cell_type": "markdown",
      "metadata": {
        "id": "gtETsh5j8vHw"
      },
      "source": [
        "# **Data Structures**\n",
        "\n",
        "---"
      ]
    },
    {
      "cell_type": "markdown",
      "metadata": {
        "id": "DifDIaoOtjkH"
      },
      "source": [
        "## R Data Types\n",
        "\n",
        "Last time, we covered the 5 basic data types of the R programming language:\n",
        "*   character (strings)\n",
        "*   double (numeric)\n",
        "*   integer\n",
        "*   complex\n",
        "*   logical (boolean, TRUE/FALSE)\n",
        "\n"
      ]
    },
    {
      "cell_type": "markdown",
      "metadata": {
        "id": "ZGJlYDoqIdh3"
      },
      "source": [
        "## R Data Structures\n",
        "\n",
        "Data types can be considered the most basic form of data. A collection of data types form what we call a **data structure**.\n",
        "\n",
        "There are many data structures in R. Data structures we will commonly use in R are:\n",
        "*  vectors\n",
        "*  matrices\n",
        "*  factors (categorical)\n",
        "*  dataframes\n",
        "*  lists"
      ]
    },
    {
      "cell_type": "markdown",
      "metadata": {
        "id": "zZzxYxtp9b9t"
      },
      "source": [
        "## Vectors\n"
      ]
    },
    {
      "cell_type": "markdown",
      "metadata": {
        "id": "YfXA4yuo1e2m"
      },
      "source": [
        "### Defined\n",
        "\n",
        "A vector is a collection of elements that share the same data type. You can create a vector in R using the `c()` function. Think of the letter 'c' in `c()` as combine or concatenate."
      ]
    },
    {
      "cell_type": "markdown",
      "metadata": {
        "id": "5OWbFl6XKRaE"
      },
      "source": [
        "The following is a numeric vector comprising a collection of numbers."
      ]
    },
    {
      "cell_type": "code",
      "metadata": {
        "id": "Z60PpIfIeF4Z"
      },
      "source": [
        "# This is a vector of numbers\n",
        "my_vector <- c(1, 2, 3, 4)\n",
        "my_vector"
      ],
      "execution_count": null,
      "outputs": []
    },
    {
      "cell_type": "markdown",
      "metadata": {
        "id": "5sqSDaszz8aB"
      },
      "source": [
        "Similar to how we use the `typeof()` function to determine the R data type, we can use the `class()` function to determine the type of data structure or class."
      ]
    },
    {
      "cell_type": "code",
      "metadata": {
        "id": "UVBytSTsJxSf"
      },
      "source": [
        "# Use class to see the type of data structure\n",
        "class(my_vector)"
      ],
      "execution_count": null,
      "outputs": []
    },
    {
      "cell_type": "code",
      "metadata": {
        "id": "rONrH4yHJ8Ii"
      },
      "source": [
        "# use typeof() to check the data type of elements within the vector\n",
        "typeof(my_vector)"
      ],
      "execution_count": null,
      "outputs": []
    },
    {
      "cell_type": "markdown",
      "metadata": {
        "id": "ZXUOzh4drf3V"
      },
      "source": [
        "\n",
        "\n",
        "<br>\n",
        "\n",
        "\n"
      ]
    },
    {
      "cell_type": "markdown",
      "metadata": {
        "id": "1WwjtEJjKar1"
      },
      "source": [
        "The following is a vector comprising a collection of characters strings."
      ]
    },
    {
      "cell_type": "code",
      "metadata": {
        "id": "MJBnMxw1sfsc"
      },
      "source": [
        "# This is a vector of character strings\n",
        "my_vector <- c(\"hi\", \"hello\", \"hey there\")\n",
        "my_vector"
      ],
      "execution_count": null,
      "outputs": []
    },
    {
      "cell_type": "code",
      "metadata": {
        "id": "oFCstNneKn4k"
      },
      "source": [
        "# Use class() to see the type of data structure\n",
        "class(my_vector)"
      ],
      "execution_count": null,
      "outputs": []
    },
    {
      "cell_type": "code",
      "metadata": {
        "id": "rvZkLvT3Kr5w"
      },
      "source": [
        "# use typeof() to check the data type of elements within the vector\n",
        "typeof(my_vector)"
      ],
      "execution_count": null,
      "outputs": []
    },
    {
      "cell_type": "markdown",
      "metadata": {
        "id": "kAWYgPPFsn8S"
      },
      "source": [
        "\n",
        "\n",
        "<br>\n",
        "\n",
        "\n"
      ]
    },
    {
      "cell_type": "markdown",
      "metadata": {
        "id": "9LI961mNPYFd"
      },
      "source": [
        "Can we mix different data types in a vector? What do you think will happen in the following command?"
      ]
    },
    {
      "cell_type": "code",
      "metadata": {
        "id": "vJb4qW1jPe3c"
      },
      "source": [
        "# creating a vector of the number 1 and the logical TRUE\n",
        "my_vector <- c(1, TRUE)\n",
        "my_vector\n",
        "\n",
        "typeof(my_vector)"
      ],
      "execution_count": null,
      "outputs": []
    },
    {
      "cell_type": "markdown",
      "metadata": {
        "id": "USH9vOxxss-F"
      },
      "source": [
        "\n",
        "\n",
        "<br>\n",
        "\n",
        "\n"
      ]
    },
    {
      "cell_type": "markdown",
      "metadata": {
        "id": "CC70tQu82R9g"
      },
      "source": [
        "What happens when we combine a number with a string?"
      ]
    },
    {
      "cell_type": "code",
      "metadata": {
        "id": "VDu5DciU2RF-"
      },
      "source": [
        "# first let's define a vector\n",
        "my_vector <- c(1, 5)\n",
        "my_vector"
      ],
      "execution_count": null,
      "outputs": []
    },
    {
      "cell_type": "code",
      "metadata": {
        "id": "GQtbUNe12jMd"
      },
      "source": [
        "# check the class and data type\n",
        "class(my_vector)\n",
        "typeof(my_vector)"
      ],
      "execution_count": null,
      "outputs": []
    },
    {
      "cell_type": "code",
      "metadata": {
        "id": "DNvMjnDR2oh1"
      },
      "source": [
        "# add a character to the end of the vector \n",
        "my_vector <- c(my_vector, \"hello there!\")\n",
        "my_vector"
      ],
      "execution_count": null,
      "outputs": []
    },
    {
      "cell_type": "code",
      "metadata": {
        "id": "z7JDmFT52wXx"
      },
      "source": [
        "class(my_vector)\n",
        "typeof(my_vector)"
      ],
      "execution_count": null,
      "outputs": []
    },
    {
      "cell_type": "markdown",
      "metadata": {
        "id": "epF1YItx3Eut"
      },
      "source": [
        "### Functions of Vectors"
      ]
    },
    {
      "cell_type": "markdown",
      "metadata": {
        "id": "iabXWrLt4Hhs"
      },
      "source": [
        "R has several built-in functions that will calculate metrics for us."
      ]
    },
    {
      "cell_type": "code",
      "metadata": {
        "id": "EBMQAwVc4EGb"
      },
      "source": [
        "# define a vector\n",
        "my_vector <- 1:5\n",
        "my_vector"
      ],
      "execution_count": null,
      "outputs": []
    },
    {
      "cell_type": "code",
      "metadata": {
        "id": "3i4X4yT14X1C"
      },
      "source": [
        "# length of my_vector\n",
        "length(my_vector)"
      ],
      "execution_count": null,
      "outputs": []
    },
    {
      "cell_type": "code",
      "metadata": {
        "id": "aSXZyYtQ4sxl"
      },
      "source": [
        "# sum of a vector\n",
        "sum(my_vector)"
      ],
      "execution_count": null,
      "outputs": []
    },
    {
      "cell_type": "code",
      "metadata": {
        "id": "jpV_NvVs4ngU"
      },
      "source": [
        "# mean of my_vector\n",
        "mean(my_vector)\n",
        "\n",
        "sum(my_vector) / length(my_vector)"
      ],
      "execution_count": null,
      "outputs": []
    },
    {
      "cell_type": "code",
      "metadata": {
        "id": "-aEYdSr866mY"
      },
      "source": [
        "# variance\n",
        "var(my_vector)"
      ],
      "execution_count": null,
      "outputs": []
    },
    {
      "cell_type": "markdown",
      "metadata": {
        "id": "lyopQk-esyOb"
      },
      "source": [
        "\n",
        "\n",
        "<br>\n",
        "\n",
        "\n"
      ]
    },
    {
      "cell_type": "markdown",
      "metadata": {
        "id": "ubaFzPJg7D0s"
      },
      "source": [
        "### Operations on Vectors"
      ]
    },
    {
      "cell_type": "markdown",
      "metadata": {
        "id": "ZYKPUWZM3JUU"
      },
      "source": [
        "Operations are vectorized in R. This makes math very easy!"
      ]
    },
    {
      "cell_type": "code",
      "metadata": {
        "id": "VV1UMLiR3IVV"
      },
      "source": [
        "# create a vector from 1:100\n",
        "my_vector <- 1:100\n",
        "my_vector"
      ],
      "execution_count": null,
      "outputs": []
    },
    {
      "cell_type": "code",
      "metadata": {
        "id": "4vCK9VnV3H15"
      },
      "source": [
        "# add 200 to each element\n",
        "my_vector + 200"
      ],
      "execution_count": null,
      "outputs": []
    },
    {
      "cell_type": "markdown",
      "metadata": {
        "id": "WVJgQuJhszeK"
      },
      "source": [
        "\n",
        "\n",
        "<br>\n",
        "\n",
        "\n"
      ]
    },
    {
      "cell_type": "markdown",
      "metadata": {
        "id": "6WwCHFed77Ab"
      },
      "source": [
        "What if we divide by 0?"
      ]
    },
    {
      "cell_type": "code",
      "metadata": {
        "id": "-QJA_3Gn3rVp"
      },
      "source": [
        "my_vector / -0"
      ],
      "execution_count": null,
      "outputs": []
    },
    {
      "cell_type": "markdown",
      "metadata": {
        "id": "kAutz3FBs0aH"
      },
      "source": [
        "\n",
        "\n",
        "<br>\n",
        "\n",
        "\n"
      ]
    },
    {
      "cell_type": "markdown",
      "metadata": {
        "id": "WM6CCvJN8Feu"
      },
      "source": [
        "We can add two vectors element by element."
      ]
    },
    {
      "cell_type": "code",
      "metadata": {
        "id": "Q1oxYrNg8IsS"
      },
      "source": [
        "# define two vectors\n",
        "x <- 1:5\n",
        "y <- 6:10\n",
        "\n",
        "x\n",
        "y"
      ],
      "execution_count": null,
      "outputs": []
    },
    {
      "cell_type": "code",
      "metadata": {
        "id": "3W_AT8z68jcx"
      },
      "source": [
        "# add two vectors\n",
        "x + y"
      ],
      "execution_count": null,
      "outputs": []
    },
    {
      "cell_type": "markdown",
      "metadata": {
        "id": "HPwTGDSVs1zY"
      },
      "source": [
        "\n",
        "\n",
        "<br>\n",
        "\n",
        "\n"
      ]
    },
    {
      "cell_type": "markdown",
      "metadata": {
        "id": "fJDkvyfF8Q8R"
      },
      "source": [
        "This is where things get a little weird. What do you think happens in the following code cell?"
      ]
    },
    {
      "cell_type": "code",
      "metadata": {
        "id": "q9oGtO_x8QB1"
      },
      "source": [
        "x <- 1:5\n",
        "y <- 1:10\n",
        "\n",
        "x\n",
        "y"
      ],
      "execution_count": null,
      "outputs": []
    },
    {
      "cell_type": "code",
      "metadata": {
        "id": "x7FDu8Ma8zKN"
      },
      "source": [
        "x + y\n",
        "\n",
        "length(x + y)"
      ],
      "execution_count": null,
      "outputs": []
    },
    {
      "cell_type": "markdown",
      "metadata": {
        "id": "gaXykZfKs3Fw"
      },
      "source": [
        "\n",
        "\n",
        "<br>\n",
        "\n",
        "\n"
      ]
    },
    {
      "cell_type": "markdown",
      "metadata": {
        "id": "9Latz0cn9Da4"
      },
      "source": [
        "What if we set `y <- 1:11`?"
      ]
    },
    {
      "cell_type": "code",
      "metadata": {
        "id": "dZ9thV0t9HqW"
      },
      "source": [
        "x <- 1:5\n",
        "y <- 1:11\n",
        "\n",
        "x\n",
        "y"
      ],
      "execution_count": null,
      "outputs": []
    },
    {
      "cell_type": "code",
      "metadata": {
        "id": "SuuF69as9YTB"
      },
      "source": [
        "# add vectors\n",
        "x + y"
      ],
      "execution_count": null,
      "outputs": []
    },
    {
      "cell_type": "code",
      "metadata": {
        "id": "7egfPPX39ZOi"
      },
      "source": [
        "length(x + y)"
      ],
      "execution_count": null,
      "outputs": []
    },
    {
      "cell_type": "markdown",
      "metadata": {
        "id": "oBJy2WnBs4It"
      },
      "source": [
        "\n",
        "\n",
        "<br>\n",
        "\n",
        "\n"
      ]
    },
    {
      "cell_type": "markdown",
      "metadata": {
        "id": "Wn6QESCeN_7t"
      },
      "source": [
        "## Matrices\n",
        "\n",
        "A matrix is a rectangular array of numbers. You may also think of matrices as vectors that are combined by row or column.\n",
        "\n",
        "In R, you can create a matrix using the `matrix()` function."
      ]
    },
    {
      "cell_type": "code",
      "metadata": {
        "id": "RbiTMIEKN1qF"
      },
      "source": [
        "my_matrix = matrix(5)\n",
        "my_matrix\n",
        "\n",
        "# the matrix above consists of a single number and is dimension 1x1"
      ],
      "execution_count": null,
      "outputs": []
    },
    {
      "cell_type": "code",
      "metadata": {
        "id": "UnpNkXwqQ98R"
      },
      "source": [
        "# check the type of data structure\n",
        "class(my_matrix)"
      ],
      "execution_count": null,
      "outputs": []
    },
    {
      "cell_type": "code",
      "metadata": {
        "id": "DSagBMFGRFNB"
      },
      "source": [
        "# check the data type of the matrix elements\n",
        "typeof(my_matrix)"
      ],
      "execution_count": null,
      "outputs": []
    },
    {
      "cell_type": "code",
      "metadata": {
        "id": "AEWc8gPSRWdD"
      },
      "source": [
        "# create a matrix with 3 rows and 2 columns\n",
        "my_matrix <- matrix(c(1,2,3,4,5,6), nrow = 3, ncol = 2)\n",
        "my_matrix"
      ],
      "execution_count": null,
      "outputs": []
    },
    {
      "cell_type": "code",
      "metadata": {
        "id": "yAGkAXenRpWh"
      },
      "source": [
        "# create a matrix with 3 rows and 2 columns\n",
        "my_matrix <- matrix(c(1,2,3,4,5,6), nrow = 3, ncol = 2, byrow=TRUE)\n",
        "my_matrix"
      ],
      "execution_count": null,
      "outputs": []
    },
    {
      "cell_type": "markdown",
      "metadata": {
        "id": "dbcB5Gwhs6m1"
      },
      "source": [
        "\n",
        "\n",
        "<br>\n",
        "\n",
        "\n"
      ]
    },
    {
      "cell_type": "markdown",
      "metadata": {
        "id": "xh8IUPPcSGHz"
      },
      "source": [
        "You can also combine vectors to create matrices. \n",
        "\n",
        "Combining vectors by row is called row concatenation using `rbind()`."
      ]
    },
    {
      "cell_type": "code",
      "metadata": {
        "id": "J1hGCr-DR8JV"
      },
      "source": [
        "# create two vectors\n",
        "vector1 <- c(1, 2, 3)\n",
        "vector2 <- c(4, 5, 6)\n",
        "\n",
        "class(vector1)"
      ],
      "execution_count": null,
      "outputs": []
    },
    {
      "cell_type": "code",
      "metadata": {
        "id": "LjciWmclSWjX"
      },
      "source": [
        "# row bind the two vectors to create a matrix\n",
        "new_matrix <- rbind(vector1, vector2)\n",
        "new_matrix"
      ],
      "execution_count": null,
      "outputs": []
    },
    {
      "cell_type": "code",
      "metadata": {
        "id": "8_b1OGS5ScU4"
      },
      "source": [
        "# combining the two vectors alters the type of data structure\n",
        "class(new_matrix)"
      ],
      "execution_count": null,
      "outputs": []
    },
    {
      "cell_type": "markdown",
      "metadata": {
        "id": "PsbrLkigs8PV"
      },
      "source": [
        "\n",
        "\n",
        "<br>\n",
        "\n",
        "\n"
      ]
    },
    {
      "cell_type": "markdown",
      "metadata": {
        "id": "_8rnl2g8S8dA"
      },
      "source": [
        "You can also combine vectors by columns using the `cbind()` function."
      ]
    },
    {
      "cell_type": "code",
      "metadata": {
        "id": "CVi6v2yb-cf8"
      },
      "source": [
        "# column bind the two vectors to create a matrix\n",
        "new_matrix <- cbind(vector1, vector2)\n",
        "new_matrix"
      ],
      "execution_count": null,
      "outputs": []
    },
    {
      "cell_type": "markdown",
      "metadata": {
        "id": "2LOGEPOJs9Hx"
      },
      "source": [
        "\n",
        "\n",
        "<br>\n",
        "\n",
        "\n"
      ]
    },
    {
      "cell_type": "markdown",
      "metadata": {
        "id": "en1FX0-B-oQP"
      },
      "source": [
        "Operations and functions on matrices are similar to what we observed with vectors."
      ]
    },
    {
      "cell_type": "code",
      "metadata": {
        "id": "lTo91MaJ-tPU"
      },
      "source": [
        "# mean of all elements in the matrix\n",
        "mean(new_matrix)"
      ],
      "execution_count": null,
      "outputs": []
    },
    {
      "cell_type": "code",
      "metadata": {
        "id": "_8cATvTl--NR"
      },
      "source": [
        "# sum of all elements in the matrix\n",
        "sum(new_matrix)"
      ],
      "execution_count": null,
      "outputs": []
    },
    {
      "cell_type": "code",
      "metadata": {
        "id": "QMR0CU9i_XbJ"
      },
      "source": [
        "# matrix transpose\n",
        "t(new_matrix)"
      ],
      "execution_count": null,
      "outputs": []
    },
    {
      "cell_type": "code",
      "metadata": {
        "id": "r8OnRvUe_A7M"
      },
      "source": [
        "# adding a matrix to a vector\n",
        "vector1\n",
        "new_matrix"
      ],
      "execution_count": null,
      "outputs": []
    },
    {
      "cell_type": "code",
      "metadata": {
        "id": "rKT3A4H3_TtF"
      },
      "source": [
        "new_matrix + vector1"
      ],
      "execution_count": null,
      "outputs": []
    },
    {
      "cell_type": "markdown",
      "metadata": {
        "id": "1Lb-dkZ0tC2B"
      },
      "source": [
        "\n",
        "\n",
        "<br>\n",
        "\n",
        "\n"
      ]
    },
    {
      "cell_type": "markdown",
      "metadata": {
        "id": "8FUEZfBv_2FW"
      },
      "source": [
        "## Factors"
      ]
    },
    {
      "cell_type": "markdown",
      "metadata": {
        "id": "WMxhD4TMAEF7"
      },
      "source": [
        "### Defined\n",
        "\n",
        "* Factors are data structures used to categorize data into different \"levels\".\n",
        "* They can store both strings and integers\n",
        "* Factors are very useful for statistical modeling of categorical variables  (gender, ethnicity, etc.)"
      ]
    },
    {
      "cell_type": "code",
      "metadata": {
        "id": "Z2wl3J_IADUz"
      },
      "source": [
        "# let's define a few variables to understand factors and how they work\n",
        "height <- c(132,151,162,139,166,147,122)\n",
        "weight <- c(48, 49, 66, 53, 67, 52, 40)\n",
        "gender <- c(\"male\",\"male\",\"female\",\"female\",\"male\",\"female\",\"male\")"
      ],
      "execution_count": null,
      "outputs": []
    },
    {
      "cell_type": "code",
      "metadata": {
        "id": "FYRu99U4AgoT"
      },
      "source": [
        "# class of the gender variable\n",
        "class(gender)"
      ],
      "execution_count": null,
      "outputs": []
    },
    {
      "cell_type": "markdown",
      "metadata": {
        "id": "BC1VDInStFcm"
      },
      "source": [
        "\n",
        "\n",
        "<br>\n",
        "\n",
        "\n"
      ]
    },
    {
      "cell_type": "markdown",
      "metadata": {
        "id": "rvSV8s0bDItp"
      },
      "source": [
        "We can convert the `gender` variable into a factor using the `factor()` function"
      ]
    },
    {
      "cell_type": "code",
      "metadata": {
        "id": "8r6DVTwIDNnj"
      },
      "source": [
        "gender_factor <- factor(gender)\n",
        "gender_factor"
      ],
      "execution_count": null,
      "outputs": []
    },
    {
      "cell_type": "markdown",
      "metadata": {
        "id": "1ooscwr9tH_j"
      },
      "source": [
        "\n",
        "\n",
        "<br>\n",
        "\n",
        "\n"
      ]
    },
    {
      "cell_type": "markdown",
      "metadata": {
        "id": "sgOomvfqDfT1"
      },
      "source": [
        "Unique categories of the factor variable are called levels in R.\n",
        "\n",
        "We can observe the levels of the variable using the `levels()` function"
      ]
    },
    {
      "cell_type": "code",
      "metadata": {
        "id": "-ZKTvabIDqRp"
      },
      "source": [
        "levels(gender_factor)"
      ],
      "execution_count": null,
      "outputs": []
    },
    {
      "cell_type": "markdown",
      "metadata": {
        "id": "boaIrrWrtIrd"
      },
      "source": [
        "\n",
        "\n",
        "<br>\n",
        "\n",
        "\n"
      ]
    },
    {
      "cell_type": "markdown",
      "metadata": {
        "id": "nxnXTe9VD9Ru"
      },
      "source": [
        "Here, females are listed before males, but what if we wanted males listed before females?\n",
        "\n",
        "Sometimes this is desired in a statistical analysis."
      ]
    },
    {
      "cell_type": "code",
      "metadata": {
        "id": "fQdx0SdvEGGZ"
      },
      "source": [
        "gender_factor <- factor(gender, levels = c(\"male\", \"female\"))\n",
        "gender_factor"
      ],
      "execution_count": null,
      "outputs": []
    },
    {
      "cell_type": "markdown",
      "metadata": {
        "id": "E2PFRyLxtbvV"
      },
      "source": [
        "\n",
        "\n",
        "<br>\n",
        "\n",
        "\n"
      ]
    },
    {
      "cell_type": "markdown",
      "metadata": {
        "id": "rWvaZbrhES2v"
      },
      "source": [
        "Numeric variables can be converted to factors, but this doesn't make much sense. Why?\n",
        "\n",
        "Here is an example anyway...\n"
      ]
    },
    {
      "cell_type": "code",
      "metadata": {
        "id": "70HOBaHbEfr-"
      },
      "source": [
        "height_factor <- factor(height)\n",
        "height_factor"
      ],
      "execution_count": null,
      "outputs": []
    },
    {
      "cell_type": "markdown",
      "metadata": {
        "id": "Na8E4d8gtdgX"
      },
      "source": [
        "\n",
        "\n",
        "<br>\n",
        "\n",
        "\n"
      ]
    },
    {
      "cell_type": "markdown",
      "metadata": {
        "id": "959EjMdWG6wm"
      },
      "source": [
        "Can we add variables to a factor if the categories are \"numbers\"?"
      ]
    },
    {
      "cell_type": "code",
      "metadata": {
        "id": "k2GoE7KXGjVK"
      },
      "source": [
        "# adding 10 to factor\n",
        "height_factor + 10"
      ],
      "execution_count": null,
      "outputs": []
    },
    {
      "cell_type": "markdown",
      "metadata": {
        "id": "1DePOgI7thdH"
      },
      "source": [
        "\n",
        "\n",
        "<br>\n",
        "\n",
        "\n"
      ]
    },
    {
      "cell_type": "markdown",
      "metadata": {
        "id": "gpmEBwxLHJIq"
      },
      "source": [
        "How can we convert the factor back to a number? Let's try..."
      ]
    },
    {
      "cell_type": "code",
      "metadata": {
        "id": "iQJaDBumHNmu"
      },
      "source": [
        "height_factor"
      ],
      "execution_count": null,
      "outputs": []
    },
    {
      "cell_type": "code",
      "metadata": {
        "id": "S8V1FMaqHeGp"
      },
      "source": [
        "# convert the factor to numeric\n",
        "as.numeric(height_factor)"
      ],
      "execution_count": null,
      "outputs": []
    },
    {
      "cell_type": "markdown",
      "metadata": {
        "id": "-n3jT0ncHjEK"
      },
      "source": [
        "CAREFUL!!! What happens in the above result?\n"
      ]
    },
    {
      "cell_type": "markdown",
      "metadata": {
        "id": "_YrNpOYbtziw"
      },
      "source": [
        "\n",
        "\n",
        "<br>\n",
        "\n",
        "\n"
      ]
    },
    {
      "cell_type": "markdown",
      "metadata": {
        "id": "qTYZKXu9txf8"
      },
      "source": [
        "If you want to convert the factor back to numeric using `as.character()` then `as.numeric()`"
      ]
    },
    {
      "cell_type": "code",
      "metadata": {
        "id": "tftFYR-gH-pC"
      },
      "source": [
        "height_numeric <- as.numeric(as.character(height_factor))\n",
        "height_numeric\n",
        "class(height_numeric)"
      ],
      "execution_count": null,
      "outputs": []
    },
    {
      "cell_type": "markdown",
      "metadata": {
        "id": "JhxHbqxBtnAc"
      },
      "source": [
        "\n",
        "\n",
        "<br>\n",
        "\n",
        "\n"
      ]
    },
    {
      "cell_type": "markdown",
      "metadata": {
        "id": "OweMexXHGcVK"
      },
      "source": [
        "* Note: Sometimes, categorical variables are coded with numbers (e.g., 1 = \"Female\", 2 = \"Male\")\n",
        "* Be careful not to treat these variables as numerical, since they are categorical"
      ]
    },
    {
      "cell_type": "markdown",
      "metadata": {
        "id": "_gkm0fcTtnUf"
      },
      "source": [
        "\n",
        "\n",
        "<br>\n",
        "\n",
        "\n"
      ]
    },
    {
      "cell_type": "markdown",
      "metadata": {
        "id": "Z5A032ASIUmL"
      },
      "source": [
        "## Dataframes\n",
        "\n",
        "* Dataframes are possibly the most important data structure for this course\n",
        "* If our data is not in the form of a dataframe, then we must convert the data to a dataframe\n",
        "* Many of the algorithms in R take dataframes as input"
      ]
    },
    {
      "cell_type": "markdown",
      "metadata": {
        "id": "o8L66GpZIp9O"
      },
      "source": [
        "* A dataframe is a special type of list where every element of the list has the same length\n",
        "* We can combine vectors to form a dataframe using the `data.frame()` function"
      ]
    },
    {
      "cell_type": "code",
      "metadata": {
        "id": "iYw25rCIJEFK"
      },
      "source": [
        "# variables\n",
        "height <- c(132,151,162,139,166,147,122)\n",
        "weight <- c(48, 49, 66, 53, 67, 52, 40)\n",
        "gender <- c(\"male\",\"male\",\"female\",\"female\",\"male\",\"female\",\"male\")\n",
        "\n",
        "# create dataframe\n",
        "dat <- data.frame(height, weight, gender)\n",
        "dat"
      ],
      "execution_count": null,
      "outputs": []
    },
    {
      "cell_type": "code",
      "metadata": {
        "id": "6zVxL2PuJO38"
      },
      "source": [
        "# view the first few rows of the dataframe\n",
        "head(dat, 3)"
      ],
      "execution_count": null,
      "outputs": []
    },
    {
      "cell_type": "code",
      "metadata": {
        "id": "5yPuwCLnJYC-"
      },
      "source": [
        "# view the last few rows of the dataframe\n",
        "tail(dat, 3)"
      ],
      "execution_count": null,
      "outputs": []
    },
    {
      "cell_type": "code",
      "metadata": {
        "id": "7Pc00zcbJcY9"
      },
      "source": [
        "# view the variable names of the dataframe\n",
        "names(dat)"
      ],
      "execution_count": null,
      "outputs": []
    },
    {
      "cell_type": "code",
      "metadata": {
        "id": "B7rPZ3q3Jj61"
      },
      "source": [
        "# dimensions of the dataframe\n",
        "dim(dat)"
      ],
      "execution_count": null,
      "outputs": []
    },
    {
      "cell_type": "code",
      "metadata": {
        "id": "6CAuNtthJmeR"
      },
      "source": [
        "# number of rows\n",
        "nrow(dat)\n",
        "\n",
        "# number of columns\n",
        "ncol(dat)"
      ],
      "execution_count": null,
      "outputs": []
    },
    {
      "cell_type": "code",
      "metadata": {
        "id": "_FspewgSJxVI"
      },
      "source": [
        "# description of each variable in the dataframe\n",
        "str(dat)"
      ],
      "execution_count": null,
      "outputs": []
    },
    {
      "cell_type": "markdown",
      "metadata": {
        "id": "WBx50qnvt6Dp"
      },
      "source": [
        "\n",
        "\n",
        "<br>\n",
        "\n",
        "\n"
      ]
    },
    {
      "cell_type": "markdown",
      "metadata": {
        "id": "6dqvvi-_J6If"
      },
      "source": [
        "* We call/extract a variable (or column) from the dataframe using the `$` symbol\n",
        "* Each column is a vector"
      ]
    },
    {
      "cell_type": "code",
      "metadata": {
        "id": "qFp9mOm4KAHr"
      },
      "source": [
        "# this calls the weight variable and multiplies by 2\n",
        "dat$weight * 2"
      ],
      "execution_count": null,
      "outputs": []
    },
    {
      "cell_type": "code",
      "metadata": {
        "id": "I3UfpPeLKK9J"
      },
      "source": [
        "class(dat$weight)\n",
        "typeof(dat$weight)"
      ],
      "execution_count": null,
      "outputs": []
    },
    {
      "cell_type": "markdown",
      "metadata": {
        "id": "Ljkx23otVNR4"
      },
      "source": [
        "\n",
        "\n",
        "<br>\n",
        "\n",
        "\n"
      ]
    },
    {
      "cell_type": "markdown",
      "metadata": {
        "id": "73oIVuVbVNSH"
      },
      "source": [
        "* We can store new variables using the `$` symbol\n",
        "* You must be careful not to overwrite your original data!"
      ]
    },
    {
      "cell_type": "code",
      "metadata": {
        "id": "Y9IzqFQ3VNSK"
      },
      "source": [
        "# store weight * 2 as twice_weight\n",
        "dat$twice_weight <- dat$weight * 2\n",
        "\n",
        "head(dat)"
      ],
      "execution_count": null,
      "outputs": []
    },
    {
      "cell_type": "markdown",
      "metadata": {
        "id": "sXsFK4p6t94g"
      },
      "source": [
        "\n",
        "\n",
        "<br>\n",
        "\n",
        "\n"
      ]
    },
    {
      "cell_type": "markdown",
      "metadata": {
        "id": "IP28o3wvK5jD"
      },
      "source": [
        "## List\n",
        "\n",
        "* The list class allows you to store multiple data structures in a single variable\n",
        "* This is useful if you have multiple data structures associated with a single object\n",
        "* For example, a patient may have demographic data, a CT image of their lungs, and genomic data"
      ]
    },
    {
      "cell_type": "markdown",
      "metadata": {
        "id": "uXBnI6jCL3jg"
      },
      "source": [
        "* Lists are created using the `list()` function"
      ]
    },
    {
      "cell_type": "code",
      "metadata": {
        "id": "1XTPYqRtLG-c"
      },
      "source": [
        "# create a dataframe\n",
        "height <- c(132,151,162,139,166,147,122)\n",
        "weight <- c(48, 49, 66, 53, 67, 52, 40)\n",
        "gender <- c(\"male\",\"male\",\"female\",\"female\",\"male\",\"female\",\"male\")\n",
        "dat <- data.frame(height, weight, gender)\n",
        "\n",
        "# create a vector\n",
        "vec <- sample(1:100, 5)\n",
        "\n",
        "# create a matrix\n",
        "mat <- matrix(1:10, ncol=2)\n",
        "\n",
        "# create a factor\n",
        "fac <- factor(c(\"0-20 hours\", \"21-40 hours\", \n",
        "                \">40 hours\", \"0-20 hours\", \">40 hours\"))"
      ],
      "execution_count": null,
      "outputs": []
    },
    {
      "cell_type": "code",
      "metadata": {
        "id": "h3-qQ2gAMgrB"
      },
      "source": [
        "# combine these into a list\n",
        "my_list <- list(my_data = dat, my_vector = vec, my_matrix = mat, my_factor = fac)\n",
        "my_list"
      ],
      "execution_count": null,
      "outputs": []
    },
    {
      "cell_type": "markdown",
      "metadata": {
        "id": "kqpTQmZxuDK9"
      },
      "source": [
        "\n",
        "\n",
        "<br>\n",
        "\n",
        "\n"
      ]
    },
    {
      "cell_type": "markdown",
      "metadata": {
        "id": "ie9_v5TsNMX6"
      },
      "source": [
        "* Notice that each of the elements of the list has a name (e.g., `$my_factor`)\n",
        "* You can observe the names of the list elements using the `names()` function"
      ]
    },
    {
      "cell_type": "code",
      "metadata": {
        "id": "F8rpwormNcSj"
      },
      "source": [
        "names(my_list)"
      ],
      "execution_count": null,
      "outputs": []
    },
    {
      "cell_type": "markdown",
      "metadata": {
        "id": "gVYyz6JCuEJA"
      },
      "source": [
        "\n",
        "\n",
        "<br>\n",
        "\n",
        "\n"
      ]
    },
    {
      "cell_type": "markdown",
      "metadata": {
        "id": "OnpnUdVyNfXZ"
      },
      "source": [
        "* You can call elements of the list by their name"
      ]
    },
    {
      "cell_type": "code",
      "metadata": {
        "id": "vIuBRENqNiNI"
      },
      "source": [
        "my_list$my_data"
      ],
      "execution_count": null,
      "outputs": []
    },
    {
      "cell_type": "code",
      "metadata": {
        "id": "Cg0po3t7Vnl3"
      },
      "source": [
        "my_list$my_matrix"
      ],
      "execution_count": null,
      "outputs": []
    }
  ]
}