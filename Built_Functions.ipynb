{
  "nbformat": 4,
  "nbformat_minor": 0,
  "metadata": {
    "colab": {
      "provenance": [],
      "collapsed_sections": [
        "GQhvmkVJJr5h",
        "zzb9m2ccxQb7",
        "9RZLOdK_MmgW"
      ]
    },
    "kernelspec": {
      "name": "ir",
      "display_name": "R"
    }
  },
  "cells": [
    {
      "cell_type": "markdown",
      "metadata": {
        "id": "gtETsh5j8vHw"
      },
      "source": [
        "# **Functions in R**\n",
        "\n",
        "---"
      ]
    },
    {
      "cell_type": "markdown",
      "metadata": {
        "id": "GQhvmkVJJr5h"
      },
      "source": [
        "## Functions used\n",
        "* `table()`\n",
        "* `which.max()`\n",
        "* `which()`\n",
        "* `na.omit()`\n",
        "* `paste()`\n",
        "* `unique()`\n",
        "* `ls()`\n",
        "* `rm()`\n",
        "\n",
        "---"
      ]
    },
    {
      "cell_type": "markdown",
      "metadata": {
        "id": "8NNJrHbIvuNV"
      },
      "source": [
        "## What are functions in R?\n",
        "\n",
        "<img src=\"https://upload.wikimedia.org/wikipedia/commons/thumb/3/3b/Function_machine2.svg/1200px-Function_machine2.svg.png\" style=\"background-color:red;\" width=\"300\" >"
      ]
    },
    {
      "cell_type": "markdown",
      "metadata": {
        "id": "qMsl45QEvxy-"
      },
      "source": [
        "Functions in R \n",
        "1. take one or more arguments as input,\n",
        "2. perform a given task using these inputs, and\n",
        "3. return one or more objects as output"
      ]
    },
    {
      "cell_type": "markdown",
      "metadata": {
        "id": "q5RuxEjQzPBA"
      },
      "source": [
        "Example: The minimum function `min()` \n",
        "1. takes a numeric vector as input,\n",
        "2. finds the minimum of the vector, and \n",
        "3. returns the minimum"
      ]
    },
    {
      "cell_type": "markdown",
      "metadata": {
        "id": "lJNwNA7gxNlw"
      },
      "source": [
        "<br>"
      ]
    },
    {
      "cell_type": "markdown",
      "metadata": {
        "id": "0GGLVLDt1CNa"
      },
      "source": [
        "### Why use functions?\n",
        "\n",
        "1. Avoid running several lines over and over again (i.e. more efficient coding)\n",
        "2. Allows us to use functions others have built without having to know what it does internally!\n",
        "  * This becomes useful when we start using functions to implement complex statistical algorithms"
      ]
    },
    {
      "cell_type": "markdown",
      "metadata": {
        "id": "HETcZP6e1IKQ"
      },
      "source": [
        "<br>"
      ]
    },
    {
      "cell_type": "markdown",
      "metadata": {
        "id": "cqAZTmRxxE5V"
      },
      "source": [
        "An R function is created using the keyword `function()` using the syntax below\n",
        "\n",
        "\n",
        "```\n",
        "function_name <- function(arg_1, arg_2, ...) {\n",
        "   Function body \n",
        "   return(output)\n",
        "}\n",
        "```\n",
        "\n",
        "* Function Name\n",
        "  * this is the actual name of the function and is store as an R object of class type 'function'\n",
        "* Arguments\n",
        "  * Arguments (`arg_1, arg_2, ...`) are placeholders. When you call a function, you pass a value (e.g., number, vector, dataframe etc.) to the argument\n",
        "* Function Body\n",
        "  * This is a collection of R commands that define what the function does\n",
        "* Return Value\n",
        "  * Returns the value of the function and is the last expression in the function body\n",
        "\n"
      ]
    },
    {
      "cell_type": "markdown",
      "metadata": {
        "id": "4jdbcvf7wr_q"
      },
      "source": [
        "<br>"
      ]
    },
    {
      "cell_type": "markdown",
      "metadata": {
        "id": "qk5RjuMn24NX"
      },
      "source": [
        "## Creating our own mode function `myMode()`\n"
      ]
    },
    {
      "cell_type": "markdown",
      "metadata": {
        "id": "lZBeTihd3GZN"
      },
      "source": [
        "* Three measures of central tendency in data\n",
        "  * mean\n",
        "  * median\n",
        "  * mode\n",
        "\n",
        "<br> \n",
        "* We are already familiar with the mean and median functions, but R does not have a built-in function to find the mode\n",
        "* We can build our own"
      ]
    },
    {
      "cell_type": "markdown",
      "metadata": {
        "id": "xyGWKCl64OZK"
      },
      "source": [
        "<br>"
      ]
    },
    {
      "cell_type": "markdown",
      "metadata": {
        "id": "9TSGiMHy4Oy4"
      },
      "source": [
        "The mode of a vector is the value that occurs most often.\n",
        "\n",
        "<br>\n",
        "\n",
        "\n",
        "What is the mode of the following vector (without using R)?\n",
        "```\n",
        "c(4, 8, 4, 8, 4, 5)\n",
        "```\n",
        "\n",
        "\n"
      ]
    },
    {
      "cell_type": "markdown",
      "metadata": {
        "id": "UJaBvZrF49rZ"
      },
      "source": [
        "<br>"
      ]
    },
    {
      "cell_type": "markdown",
      "metadata": {
        "id": "NB563Cze4zTQ"
      },
      "source": [
        "How do we arrive at the answer above?\n",
        "1. Indentified the unique values of the vector\n",
        "2. Counted the occurrence of the unique values\n",
        "3. Returned the value that occurred most often\n",
        "\n",
        "We can replicate these steps in R"
      ]
    },
    {
      "cell_type": "code",
      "metadata": {
        "id": "Rfl9w7Tl1Skp"
      },
      "source": [
        "my_vector <- c(4, 8, 4, 8, 4, 5)\n",
        "\n",
        "# the table() function finds the frequency/counts of \n",
        "# all unique values in the vector\n",
        "vector_freq <- table(my_vector)\n",
        "vector_freq"
      ],
      "execution_count": null,
      "outputs": []
    },
    {
      "cell_type": "code",
      "metadata": {
        "id": "5qocqAJu7qkJ"
      },
      "source": [
        "# Find the index of the maximum\n",
        "max_index <- which.max(vector_freq)\n",
        "max_index"
      ],
      "execution_count": null,
      "outputs": []
    },
    {
      "cell_type": "code",
      "metadata": {
        "id": "X5LwyDOM7ZjP"
      },
      "source": [
        "names(vector_freq)"
      ],
      "execution_count": null,
      "outputs": []
    },
    {
      "cell_type": "code",
      "metadata": {
        "id": "9Pc9vN4Z8ZPp"
      },
      "source": [
        "# Find the number corresponding to the max index\n",
        "mode_out <- names(vector_freq[max_index])\n",
        "mode_out`"
      ],
      "execution_count": null,
      "outputs": []
    },
    {
      "cell_type": "code",
      "metadata": {
        "id": "Xj7aGfOQ8u0V"
      },
      "source": [
        "# need to convert the value to a number\n",
        "as.numeric(mode_out)"
      ],
      "execution_count": null,
      "outputs": []
    },
    {
      "cell_type": "code",
      "metadata": {
        "id": "UBqy_DCW9JCQ"
      },
      "source": [
        "# all lines together\n",
        "my_vector <- c(4, 8, 4, 8, 4, 5)\n",
        "\n",
        "vector_freq <- table(my_vector)\n",
        "max_index <- which.max(vector_freq)\n",
        "mode_out <- names(vector_freq[max_index])\n",
        "as.numeric(mode_out)"
      ],
      "execution_count": null,
      "outputs": []
    },
    {
      "cell_type": "markdown",
      "metadata": {
        "id": "Gdkabw2i9DHj"
      },
      "source": [
        "<br>"
      ]
    },
    {
      "cell_type": "markdown",
      "metadata": {
        "id": "ldr3GGHW9DH9"
      },
      "source": [
        "### Creating the myMode function"
      ]
    },
    {
      "cell_type": "code",
      "metadata": {
        "id": "FoQ2QmpC9Ys4"
      },
      "source": [
        "myMode <- function(my_vector) {\n",
        "\n",
        "  # find frequencies\n",
        "  vector_freq <- table(my_vector)\n",
        "\n",
        "  # find max index\n",
        "  max_index <- which.max(vector_freq)\n",
        "\n",
        "  # find value with max index\n",
        "  mode_out <- names(vector_freq[max_index])\n",
        "  \n",
        "  # our return statement\n",
        "  return(as.numeric(mode_out))\n",
        "}"
      ],
      "execution_count": null,
      "outputs": []
    },
    {
      "cell_type": "code",
      "metadata": {
        "id": "PSCMFVul9q65"
      },
      "source": [
        "# running the myMode() function\n",
        "this_is_mode <- myMode(c(4, 8, 4, 8, 4, 5))\n",
        "this_is_mode"
      ],
      "execution_count": null,
      "outputs": []
    },
    {
      "cell_type": "markdown",
      "metadata": {
        "id": "f15p6lY3wsSQ"
      },
      "source": [
        "<br>"
      ]
    },
    {
      "cell_type": "markdown",
      "metadata": {
        "id": "8gEN49sb914S"
      },
      "source": [
        "What happens if we have multiple modes (i.e. more than one value have a tie for occurring most often)?"
      ]
    },
    {
      "cell_type": "markdown",
      "metadata": {
        "id": "NaI8XaQG-DZf"
      },
      "source": [
        "What is the mode of the following vector?\n",
        "\n",
        "```\n",
        "c(4, 8, 4, 8, 4, 5, 8)\n",
        "```"
      ]
    },
    {
      "cell_type": "code",
      "metadata": {
        "id": "PQdee2XT-CEp"
      },
      "source": [
        "# running the myMode() function\n",
        "myMode(c(4, 8, 4, 8, 4, 5, 8))"
      ],
      "execution_count": null,
      "outputs": []
    },
    {
      "cell_type": "markdown",
      "metadata": {
        "id": "5OjiT1Rf-ghC"
      },
      "source": [
        "* The `which.max()` function only returns the index of the first maximum value\n",
        "* We want to return "
      ]
    },
    {
      "cell_type": "code",
      "metadata": {
        "id": "5L7sLE8I-yhj"
      },
      "source": [
        "my_vector <- c(4, 8, 4, 8, 4, 5, 8)\n",
        "\n",
        "# find frequencies\n",
        "vector_freq <- table(my_vector)\n",
        "vector_freq"
      ],
      "execution_count": null,
      "outputs": []
    },
    {
      "cell_type": "code",
      "metadata": {
        "id": "WIsorYmP_VIo"
      },
      "source": [
        "# find max index\n",
        "max_index <- which.max(vector_freq)\n",
        "max_index"
      ],
      "execution_count": null,
      "outputs": []
    },
    {
      "cell_type": "markdown",
      "metadata": {
        "id": "t_jyKyYrrKQ4"
      },
      "source": [
        "* Need to find all frequencies that equal the max frequency"
      ]
    },
    {
      "cell_type": "code",
      "metadata": {
        "id": "6E_jwIEf_OG6"
      },
      "source": [
        "# first find maximum\n",
        "max_freq <- max(vector_freq)\n",
        "max_freq"
      ],
      "execution_count": null,
      "outputs": []
    },
    {
      "cell_type": "code",
      "metadata": {
        "id": "2mwRmL1X9gsR"
      },
      "source": [
        "which(vector_freq == max_freq)"
      ],
      "execution_count": null,
      "outputs": []
    },
    {
      "cell_type": "code",
      "metadata": {
        "id": "YJkG7BJZ_c5Q"
      },
      "source": [
        "# find max index\n",
        "max_index <- which(vector_freq == max_freq)\n",
        "max_index"
      ],
      "execution_count": null,
      "outputs": []
    },
    {
      "cell_type": "code",
      "metadata": {
        "id": "Ei72VeZj_mjp"
      },
      "source": [
        "mode_out <- names(vector_freq)[max_index]\n",
        "mode_out"
      ],
      "execution_count": null,
      "outputs": []
    },
    {
      "cell_type": "code",
      "metadata": {
        "id": "QTFl7xf9_vRg"
      },
      "source": [
        "as.numeric(mode_out)"
      ],
      "execution_count": null,
      "outputs": []
    },
    {
      "cell_type": "markdown",
      "metadata": {
        "id": "Unhg_TNLAA3t"
      },
      "source": [
        "<br>"
      ]
    },
    {
      "cell_type": "markdown",
      "metadata": {
        "id": "ekMHmxV1AD_a"
      },
      "source": [
        "Rewriting the function for multiple modes"
      ]
    },
    {
      "cell_type": "code",
      "metadata": {
        "id": "EfpyCdvxABQA"
      },
      "source": [
        "myMode <- function(my_vector) {\n",
        "\n",
        "  # find frequencies\n",
        "  vector_freq <- table(my_vector)\n",
        "\n",
        "  # find max index(es)\n",
        "  max_freq  <- max(vector_freq)\n",
        "  max_index <- which(vector_freq == max_freq)\n",
        "\n",
        "  # find value with max index\n",
        "  mode_out <- names(vector_freq)[max_index]\n",
        "  \n",
        "  # our return statement\n",
        "  return(as.numeric(mode_out))\n",
        "}"
      ],
      "execution_count": null,
      "outputs": []
    },
    {
      "cell_type": "code",
      "metadata": {
        "id": "alg79hjpAWXt"
      },
      "source": [
        "myMode(c(4, 8, 4, 8, 4, 5, 8))"
      ],
      "execution_count": null,
      "outputs": []
    },
    {
      "cell_type": "markdown",
      "metadata": {
        "id": "ROfZbG1RA2oC"
      },
      "source": [
        "<br>"
      ]
    },
    {
      "cell_type": "markdown",
      "metadata": {
        "id": "cNHEf0lCA2oN"
      },
      "source": [
        "What if we want a warning if there is more than one mode?\n",
        "* We can include print and if statements"
      ]
    },
    {
      "cell_type": "code",
      "metadata": {
        "id": "5VH1h0O7BHVz"
      },
      "source": [
        "modes <- myMode(c(4, 8, 4, 8, 4, 5, 8))\n",
        "modes\n",
        "\n",
        "length(modes)  # number of modes"
      ],
      "execution_count": null,
      "outputs": []
    },
    {
      "cell_type": "code",
      "metadata": {
        "id": "h7dMuQENBz3q"
      },
      "source": [
        "paste(\"Number of modes:\", length(modes), sep=\" \")"
      ],
      "execution_count": null,
      "outputs": []
    },
    {
      "cell_type": "code",
      "metadata": {
        "id": "Jhhjkn62A2oO"
      },
      "source": [
        "myMode <- function(my_vector) {\n",
        "\n",
        "  # find frequencies\n",
        "  vector_freq <- table(my_vector)\n",
        "\n",
        "  # find max index(es)\n",
        "  max_freq  <- max(vector_freq)\n",
        "  max_index <- which(vector_freq == max_freq)\n",
        "\n",
        "  # find value with max index\n",
        "  mode_out <- names(vector_freq)[max_index]\n",
        "\n",
        "  # statement for number of modes\n",
        "  nb_modes <- length(mode_out)\n",
        "  if (nb_modes > 1) {\n",
        "    print( paste(\"Number of modes:\", nb_modes, sep=\" \") )\n",
        "  }\n",
        "  \n",
        "  # our return statement\n",
        "  return(as.numeric(mode_out))\n",
        "}"
      ],
      "execution_count": null,
      "outputs": []
    },
    {
      "cell_type": "code",
      "metadata": {
        "id": "UV0Hpp-tCW3d"
      },
      "source": [
        "# single mode\n",
        "modes <- myMode(c(4, 8, 4, 8, 4, 5))\n",
        "modes"
      ],
      "execution_count": null,
      "outputs": []
    },
    {
      "cell_type": "code",
      "metadata": {
        "id": "nhbiXXBzDTN2"
      },
      "source": [
        "# multiple modes\n",
        "modes <- myMode(c(4, 8, 4, 8, 4, 5, 8))\n",
        "modes"
      ],
      "execution_count": null,
      "outputs": []
    },
    {
      "cell_type": "markdown",
      "metadata": {
        "id": "AFaY6aijDffA"
      },
      "source": [
        "<br>"
      ]
    },
    {
      "cell_type": "markdown",
      "metadata": {
        "id": "XR4WO-75Dffa"
      },
      "source": [
        "What if we want to be able to turn on/off verbosity (i.e. turn on/off the comments)?\n",
        "* Can add a function argument\n",
        "* Function arguments can have default values\n",
        "* We will make a verbosity argument default to `FALSE`\n",
        "* When the argument is `TRUE`, the function will print the statement\n"
      ]
    },
    {
      "cell_type": "code",
      "metadata": {
        "id": "l6NhvnjTDr65"
      },
      "source": [
        "myMode <- function(my_vector, verbose = FALSE) {\n",
        "\n",
        "  # find frequencies\n",
        "  vector_freq <- table(my_vector)\n",
        "\n",
        "  # find max index(es)\n",
        "  max_freq  <- max(vector_freq)\n",
        "  max_index <- which(vector_freq == max_freq)\n",
        "\n",
        "  # find value with max index\n",
        "  mode_out <- names(vector_freq)[max_index]\n",
        "\n",
        "  \n",
        "  # only print if verbose is TRUE\n",
        "  if (verbose) {\n",
        "\n",
        "    # statement for number of modes\n",
        "    nb_modes <- length(mode_out)\n",
        "    if (nb_modes > 1) {\n",
        "      print( paste(\"Number of modes:\", nb_modes, sep=\" \") )\n",
        "    }\n",
        "\n",
        "  }\n",
        "  \n",
        "  # our return statement\n",
        "  return(as.numeric(mode_out))\n",
        "}"
      ],
      "execution_count": null,
      "outputs": []
    },
    {
      "cell_type": "code",
      "metadata": {
        "id": "d50aib5cDffa"
      },
      "source": [
        "modes <- myMode(c(4, 8, 4, 8, 4, 5, 8))\n",
        "modes"
      ],
      "execution_count": null,
      "outputs": []
    },
    {
      "cell_type": "code",
      "metadata": {
        "id": "jB2LL1SFEPpm"
      },
      "source": [
        "modes <- myMode(c(4, 8, 4, 8, 4, 5, 8), verbose = TRUE)\n",
        "modes"
      ],
      "execution_count": null,
      "outputs": []
    },
    {
      "cell_type": "markdown",
      "metadata": {
        "id": "0ldNYsRhEbhc"
      },
      "source": [
        "<br>"
      ]
    },
    {
      "cell_type": "markdown",
      "metadata": {
        "id": "DaReKmsLEbh1"
      },
      "source": [
        "### Debugging\n",
        "\n",
        "What if we want to find the mode of a character vector? What do we change?\n"
      ]
    },
    {
      "cell_type": "code",
      "metadata": {
        "id": "k3aa5XDfEbh1"
      },
      "source": [
        "modes <- myMode(c(\"four\", \"eight\", \"four\", \"eight\", \n",
        "                  \"four\", \"five\", \"eight\"))\n",
        "modes"
      ],
      "execution_count": null,
      "outputs": []
    },
    {
      "cell_type": "markdown",
      "metadata": {
        "id": "UZBuItUsE6PT"
      },
      "source": [
        "* We are attempting to convert a character vector to numeric\n",
        "* We can avoid this by checking for this in our function"
      ]
    },
    {
      "cell_type": "code",
      "metadata": {
        "id": "cm_7f5j4E5iU"
      },
      "source": [
        "myMode <- function(my_vector, verbose = FALSE) {\n",
        "\n",
        "  # find frequencies\n",
        "  vector_freq <- table(my_vector)\n",
        "\n",
        "  # find max index(es)\n",
        "  max_freq  <- max(vector_freq)\n",
        "  max_index <- which(vector_freq == max_freq)\n",
        "\n",
        "  # find value with max index\n",
        "  mode_out <- names(vector_freq)[max_index]\n",
        "\n",
        "  \n",
        "  # only print if verbose is TRUE\n",
        "  if (verbose) {\n",
        "\n",
        "    # statement for number of modes\n",
        "    nb_modes <- length(mode_out)\n",
        "    if (nb_modes > 1) {\n",
        "      print( paste(\"Number of modes:\", length(modes), sep=\" \") )\n",
        "    }\n",
        "\n",
        "  }\n",
        "  \n",
        "  # our return statement\n",
        "  if (class(my_vector) == 'numeric') {\n",
        "    return(as.numeric(mode_out))\n",
        "  } else {\n",
        "    return(mode_out)\n",
        "  }\n",
        "  \n",
        "}"
      ],
      "execution_count": null,
      "outputs": []
    },
    {
      "cell_type": "code",
      "metadata": {
        "id": "y2BG9534FXOZ"
      },
      "source": [
        "modes <- myMode(c(\"four\", \"eight\", \"four\", \"eight\", \n",
        "                  \"four\", \"five\", \"eight\"))\n",
        "modes"
      ],
      "execution_count": null,
      "outputs": []
    },
    {
      "cell_type": "markdown",
      "metadata": {
        "id": "27NKVXyY9297"
      },
      "source": [
        "<br>"
      ]
    },
    {
      "cell_type": "markdown",
      "metadata": {
        "id": "JAiPp8CRF-B4"
      },
      "source": [
        "## Built-in Functions"
      ]
    },
    {
      "cell_type": "markdown",
      "metadata": {
        "id": "7sZUtt2cGEzQ"
      },
      "source": [
        "The `unique()` function finds all unique values in a vector or table"
      ]
    },
    {
      "cell_type": "code",
      "metadata": {
        "id": "kANUQoqAGgte"
      },
      "source": [
        "my_vector <- c(3, 2, 4, 4, 2, 4, 4, 4, 2)\n",
        "unique(my_vector)"
      ],
      "execution_count": null,
      "outputs": []
    },
    {
      "cell_type": "markdown",
      "metadata": {
        "id": "cnLFAd0sG51k"
      },
      "source": [
        "<br>"
      ]
    },
    {
      "cell_type": "markdown",
      "metadata": {
        "id": "V1tO7PjuGre4"
      },
      "source": [
        "`sort()` sorts a vector"
      ]
    },
    {
      "cell_type": "code",
      "metadata": {
        "id": "7HfcVZ9dGt35"
      },
      "source": [
        "my_vector <- c(3, 2, 4, 4, 2, 4, 4, 4, 2)\n",
        "sort(my_vector)"
      ],
      "execution_count": null,
      "outputs": []
    },
    {
      "cell_type": "markdown",
      "metadata": {
        "id": "hibpmYQRHG2z"
      },
      "source": [
        "<br>"
      ]
    },
    {
      "cell_type": "markdown",
      "metadata": {
        "id": "CEyTq5xzHG21"
      },
      "source": [
        "We are already familiar with the `mean()` function, but the `mean()` function, like many others, have additional arguments you can use"
      ]
    },
    {
      "cell_type": "code",
      "metadata": {
        "id": "Y1MrETKiHG22"
      },
      "source": [
        "my_vector <- c(3, 2, 4, 4, 2, 4, 4, 4, 2, NA)\n",
        "mean(my_vector)"
      ],
      "execution_count": null,
      "outputs": []
    },
    {
      "cell_type": "code",
      "metadata": {
        "id": "yHo4rEAqtO-v"
      },
      "source": [
        "# na.rm is an argument in the mean function\n",
        "mean(my_vector, na.rm=TRUE)"
      ],
      "execution_count": null,
      "outputs": []
    },
    {
      "cell_type": "code",
      "metadata": {
        "id": "0ETieJ6ktRhk"
      },
      "source": [
        "# or we can remove the missing value\n",
        "na.omit(my_vector)"
      ],
      "execution_count": null,
      "outputs": []
    },
    {
      "cell_type": "code",
      "metadata": {
        "id": "UVmyzdLrtWCt"
      },
      "source": [
        "# then average\n",
        "mean(na.omit(my_vector))"
      ],
      "execution_count": null,
      "outputs": []
    },
    {
      "cell_type": "markdown",
      "metadata": {
        "id": "6NYErywqH6OA"
      },
      "source": [
        "<br>"
      ]
    },
    {
      "cell_type": "markdown",
      "metadata": {
        "id": "MHRj0JW7H6OA"
      },
      "source": [
        "Identify which variables you have already stored in your workspace"
      ]
    },
    {
      "cell_type": "code",
      "metadata": {
        "id": "tp56xDbsH6OB"
      },
      "source": [
        "ls()"
      ],
      "execution_count": null,
      "outputs": []
    },
    {
      "cell_type": "markdown",
      "metadata": {
        "id": "CHqFXi4KIKit"
      },
      "source": [
        "<br>"
      ]
    },
    {
      "cell_type": "markdown",
      "metadata": {
        "id": "iHBcNcx4IKiu"
      },
      "source": [
        "Remove objects from your workspace"
      ]
    },
    {
      "cell_type": "code",
      "metadata": {
        "id": "P_g3CE9fIKiv"
      },
      "source": [
        "rm(list = ls())"
      ],
      "execution_count": null,
      "outputs": []
    },
    {
      "cell_type": "code",
      "metadata": {
        "id": "7vKUP2DdIP1C"
      },
      "source": [
        "ls()"
      ],
      "execution_count": null,
      "outputs": []
    },
    {
      "cell_type": "markdown",
      "metadata": {
        "id": "qEdERDSwH_SO"
      },
      "source": [
        "<br>"
      ]
    },
    {
      "cell_type": "markdown",
      "metadata": {
        "id": "_RR1_zQ3pI7L"
      },
      "source": [
        "Using other libraries to do the work for you!"
      ]
    },
    {
      "cell_type": "code",
      "metadata": {
        "id": "a3xv9BWypI7L"
      },
      "source": [
        "# installs a package someone else wrote\n",
        "# usually only have to do this once, but colab requires\n",
        "# you to do this each time\n",
        "install.packages(\"modeest\")"
      ],
      "execution_count": null,
      "outputs": []
    },
    {
      "cell_type": "code",
      "metadata": {
        "id": "L-xwICO9pa7e"
      },
      "source": [
        "# loads the package\n",
        "library(modeest)"
      ],
      "execution_count": null,
      "outputs": []
    },
    {
      "cell_type": "code",
      "metadata": {
        "id": "EH870Ez4pcqv"
      },
      "source": [
        "mfv(c(4, 8, 4, 8, 4, 5, 8))"
      ],
      "execution_count": null,
      "outputs": []
    },
    {
      "cell_type": "markdown",
      "metadata": {
        "id": "z_TmV5AkpI6q"
      },
      "source": [
        "<br>"
      ]
    },
    {
      "cell_type": "markdown",
      "metadata": {
        "id": "zzb9m2ccxQb7"
      },
      "source": [
        "\n",
        "\n",
        "## Scope of functions"
      ]
    },
    {
      "cell_type": "markdown",
      "metadata": {
        "id": "0bT9TBq6IV8G"
      },
      "source": [
        "* Scope is essentially knowing where variables can and cannot be accessed\n",
        "* This concept is best understood through example"
      ]
    },
    {
      "cell_type": "code",
      "metadata": {
        "id": "oPH1EGLHvQAf"
      },
      "source": [
        "# function adds 5 to x\n",
        "add_5 <- function(x) {\n",
        "  y <- x + 5\n",
        "  return(y)\n",
        "}"
      ],
      "execution_count": null,
      "outputs": []
    },
    {
      "cell_type": "code",
      "metadata": {
        "id": "iI4ROYHiInsl"
      },
      "source": [
        "add_5(2)"
      ],
      "execution_count": null,
      "outputs": []
    },
    {
      "cell_type": "markdown",
      "metadata": {
        "id": "NcgDVISPK6Y9"
      },
      "source": [
        "* We stored the variable `y` in this function\n",
        "* Let's see if we can access it"
      ]
    },
    {
      "cell_type": "code",
      "metadata": {
        "id": "QIIrXaxcKTvi"
      },
      "source": [
        "y"
      ],
      "execution_count": null,
      "outputs": []
    },
    {
      "cell_type": "markdown",
      "metadata": {
        "id": "BTafysSmKW2i"
      },
      "source": [
        "* The variable `y` only exists with the function `add_5` (i.e. the scope of `y`)\n",
        "* In this case, `y` is a **local variable** since it is define locally within a function"
      ]
    },
    {
      "cell_type": "markdown",
      "metadata": {
        "id": "1R221wRPLCCk"
      },
      "source": [
        "<br>"
      ]
    },
    {
      "cell_type": "markdown",
      "metadata": {
        "id": "CgZt-JcrLegt"
      },
      "source": [
        "What happens in the following?"
      ]
    },
    {
      "cell_type": "code",
      "metadata": {
        "id": "ieIzOPYdJvkq"
      },
      "source": [
        "# function adds x and y\n",
        "add_y <- function(x) {\n",
        "  return(x + y)\n",
        "}"
      ],
      "execution_count": null,
      "outputs": []
    },
    {
      "cell_type": "code",
      "metadata": {
        "id": "O9d1PpmwIv8C"
      },
      "source": [
        "y <- 3\n",
        "add_y(2)"
      ],
      "execution_count": null,
      "outputs": []
    },
    {
      "cell_type": "markdown",
      "metadata": {
        "id": "tic0VxqOLpaF"
      },
      "source": [
        "* Careful when using variables that are not defined in a function!\n",
        "* R will pull the variable globally if possible\n",
        "* This can lead to annoying bugs down the road"
      ]
    },
    {
      "cell_type": "markdown",
      "metadata": {
        "id": "eQFgHNCyLveM"
      },
      "source": [
        "<br>"
      ]
    },
    {
      "cell_type": "code",
      "metadata": {
        "id": "Kgn565NjJa40"
      },
      "source": [
        "# remove all variables\n",
        "rm(list = ls())\n",
        "\n",
        "# function adds 5 to x\n",
        "add_5 <- function(x) {\n",
        "  y <- x + 5\n",
        "  return(y)\n",
        "}"
      ],
      "execution_count": null,
      "outputs": []
    },
    {
      "cell_type": "code",
      "metadata": {
        "id": "rmz8JZFFMOFb"
      },
      "source": [
        "add_5(2)\n",
        "y"
      ],
      "execution_count": null,
      "outputs": []
    },
    {
      "cell_type": "markdown",
      "metadata": {
        "id": "mmuALii6MTZU"
      },
      "source": [
        "<br>"
      ]
    },
    {
      "cell_type": "markdown",
      "metadata": {
        "id": "f4t3yo3VMWDk"
      },
      "source": [
        "* The `<<-` assignment operator allows you to access variables globally\n",
        "* This has its uses, but NEVER use this in this course"
      ]
    },
    {
      "cell_type": "code",
      "metadata": {
        "id": "mDqyrjoHMTZW"
      },
      "source": [
        "# remove all variables\n",
        "rm(list = ls())\n",
        "\n",
        "# function adds 5 to x\n",
        "add_5 <- function(x) {\n",
        "  y <<- x + 5\n",
        "  return(y)\n",
        "}"
      ],
      "execution_count": null,
      "outputs": []
    },
    {
      "cell_type": "code",
      "metadata": {
        "id": "RzUUg3utMTZX"
      },
      "source": [
        "add_5(2)\n",
        "y"
      ],
      "execution_count": null,
      "outputs": []
    },
    {
      "cell_type": "markdown",
      "metadata": {
        "id": "qudix2NhOUbi"
      },
      "source": [
        "<br>"
      ]
    },
    {
      "cell_type": "markdown",
      "metadata": {
        "id": "9RZLOdK_MmgW"
      },
      "source": [
        "\n",
        "\n",
        "## Functions Practice"
      ]
    },
    {
      "cell_type": "markdown",
      "metadata": {
        "id": "GGrd1wj5MmgY"
      },
      "source": [
        "Create a function `quadratic_formula` that has the following attributes\n",
        "* Input: Three single numbers `a`, `b`, `c` as function arguments\n",
        "* Ouput: The solution to the qudratic equation\n",
        "  * $\\begin{align*}\n",
        "\\frac{-b \\pm \\sqrt{b^2 - 4ac}} {2a}\n",
        "\\end{align*}$\n",
        "* Us `if` statements to potentially return three types of function outputs\n",
        "  1. If $b^2 - 4ac$ is zero, simply return the one solution\n",
        "  2. If $b^2 - 4ac$ is less than zero, print a statement saying there are no zeros that are real numbers\n",
        "  3. If $b^2 - 4ac$ is greater than zero, return the two real zeros as a single vector"
      ]
    },
    {
      "cell_type": "code",
      "metadata": {
        "id": "X32wpPJ7MmgY"
      },
      "source": [],
      "execution_count": null,
      "outputs": []
    },
    {
      "cell_type": "code",
      "metadata": {
        "id": "JHhz3QbGRBxo"
      },
      "source": [
        "quadratic_formula(1, 0, 0)"
      ],
      "execution_count": null,
      "outputs": []
    },
    {
      "cell_type": "code",
      "metadata": {
        "id": "9n2ApKFFReEL"
      },
      "source": [
        "quadratic_formula(1, 0, 1)"
      ],
      "execution_count": null,
      "outputs": []
    },
    {
      "cell_type": "code",
      "metadata": {
        "id": "9c7s23NwReuC"
      },
      "source": [
        "quadratic_formula(1, 0, -1)"
      ],
      "execution_count": null,
      "outputs": []
    },
    {
      "cell_type": "markdown",
      "metadata": {
        "id": "FyFpTewWOVNF"
      },
      "source": [
        "<br>"
      ]
    },
    {
      "cell_type": "markdown",
      "metadata": {
        "id": "xcFFteDyOWcd"
      },
      "source": [
        "Create a function `avg_diff` that has the following attributes\n",
        "* Inputs:\n",
        "  * vector1 - a numeric vector\n",
        "  * vector2 - a numeric vector\n",
        "* Ouput: A list of two objects providing\n",
        "  1. the difference between the two vectors\n",
        "  2. the average difference between the two vectors\n",
        "  3. the length of the first vector\n",
        "* Us `if` statements to \n",
        "  * print a warning statement if the vectors are not the same length"
      ]
    },
    {
      "cell_type": "code",
      "metadata": {
        "id": "4Lwnod1ARpv0"
      },
      "source": [],
      "execution_count": null,
      "outputs": []
    },
    {
      "cell_type": "code",
      "metadata": {
        "id": "7hy66hCoR5UU"
      },
      "source": [
        "vec1 <- c(1, 2, 3, 4, 5, 6)\n",
        "vec2 <- c(0, 1, 2, 3, 4, 5)\n",
        "avg_diff(vec1, vec2)"
      ],
      "execution_count": null,
      "outputs": []
    },
    {
      "cell_type": "code",
      "metadata": {
        "id": "3m2ztceCS3Tc"
      },
      "source": [
        "vec1 <- c(1, 2, 3, 4, 5, 6)\n",
        "vec2 <- c(0, 1, 2, 3, 4)\n",
        "avg_diff(vec1, vec2)"
      ],
      "execution_count": null,
      "outputs": []
    },
    {
      "cell_type": "markdown",
      "metadata": {
        "id": "jPahgppx4Nk1"
      },
      "source": [
        "<br>"
      ]
    }
  ]
}