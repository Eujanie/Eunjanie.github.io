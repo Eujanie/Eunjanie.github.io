{
  "nbformat": 4,
  "nbformat_minor": 0,
  "metadata": {
    "colab": {
      "provenance": []
    },
    "kernelspec": {
      "name": "ir",
      "display_name": "R"
    }
  },
  "cells": [
    {
      "cell_type": "markdown",
      "metadata": {
        "id": "gtETsh5j8vHw"
      },
      "source": [
        "# **Lab2: Indexing and Subsetting (20 points)**\n",
        "\n",
        "#### **WRITE YOUR NAME HERE**\n"
      ]
    },
    {
      "cell_type": "markdown",
      "metadata": {
        "id": "en9tcPcGuFyc"
      },
      "source": [
        "---\n",
        "**Instructions**: Complete the lab below.\n",
        "- <font color=red>Tasks</font> indicated in red must be completed to receive credit\n",
        "- Include all code for your work\n",
        "- Include markdown cells with written answers explaining your work when prompted\n",
        "- Your completed lab must be submitted to Canvas as a pdf file by the end of the lab session\n",
        "---"
      ]
    },
    {
      "cell_type": "markdown",
      "metadata": {
        "id": "ZXUOzh4drf3V"
      },
      "source": [
        "\n",
        "\n",
        "\n",
        "<br>\n",
        "\n",
        "\n"
      ]
    },
    {
      "cell_type": "markdown",
      "metadata": {
        "id": "Ek6IuNtolHgW"
      },
      "source": [
        "####<font color=red>Task 1</font>  (2 points)\n",
        "\n",
        "The code below loads and preprocesses the US Census data described in lecture\n",
        "* Run the code cell\n",
        "* View the first few rows using `head()` to ensure the data has been properly reformatted for analysis\n"
      ]
    },
    {
      "cell_type": "code",
      "metadata": {
        "id": "lL_zuwm6lXQV"
      },
      "source": [
        "# create url to census data\n",
        "census_url <- url(\"https://www2.census.gov/programs-surveys/popest/tables/2010-2011/state/totals/nst-est2011-01.csv\")\n",
        "\n",
        "# load the census data into memory\n",
        "census <- read.csv(census_url)\n",
        "\n",
        "# remove unnecessary columns and rows\n",
        "nb_row <- nrow(census)\n",
        "census <- census[-c(1:8, (nb_row - 6):nb_row), -(6:10)]\n",
        "\n",
        "# overwrite the column names using meaningful column names\n",
        "names(census) <- c(\"state\", \"april2010census\", \"april2010base\", \"july2010pop\", \"july2011pop\")\n",
        "\n",
        "# remove periods from state names\n",
        "census$state <- gsub('\\\\.', '', census$state)\n",
        "\n",
        "# remove commas from populations and convert to numeric\n",
        "census$april2010census <- as.numeric(gsub(',', '', census$april2010census))\n",
        "census$april2010base <- as.numeric(gsub(',', '', census$april2010base))\n",
        "census$july2010pop <- as.numeric(gsub(',', '', census$july2010pop))\n",
        "census$july2011pop <- as.numeric(gsub(',', '', census$july2011pop))\n",
        "\n",
        "# remove existing row names\n",
        "rownames(census) <- NULL"
      ],
      "execution_count": null,
      "outputs": []
    },
    {
      "cell_type": "code",
      "metadata": {
        "id": "CAmYQdwNlh2C",
        "colab": {
          "base_uri": "https://localhost:8080/",
          "height": 271
        },
        "outputId": "ade3f9c6-5210-4823-ebea-18e3f5a4edba"
      },
      "source": [
        "# View the first few rows\n",
        "head(census)\n",
        "\n",
        "# looking good!"
      ],
      "execution_count": null,
      "outputs": [
        {
          "output_type": "display_data",
          "data": {
            "text/plain": [
              "  state      april2010census april2010base july2010pop july2011pop\n",
              "1 Alabama     4779736         4779735       4785401     4802740   \n",
              "2 Alaska       710231          710231        714146      722718   \n",
              "3 Arizona     6392017         6392013       6413158     6482505   \n",
              "4 Arkansas    2915918         2915921       2921588     2937979   \n",
              "5 California 37253956        37253956      37338198    37691912   \n",
              "6 Colorado    5029196         5029196       5047692     5116796   "
            ],
            "text/latex": "A data.frame: 6 × 5\n\\begin{tabular}{r|lllll}\n  & state & april2010census & april2010base & july2010pop & july2011pop\\\\\n  & <chr> & <dbl> & <dbl> & <dbl> & <dbl>\\\\\n\\hline\n\t1 & Alabama    &  4779736 &  4779735 &  4785401 &  4802740\\\\\n\t2 & Alaska     &   710231 &   710231 &   714146 &   722718\\\\\n\t3 & Arizona    &  6392017 &  6392013 &  6413158 &  6482505\\\\\n\t4 & Arkansas   &  2915918 &  2915921 &  2921588 &  2937979\\\\\n\t5 & California & 37253956 & 37253956 & 37338198 & 37691912\\\\\n\t6 & Colorado   &  5029196 &  5029196 &  5047692 &  5116796\\\\\n\\end{tabular}\n",
            "text/markdown": "\nA data.frame: 6 × 5\n\n| <!--/--> | state &lt;chr&gt; | april2010census &lt;dbl&gt; | april2010base &lt;dbl&gt; | july2010pop &lt;dbl&gt; | july2011pop &lt;dbl&gt; |\n|---|---|---|---|---|---|\n| 1 | Alabama    |  4779736 |  4779735 |  4785401 |  4802740 |\n| 2 | Alaska     |   710231 |   710231 |   714146 |   722718 |\n| 3 | Arizona    |  6392017 |  6392013 |  6413158 |  6482505 |\n| 4 | Arkansas   |  2915918 |  2915921 |  2921588 |  2937979 |\n| 5 | California | 37253956 | 37253956 | 37338198 | 37691912 |\n| 6 | Colorado   |  5029196 |  5029196 |  5047692 |  5116796 |\n\n",
            "text/html": [
              "<table class=\"dataframe\">\n",
              "<caption>A data.frame: 6 × 5</caption>\n",
              "<thead>\n",
              "\t<tr><th></th><th scope=col>state</th><th scope=col>april2010census</th><th scope=col>april2010base</th><th scope=col>july2010pop</th><th scope=col>july2011pop</th></tr>\n",
              "\t<tr><th></th><th scope=col>&lt;chr&gt;</th><th scope=col>&lt;dbl&gt;</th><th scope=col>&lt;dbl&gt;</th><th scope=col>&lt;dbl&gt;</th><th scope=col>&lt;dbl&gt;</th></tr>\n",
              "</thead>\n",
              "<tbody>\n",
              "\t<tr><th scope=row>1</th><td>Alabama   </td><td> 4779736</td><td> 4779735</td><td> 4785401</td><td> 4802740</td></tr>\n",
              "\t<tr><th scope=row>2</th><td>Alaska    </td><td>  710231</td><td>  710231</td><td>  714146</td><td>  722718</td></tr>\n",
              "\t<tr><th scope=row>3</th><td>Arizona   </td><td> 6392017</td><td> 6392013</td><td> 6413158</td><td> 6482505</td></tr>\n",
              "\t<tr><th scope=row>4</th><td>Arkansas  </td><td> 2915918</td><td> 2915921</td><td> 2921588</td><td> 2937979</td></tr>\n",
              "\t<tr><th scope=row>5</th><td>California</td><td>37253956</td><td>37253956</td><td>37338198</td><td>37691912</td></tr>\n",
              "\t<tr><th scope=row>6</th><td>Colorado  </td><td> 5029196</td><td> 5029196</td><td> 5047692</td><td> 5116796</td></tr>\n",
              "</tbody>\n",
              "</table>\n"
            ]
          },
          "metadata": {
            "tags": []
          }
        }
      ]
    },
    {
      "cell_type": "markdown",
      "metadata": {
        "id": "RlafL3-smRVz"
      },
      "source": [
        "<br>\n",
        "\n",
        "---\n",
        "\n",
        "<br>\n",
        "\n",
        "\n",
        "\n",
        "\n"
      ]
    },
    {
      "cell_type": "markdown",
      "metadata": {
        "id": "rM7J4Q22mQv5"
      },
      "source": [
        "####<font color=red>Task 2</font>  (4 points)\n",
        "\n",
        "Use R code to answer the following. Also answer in complete sentences using text boxes where relevant.\n",
        "\n",
        "1. What is the average population across states in July 2010?\n",
        "2. What is the average population across states in July 2011?\n",
        "3. Was there an increase or decrease in the average population?"
      ]
    },
    {
      "cell_type": "code",
      "metadata": {
        "id": "G10GDo9Mp6YU",
        "colab": {
          "base_uri": "https://localhost:8080/",
          "height": 84
        },
        "outputId": "02c836e1-5181-45dc-bad3-1dd01fcc3c36"
      },
      "source": [
        "print(\"July 2010\")\n",
        "mean(census$july2010pop)\n",
        "\n",
        "print(\"July 2011\")\n",
        "mean(census$july2011pop)\n"
      ],
      "execution_count": null,
      "outputs": [
        {
          "output_type": "stream",
          "text": [
            "[1] \"July 2010\"\n"
          ],
          "name": "stdout"
        },
        {
          "output_type": "display_data",
          "data": {
            "text/plain": [
              "[1] 6065298"
            ],
            "text/latex": "6065298.41176471",
            "text/markdown": "6065298.41176471",
            "text/html": [
              "6065298.41176471"
            ]
          },
          "metadata": {
            "tags": []
          }
        },
        {
          "output_type": "stream",
          "text": [
            "[1] \"July 2011\"\n"
          ],
          "name": "stdout"
        },
        {
          "output_type": "display_data",
          "data": {
            "text/plain": [
              "[1] 6109645"
            ],
            "text/latex": "6109645.43137255",
            "text/markdown": "6109645.43137255",
            "text/html": [
              "6109645.43137255"
            ]
          },
          "metadata": {
            "tags": []
          }
        }
      ]
    },
    {
      "cell_type": "markdown",
      "metadata": {
        "id": "BajXEeMGJT0Q"
      },
      "source": [
        "1. The average state population in July 2010 was approximately 6,065,298 people.\n",
        "2. The average state population in July 2011 was approximately 6,109,645 people.\n",
        "3. There was an average increase in state population from July 2010 to 2011."
      ]
    },
    {
      "cell_type": "markdown",
      "metadata": {
        "id": "F9jpWG-ywmLk"
      },
      "source": [
        "<br>\n",
        "\n",
        "---\n",
        "\n",
        "<br>\n",
        "\n",
        "\n",
        "\n"
      ]
    },
    {
      "cell_type": "markdown",
      "metadata": {
        "id": "uLtZCGjbp5hn"
      },
      "source": [
        "####<font color=red>Task 3</font>  (2 points)\n",
        "Use R code to answer the following. Also answer in complete sentences using text boxes where relevant.\n",
        "\n",
        "\n",
        "1. What is the largest population in July 2010? [Hint: Use `max()`]\n",
        "\n",
        "The function `which.max()` provides you with the index of the maximum. For example, the output of `which.max(c(99, 256, 48))` is 2 since the second entry of the vector, 256, is the maximum.\n",
        "2. Use `which.max()` to find the state with the largest population."
      ]
    },
    {
      "cell_type": "code",
      "metadata": {
        "id": "g14f5zClwMmy",
        "colab": {
          "base_uri": "https://localhost:8080/",
          "height": 157
        },
        "outputId": "3fc45d1a-1cc6-4e7a-e238-c00a3e2d0e07"
      },
      "source": [
        "# 1.\n",
        "max(census$july2010pop)\n",
        "\n",
        "# 2. \n",
        "census[which.max(census$july2010pop), ] # find the row\n",
        "# or\n",
        "census$state[which.max(census$july2010pop)] # find the state"
      ],
      "execution_count": null,
      "outputs": [
        {
          "output_type": "display_data",
          "data": {
            "text/plain": [
              "[1] 37338198"
            ],
            "text/latex": "37338198",
            "text/markdown": "37338198",
            "text/html": [
              "37338198"
            ]
          },
          "metadata": {
            "tags": []
          }
        },
        {
          "output_type": "display_data",
          "data": {
            "text/plain": [
              "  state      april2010census april2010base july2010pop july2011pop\n",
              "5 California 37253956        37253956      37338198    37691912   "
            ],
            "text/latex": "A data.frame: 1 × 5\n\\begin{tabular}{r|lllll}\n  & state & april2010census & april2010base & july2010pop & july2011pop\\\\\n  & <chr> & <dbl> & <dbl> & <dbl> & <dbl>\\\\\n\\hline\n\t5 & California & 37253956 & 37253956 & 37338198 & 37691912\\\\\n\\end{tabular}\n",
            "text/markdown": "\nA data.frame: 1 × 5\n\n| <!--/--> | state &lt;chr&gt; | april2010census &lt;dbl&gt; | april2010base &lt;dbl&gt; | july2010pop &lt;dbl&gt; | july2011pop &lt;dbl&gt; |\n|---|---|---|---|---|---|\n| 5 | California | 37253956 | 37253956 | 37338198 | 37691912 |\n\n",
            "text/html": [
              "<table class=\"dataframe\">\n",
              "<caption>A data.frame: 1 × 5</caption>\n",
              "<thead>\n",
              "\t<tr><th></th><th scope=col>state</th><th scope=col>april2010census</th><th scope=col>april2010base</th><th scope=col>july2010pop</th><th scope=col>july2011pop</th></tr>\n",
              "\t<tr><th></th><th scope=col>&lt;chr&gt;</th><th scope=col>&lt;dbl&gt;</th><th scope=col>&lt;dbl&gt;</th><th scope=col>&lt;dbl&gt;</th><th scope=col>&lt;dbl&gt;</th></tr>\n",
              "</thead>\n",
              "<tbody>\n",
              "\t<tr><th scope=row>5</th><td>California</td><td>37253956</td><td>37253956</td><td>37338198</td><td>37691912</td></tr>\n",
              "</tbody>\n",
              "</table>\n"
            ]
          },
          "metadata": {
            "tags": []
          }
        },
        {
          "output_type": "display_data",
          "data": {
            "text/plain": [
              "[1] \"California\""
            ],
            "text/latex": "'California'",
            "text/markdown": "'California'",
            "text/html": [
              "'California'"
            ]
          },
          "metadata": {
            "tags": []
          }
        }
      ]
    },
    {
      "cell_type": "markdown",
      "metadata": {
        "id": "VZzAaD6QKGpv"
      },
      "source": [
        "1. The largest state population in July 2010 is 37,253,956 people.\n",
        "2. California is the state with the largest population in 2010."
      ]
    },
    {
      "cell_type": "markdown",
      "metadata": {
        "id": "UCOgWnqAwzeF"
      },
      "source": [
        "<br>\n",
        "\n",
        "---\n",
        "\n",
        "<br>\n",
        "\n",
        "\n",
        "\n",
        "\n"
      ]
    },
    {
      "cell_type": "markdown",
      "metadata": {
        "id": "uGaLoXlAq1Zf"
      },
      "source": [
        "####<font color=red>Task 4</font>  (2 points)\n",
        "\n",
        "Use R code to answer the following. Also answer in complete sentences using text boxes where relevant.\n",
        "1. Use `which.min()` to find the state with the smallest population\n",
        "2. What is the population in this state?"
      ]
    },
    {
      "cell_type": "code",
      "metadata": {
        "id": "wsCJ-X6WwMad",
        "colab": {
          "base_uri": "https://localhost:8080/",
          "height": 263
        },
        "outputId": "4cf43e17-2acd-4a49-b683-dff4cc349238"
      },
      "source": [
        "# 1.\n",
        "census[which.min(census$july2010pop), ] # find the row\n",
        "# or\n",
        "census$state[which.min(census$july2010pop)] # find the state\n",
        "\n",
        "# 2.\n",
        "census[which.min(census$july2010pop), ]\n",
        "# or\n",
        "census[which.min(census$july2010pop), ]$july2010pop"
      ],
      "execution_count": null,
      "outputs": [
        {
          "output_type": "display_data",
          "data": {
            "text/plain": [
              "   state   april2010census april2010base july2010pop july2011pop\n",
              "51 Wyoming 563626          563626        564554      568158     "
            ],
            "text/latex": "A data.frame: 1 × 5\n\\begin{tabular}{r|lllll}\n  & state & april2010census & april2010base & july2010pop & july2011pop\\\\\n  & <chr> & <dbl> & <dbl> & <dbl> & <dbl>\\\\\n\\hline\n\t51 & Wyoming & 563626 & 563626 & 564554 & 568158\\\\\n\\end{tabular}\n",
            "text/markdown": "\nA data.frame: 1 × 5\n\n| <!--/--> | state &lt;chr&gt; | april2010census &lt;dbl&gt; | april2010base &lt;dbl&gt; | july2010pop &lt;dbl&gt; | july2011pop &lt;dbl&gt; |\n|---|---|---|---|---|---|\n| 51 | Wyoming | 563626 | 563626 | 564554 | 568158 |\n\n",
            "text/html": [
              "<table class=\"dataframe\">\n",
              "<caption>A data.frame: 1 × 5</caption>\n",
              "<thead>\n",
              "\t<tr><th></th><th scope=col>state</th><th scope=col>april2010census</th><th scope=col>april2010base</th><th scope=col>july2010pop</th><th scope=col>july2011pop</th></tr>\n",
              "\t<tr><th></th><th scope=col>&lt;chr&gt;</th><th scope=col>&lt;dbl&gt;</th><th scope=col>&lt;dbl&gt;</th><th scope=col>&lt;dbl&gt;</th><th scope=col>&lt;dbl&gt;</th></tr>\n",
              "</thead>\n",
              "<tbody>\n",
              "\t<tr><th scope=row>51</th><td>Wyoming</td><td>563626</td><td>563626</td><td>564554</td><td>568158</td></tr>\n",
              "</tbody>\n",
              "</table>\n"
            ]
          },
          "metadata": {
            "tags": []
          }
        },
        {
          "output_type": "display_data",
          "data": {
            "text/plain": [
              "[1] \"Wyoming\""
            ],
            "text/latex": "'Wyoming'",
            "text/markdown": "'Wyoming'",
            "text/html": [
              "'Wyoming'"
            ]
          },
          "metadata": {
            "tags": []
          }
        },
        {
          "output_type": "display_data",
          "data": {
            "text/plain": [
              "   state   april2010census april2010base july2010pop july2011pop\n",
              "51 Wyoming 563626          563626        564554      568158     "
            ],
            "text/latex": "A data.frame: 1 × 5\n\\begin{tabular}{r|lllll}\n  & state & april2010census & april2010base & july2010pop & july2011pop\\\\\n  & <chr> & <dbl> & <dbl> & <dbl> & <dbl>\\\\\n\\hline\n\t51 & Wyoming & 563626 & 563626 & 564554 & 568158\\\\\n\\end{tabular}\n",
            "text/markdown": "\nA data.frame: 1 × 5\n\n| <!--/--> | state &lt;chr&gt; | april2010census &lt;dbl&gt; | april2010base &lt;dbl&gt; | july2010pop &lt;dbl&gt; | july2011pop &lt;dbl&gt; |\n|---|---|---|---|---|---|\n| 51 | Wyoming | 563626 | 563626 | 564554 | 568158 |\n\n",
            "text/html": [
              "<table class=\"dataframe\">\n",
              "<caption>A data.frame: 1 × 5</caption>\n",
              "<thead>\n",
              "\t<tr><th></th><th scope=col>state</th><th scope=col>april2010census</th><th scope=col>april2010base</th><th scope=col>july2010pop</th><th scope=col>july2011pop</th></tr>\n",
              "\t<tr><th></th><th scope=col>&lt;chr&gt;</th><th scope=col>&lt;dbl&gt;</th><th scope=col>&lt;dbl&gt;</th><th scope=col>&lt;dbl&gt;</th><th scope=col>&lt;dbl&gt;</th></tr>\n",
              "</thead>\n",
              "<tbody>\n",
              "\t<tr><th scope=row>51</th><td>Wyoming</td><td>563626</td><td>563626</td><td>564554</td><td>568158</td></tr>\n",
              "</tbody>\n",
              "</table>\n"
            ]
          },
          "metadata": {
            "tags": []
          }
        },
        {
          "output_type": "display_data",
          "data": {
            "text/plain": [
              "[1] 564554"
            ],
            "text/latex": "564554",
            "text/markdown": "564554",
            "text/html": [
              "564554"
            ]
          },
          "metadata": {
            "tags": []
          }
        }
      ]
    },
    {
      "cell_type": "markdown",
      "metadata": {
        "id": "_ohcwVXaKy9J"
      },
      "source": [
        "1. Wyoming is the state with the smallest population.\n",
        "2. The population in Wyoming in July 2010 is 564,554 people."
      ]
    },
    {
      "cell_type": "markdown",
      "metadata": {
        "id": "5ptEnKDaw0k2"
      },
      "source": [
        "<br>\n",
        "\n",
        "---\n",
        "\n",
        "<br>\n",
        "\n",
        "\n",
        "\n",
        "\n"
      ]
    },
    {
      "cell_type": "markdown",
      "metadata": {
        "id": "y1o7FtrzrYUW"
      },
      "source": [
        "####<font color=red>Task 5</font>  (4 points)\n",
        "\n",
        "The function `order()` returns the indexes of a sorted vector. For example, the output of `order(c(99, 256, 48), decreasing=FALSE)` is the vector `(3, 1, 2)` since the third number is the smallest (48), the first number is next (99), and the second number is the largest (256).\n",
        "\n",
        "The example below shows how to sort a single vector:\n",
        "```\n",
        "x <- c(99, 256, 48)\n",
        "x[order(x)]\n",
        "```\n",
        "<br>\n",
        "\n",
        "Use R code to answer the following. Also answer in complete sentences using text boxes where relevant.\n",
        "\n",
        "1. Sort the dataframe `census` by population in July 2010 from smallest to largest and store as another dataframe called `census_sorted`\n",
        "2. Show the first few lines to ensure it is correct\n",
        "3. Using the sorted dataframe, which areas of the US have the smallest populations? Why?\n",
        "4. Using the sorted dataframe, which areas of the US have the largest populations? Why?"
      ]
    },
    {
      "cell_type": "code",
      "metadata": {
        "id": "EHUnKi8QwL4E",
        "colab": {
          "base_uri": "https://localhost:8080/",
          "height": 526
        },
        "outputId": "9dc88f76-8678-4430-8703-8cea7f0c51c0"
      },
      "source": [
        "# 1.\n",
        "census_sorted <- census[order(census$july2010pop), ]\n",
        "\n",
        "# 2. \n",
        "head(census_sorted)\n",
        "tail(census_sorted)\n"
      ],
      "execution_count": null,
      "outputs": [
        {
          "output_type": "display_data",
          "data": {
            "text/plain": [
              "   state                april2010census april2010base july2010pop july2011pop\n",
              "51 Wyoming              563626          563626        564554      568158     \n",
              "9  District of Columbia 601723          601723        604912      617996     \n",
              "46 Vermont              625741          625741        625909      626431     \n",
              "35 North Dakota         672591          672591        674629      683932     \n",
              "2  Alaska               710231          710231        714146      722718     \n",
              "42 South Dakota         814180          814180        816598      824082     "
            ],
            "text/latex": "A data.frame: 6 × 5\n\\begin{tabular}{r|lllll}\n  & state & april2010census & april2010base & july2010pop & july2011pop\\\\\n  & <chr> & <dbl> & <dbl> & <dbl> & <dbl>\\\\\n\\hline\n\t51 & Wyoming              & 563626 & 563626 & 564554 & 568158\\\\\n\t9 & District of Columbia & 601723 & 601723 & 604912 & 617996\\\\\n\t46 & Vermont              & 625741 & 625741 & 625909 & 626431\\\\\n\t35 & North Dakota         & 672591 & 672591 & 674629 & 683932\\\\\n\t2 & Alaska               & 710231 & 710231 & 714146 & 722718\\\\\n\t42 & South Dakota         & 814180 & 814180 & 816598 & 824082\\\\\n\\end{tabular}\n",
            "text/markdown": "\nA data.frame: 6 × 5\n\n| <!--/--> | state &lt;chr&gt; | april2010census &lt;dbl&gt; | april2010base &lt;dbl&gt; | july2010pop &lt;dbl&gt; | july2011pop &lt;dbl&gt; |\n|---|---|---|---|---|---|\n| 51 | Wyoming              | 563626 | 563626 | 564554 | 568158 |\n| 9 | District of Columbia | 601723 | 601723 | 604912 | 617996 |\n| 46 | Vermont              | 625741 | 625741 | 625909 | 626431 |\n| 35 | North Dakota         | 672591 | 672591 | 674629 | 683932 |\n| 2 | Alaska               | 710231 | 710231 | 714146 | 722718 |\n| 42 | South Dakota         | 814180 | 814180 | 816598 | 824082 |\n\n",
            "text/html": [
              "<table class=\"dataframe\">\n",
              "<caption>A data.frame: 6 × 5</caption>\n",
              "<thead>\n",
              "\t<tr><th></th><th scope=col>state</th><th scope=col>april2010census</th><th scope=col>april2010base</th><th scope=col>july2010pop</th><th scope=col>july2011pop</th></tr>\n",
              "\t<tr><th></th><th scope=col>&lt;chr&gt;</th><th scope=col>&lt;dbl&gt;</th><th scope=col>&lt;dbl&gt;</th><th scope=col>&lt;dbl&gt;</th><th scope=col>&lt;dbl&gt;</th></tr>\n",
              "</thead>\n",
              "<tbody>\n",
              "\t<tr><th scope=row>51</th><td>Wyoming             </td><td>563626</td><td>563626</td><td>564554</td><td>568158</td></tr>\n",
              "\t<tr><th scope=row>9</th><td>District of Columbia</td><td>601723</td><td>601723</td><td>604912</td><td>617996</td></tr>\n",
              "\t<tr><th scope=row>46</th><td>Vermont             </td><td>625741</td><td>625741</td><td>625909</td><td>626431</td></tr>\n",
              "\t<tr><th scope=row>35</th><td>North Dakota        </td><td>672591</td><td>672591</td><td>674629</td><td>683932</td></tr>\n",
              "\t<tr><th scope=row>2</th><td>Alaska              </td><td>710231</td><td>710231</td><td>714146</td><td>722718</td></tr>\n",
              "\t<tr><th scope=row>42</th><td>South Dakota        </td><td>814180</td><td>814180</td><td>816598</td><td>824082</td></tr>\n",
              "</tbody>\n",
              "</table>\n"
            ]
          },
          "metadata": {
            "tags": []
          }
        },
        {
          "output_type": "display_data",
          "data": {
            "text/plain": [
              "   state        april2010census april2010base july2010pop july2011pop\n",
              "39 Pennsylvania 12702379        12702379      12717722    12742886   \n",
              "14 Illinois     12830632        12830632      12841980    12869257   \n",
              "10 Florida      18801310        18801311      18838613    19057542   \n",
              "33 New York     19378102        19378104      19395206    19465197   \n",
              "44 Texas        25145561        25145561      25253466    25674681   \n",
              "5  California   37253956        37253956      37338198    37691912   "
            ],
            "text/latex": "A data.frame: 6 × 5\n\\begin{tabular}{r|lllll}\n  & state & april2010census & april2010base & july2010pop & july2011pop\\\\\n  & <chr> & <dbl> & <dbl> & <dbl> & <dbl>\\\\\n\\hline\n\t39 & Pennsylvania & 12702379 & 12702379 & 12717722 & 12742886\\\\\n\t14 & Illinois     & 12830632 & 12830632 & 12841980 & 12869257\\\\\n\t10 & Florida      & 18801310 & 18801311 & 18838613 & 19057542\\\\\n\t33 & New York     & 19378102 & 19378104 & 19395206 & 19465197\\\\\n\t44 & Texas        & 25145561 & 25145561 & 25253466 & 25674681\\\\\n\t5 & California   & 37253956 & 37253956 & 37338198 & 37691912\\\\\n\\end{tabular}\n",
            "text/markdown": "\nA data.frame: 6 × 5\n\n| <!--/--> | state &lt;chr&gt; | april2010census &lt;dbl&gt; | april2010base &lt;dbl&gt; | july2010pop &lt;dbl&gt; | july2011pop &lt;dbl&gt; |\n|---|---|---|---|---|---|\n| 39 | Pennsylvania | 12702379 | 12702379 | 12717722 | 12742886 |\n| 14 | Illinois     | 12830632 | 12830632 | 12841980 | 12869257 |\n| 10 | Florida      | 18801310 | 18801311 | 18838613 | 19057542 |\n| 33 | New York     | 19378102 | 19378104 | 19395206 | 19465197 |\n| 44 | Texas        | 25145561 | 25145561 | 25253466 | 25674681 |\n| 5 | California   | 37253956 | 37253956 | 37338198 | 37691912 |\n\n",
            "text/html": [
              "<table class=\"dataframe\">\n",
              "<caption>A data.frame: 6 × 5</caption>\n",
              "<thead>\n",
              "\t<tr><th></th><th scope=col>state</th><th scope=col>april2010census</th><th scope=col>april2010base</th><th scope=col>july2010pop</th><th scope=col>july2011pop</th></tr>\n",
              "\t<tr><th></th><th scope=col>&lt;chr&gt;</th><th scope=col>&lt;dbl&gt;</th><th scope=col>&lt;dbl&gt;</th><th scope=col>&lt;dbl&gt;</th><th scope=col>&lt;dbl&gt;</th></tr>\n",
              "</thead>\n",
              "<tbody>\n",
              "\t<tr><th scope=row>39</th><td>Pennsylvania</td><td>12702379</td><td>12702379</td><td>12717722</td><td>12742886</td></tr>\n",
              "\t<tr><th scope=row>14</th><td>Illinois    </td><td>12830632</td><td>12830632</td><td>12841980</td><td>12869257</td></tr>\n",
              "\t<tr><th scope=row>10</th><td>Florida     </td><td>18801310</td><td>18801311</td><td>18838613</td><td>19057542</td></tr>\n",
              "\t<tr><th scope=row>33</th><td>New York    </td><td>19378102</td><td>19378104</td><td>19395206</td><td>19465197</td></tr>\n",
              "\t<tr><th scope=row>44</th><td>Texas       </td><td>25145561</td><td>25145561</td><td>25253466</td><td>25674681</td></tr>\n",
              "\t<tr><th scope=row>5</th><td>California  </td><td>37253956</td><td>37253956</td><td>37338198</td><td>37691912</td></tr>\n",
              "</tbody>\n",
              "</table>\n"
            ]
          },
          "metadata": {
            "tags": []
          }
        }
      ]
    },
    {
      "cell_type": "markdown",
      "metadata": {
        "id": "Ny9V1wBbLWNc"
      },
      "source": [
        "3. Aside from DC, states with the smallest populations tend to be landlocked and in the northern United States.\n",
        "4. States with the larger populations tend to be larger in land area and/or bordering a coast (lake/ocean).\n",
        "\n",
        "What other attributes do these states have?"
      ]
    },
    {
      "cell_type": "markdown",
      "metadata": {
        "id": "cOwe-53Bw22U"
      },
      "source": [
        "<br>\n",
        "\n",
        "---\n",
        "\n",
        "<br>\n",
        "\n",
        "\n",
        "\n",
        "\n"
      ]
    },
    {
      "cell_type": "markdown",
      "metadata": {
        "id": "j3TsWHfrs7bN"
      },
      "source": [
        "####<font color=red>Task 6</font>  (2 points)\n",
        "\n",
        "Use R code to answer the following. Also answer in complete sentences using text boxes where relevant.\n",
        "\n",
        "1. Create a dataframe of states with populations between 1 and 2 million people in July 2010 and store as `census_1to2`\n",
        "2. Among states with populations between 1 and 2 million people, which state has the largest population? Use R code to answer this question. [Hint: `which.max()`]\n"
      ]
    },
    {
      "cell_type": "code",
      "metadata": {
        "id": "4Zf_G8YIwSvs",
        "colab": {
          "base_uri": "https://localhost:8080/",
          "height": 407
        },
        "outputId": "f93dadef-c7a9-4cee-d185-bade214e5ba5"
      },
      "source": [
        "# 1. \n",
        "census_1to2 <- census[ census$july2010pop > 1000000 & census$july2010pop < 2000000 , ]\n",
        "census_1to2\n",
        "\n",
        "# 2. \n",
        "census_1to2[which.max(census_1to2$july2010pop), ]\n"
      ],
      "execution_count": null,
      "outputs": [
        {
          "output_type": "display_data",
          "data": {
            "text/plain": [
              "   state         april2010census april2010base july2010pop july2011pop\n",
              "12 Hawaii        1360301         1360301       1363359     1374810    \n",
              "13 Idaho         1567582         1567582       1571102     1584985    \n",
              "20 Maine         1328361         1328361       1327379     1328188    \n",
              "28 Nebraska      1826341         1826341       1830141     1842641    \n",
              "30 New Hampshire 1316470         1316472       1316807     1318194    \n",
              "40 Rhode Island  1052567         1052567       1052528     1051302    \n",
              "49 West Virginia 1852994         1852996       1854368     1855364    "
            ],
            "text/latex": "A data.frame: 7 × 5\n\\begin{tabular}{r|lllll}\n  & state & april2010census & april2010base & july2010pop & july2011pop\\\\\n  & <chr> & <dbl> & <dbl> & <dbl> & <dbl>\\\\\n\\hline\n\t12 & Hawaii        & 1360301 & 1360301 & 1363359 & 1374810\\\\\n\t13 & Idaho         & 1567582 & 1567582 & 1571102 & 1584985\\\\\n\t20 & Maine         & 1328361 & 1328361 & 1327379 & 1328188\\\\\n\t28 & Nebraska      & 1826341 & 1826341 & 1830141 & 1842641\\\\\n\t30 & New Hampshire & 1316470 & 1316472 & 1316807 & 1318194\\\\\n\t40 & Rhode Island  & 1052567 & 1052567 & 1052528 & 1051302\\\\\n\t49 & West Virginia & 1852994 & 1852996 & 1854368 & 1855364\\\\\n\\end{tabular}\n",
            "text/markdown": "\nA data.frame: 7 × 5\n\n| <!--/--> | state &lt;chr&gt; | april2010census &lt;dbl&gt; | april2010base &lt;dbl&gt; | july2010pop &lt;dbl&gt; | july2011pop &lt;dbl&gt; |\n|---|---|---|---|---|---|\n| 12 | Hawaii        | 1360301 | 1360301 | 1363359 | 1374810 |\n| 13 | Idaho         | 1567582 | 1567582 | 1571102 | 1584985 |\n| 20 | Maine         | 1328361 | 1328361 | 1327379 | 1328188 |\n| 28 | Nebraska      | 1826341 | 1826341 | 1830141 | 1842641 |\n| 30 | New Hampshire | 1316470 | 1316472 | 1316807 | 1318194 |\n| 40 | Rhode Island  | 1052567 | 1052567 | 1052528 | 1051302 |\n| 49 | West Virginia | 1852994 | 1852996 | 1854368 | 1855364 |\n\n",
            "text/html": [
              "<table class=\"dataframe\">\n",
              "<caption>A data.frame: 7 × 5</caption>\n",
              "<thead>\n",
              "\t<tr><th></th><th scope=col>state</th><th scope=col>april2010census</th><th scope=col>april2010base</th><th scope=col>july2010pop</th><th scope=col>july2011pop</th></tr>\n",
              "\t<tr><th></th><th scope=col>&lt;chr&gt;</th><th scope=col>&lt;dbl&gt;</th><th scope=col>&lt;dbl&gt;</th><th scope=col>&lt;dbl&gt;</th><th scope=col>&lt;dbl&gt;</th></tr>\n",
              "</thead>\n",
              "<tbody>\n",
              "\t<tr><th scope=row>12</th><td>Hawaii       </td><td>1360301</td><td>1360301</td><td>1363359</td><td>1374810</td></tr>\n",
              "\t<tr><th scope=row>13</th><td>Idaho        </td><td>1567582</td><td>1567582</td><td>1571102</td><td>1584985</td></tr>\n",
              "\t<tr><th scope=row>20</th><td>Maine        </td><td>1328361</td><td>1328361</td><td>1327379</td><td>1328188</td></tr>\n",
              "\t<tr><th scope=row>28</th><td>Nebraska     </td><td>1826341</td><td>1826341</td><td>1830141</td><td>1842641</td></tr>\n",
              "\t<tr><th scope=row>30</th><td>New Hampshire</td><td>1316470</td><td>1316472</td><td>1316807</td><td>1318194</td></tr>\n",
              "\t<tr><th scope=row>40</th><td>Rhode Island </td><td>1052567</td><td>1052567</td><td>1052528</td><td>1051302</td></tr>\n",
              "\t<tr><th scope=row>49</th><td>West Virginia</td><td>1852994</td><td>1852996</td><td>1854368</td><td>1855364</td></tr>\n",
              "</tbody>\n",
              "</table>\n"
            ]
          },
          "metadata": {
            "tags": []
          }
        },
        {
          "output_type": "display_data",
          "data": {
            "text/plain": [
              "   state         april2010census april2010base july2010pop july2011pop\n",
              "49 West Virginia 1852994         1852996       1854368     1855364    "
            ],
            "text/latex": "A data.frame: 1 × 5\n\\begin{tabular}{r|lllll}\n  & state & april2010census & april2010base & july2010pop & july2011pop\\\\\n  & <chr> & <dbl> & <dbl> & <dbl> & <dbl>\\\\\n\\hline\n\t49 & West Virginia & 1852994 & 1852996 & 1854368 & 1855364\\\\\n\\end{tabular}\n",
            "text/markdown": "\nA data.frame: 1 × 5\n\n| <!--/--> | state &lt;chr&gt; | april2010census &lt;dbl&gt; | april2010base &lt;dbl&gt; | july2010pop &lt;dbl&gt; | july2011pop &lt;dbl&gt; |\n|---|---|---|---|---|---|\n| 49 | West Virginia | 1852994 | 1852996 | 1854368 | 1855364 |\n\n",
            "text/html": [
              "<table class=\"dataframe\">\n",
              "<caption>A data.frame: 1 × 5</caption>\n",
              "<thead>\n",
              "\t<tr><th></th><th scope=col>state</th><th scope=col>april2010census</th><th scope=col>april2010base</th><th scope=col>july2010pop</th><th scope=col>july2011pop</th></tr>\n",
              "\t<tr><th></th><th scope=col>&lt;chr&gt;</th><th scope=col>&lt;dbl&gt;</th><th scope=col>&lt;dbl&gt;</th><th scope=col>&lt;dbl&gt;</th><th scope=col>&lt;dbl&gt;</th></tr>\n",
              "</thead>\n",
              "<tbody>\n",
              "\t<tr><th scope=row>49</th><td>West Virginia</td><td>1852994</td><td>1852996</td><td>1854368</td><td>1855364</td></tr>\n",
              "</tbody>\n",
              "</table>\n"
            ]
          },
          "metadata": {
            "tags": []
          }
        }
      ]
    },
    {
      "cell_type": "markdown",
      "metadata": {
        "id": "azClNaxUMb7n"
      },
      "source": [
        "Among states with populations between 1 and 2 million people, West Virginia has the largest population."
      ]
    },
    {
      "cell_type": "markdown",
      "metadata": {
        "id": "vXJts8zPw4XM"
      },
      "source": [
        "<br>\n",
        "\n",
        "---\n",
        "\n",
        "<br>\n",
        "\n",
        "\n",
        "\n",
        "\n"
      ]
    },
    {
      "cell_type": "markdown",
      "metadata": {
        "id": "r8s5HoZSu4Mk"
      },
      "source": [
        "####<font color=red>Task 7</font>  (4 points)\n",
        "\n",
        "Use R code to answer the following. Also answer in complete sentences using text boxes where relevant.\n",
        "\n",
        "1. Calculate the difference in population for each state between 2010 and 2011. [Hint: population 2011 - population 2010]\n",
        "2. Store as another variable called `pop_diff` in the `census` dataframe\n",
        "3. How many states decreased in population between 2010 and 2011?\n",
        "4. How many states had population increases less than 10,000 between 2010 and 2011?\n"
      ]
    },
    {
      "cell_type": "code",
      "metadata": {
        "id": "PGoHYpHJv5eE",
        "colab": {
          "base_uri": "https://localhost:8080/",
          "height": 168
        },
        "outputId": "db265187-aa1c-4bae-c357-236de42bcf43"
      },
      "source": [
        "# 1. \n",
        "census$july2011pop - census$july2010pop\n",
        "\n",
        "# 2. \n",
        "census$pop_diff <- census$july2011pop - census$july2010pop\n",
        "\n",
        "# 3. \n",
        "nrow(census[census$pop_diff < 0, ])\n",
        "# or \n",
        "length(census$pop_diff[census$pop_diff < 0])\n",
        "# or\n",
        "sum( census$pop_diff < 0 )\n",
        "\n",
        "# 4. \n",
        "nrow(census[census$pop_diff > 0 & census$pop_diff < 10000, ])\n",
        "# or \n",
        "length(census$pop_diff[ census$pop_diff > 0 & census$pop_diff < 10000 ])\n",
        "# or\n",
        "sum( census$pop_diff > 0 & census$pop_diff < 10000 )"
      ],
      "execution_count": null,
      "outputs": [
        {
          "output_type": "display_data",
          "data": {
            "text/plain": [
              " [1]  17339   8572  69347  16391 353714  69104   5211   7343  13084 218929\n",
              "[11] 103053  11451  13883  27277  26300  12107  12095  22133  29493    809\n",
              "[21]  42608  32070   -956  34203   8440  14973   7241  12500  19039   1387\n",
              "[31]  21562  16311  69991  96167   9303   6983  31324  33527  25164  -1226\n",
              "[41]  42124   7484  45917 421215  41743    522  72651  87088    996  20108\n",
              "[51]   3604"
            ],
            "text/latex": "\\begin{enumerate*}\n\\item 17339\n\\item 8572\n\\item 69347\n\\item 16391\n\\item 353714\n\\item 69104\n\\item 5211\n\\item 7343\n\\item 13084\n\\item 218929\n\\item 103053\n\\item 11451\n\\item 13883\n\\item 27277\n\\item 26300\n\\item 12107\n\\item 12095\n\\item 22133\n\\item 29493\n\\item 809\n\\item 42608\n\\item 32070\n\\item -956\n\\item 34203\n\\item 8440\n\\item 14973\n\\item 7241\n\\item 12500\n\\item 19039\n\\item 1387\n\\item 21562\n\\item 16311\n\\item 69991\n\\item 96167\n\\item 9303\n\\item 6983\n\\item 31324\n\\item 33527\n\\item 25164\n\\item -1226\n\\item 42124\n\\item 7484\n\\item 45917\n\\item 421215\n\\item 41743\n\\item 522\n\\item 72651\n\\item 87088\n\\item 996\n\\item 20108\n\\item 3604\n\\end{enumerate*}\n",
            "text/markdown": "1. 17339\n2. 8572\n3. 69347\n4. 16391\n5. 353714\n6. 69104\n7. 5211\n8. 7343\n9. 13084\n10. 218929\n11. 103053\n12. 11451\n13. 13883\n14. 27277\n15. 26300\n16. 12107\n17. 12095\n18. 22133\n19. 29493\n20. 809\n21. 42608\n22. 32070\n23. -956\n24. 34203\n25. 8440\n26. 14973\n27. 7241\n28. 12500\n29. 19039\n30. 1387\n31. 21562\n32. 16311\n33. 69991\n34. 96167\n35. 9303\n36. 6983\n37. 31324\n38. 33527\n39. 25164\n40. -1226\n41. 42124\n42. 7484\n43. 45917\n44. 421215\n45. 41743\n46. 522\n47. 72651\n48. 87088\n49. 996\n50. 20108\n51. 3604\n\n\n",
            "text/html": [
              "<style>\n",
              ".list-inline {list-style: none; margin:0; padding: 0}\n",
              ".list-inline>li {display: inline-block}\n",
              ".list-inline>li:not(:last-child)::after {content: \"\\00b7\"; padding: 0 .5ex}\n",
              "</style>\n",
              "<ol class=list-inline><li>17339</li><li>8572</li><li>69347</li><li>16391</li><li>353714</li><li>69104</li><li>5211</li><li>7343</li><li>13084</li><li>218929</li><li>103053</li><li>11451</li><li>13883</li><li>27277</li><li>26300</li><li>12107</li><li>12095</li><li>22133</li><li>29493</li><li>809</li><li>42608</li><li>32070</li><li>-956</li><li>34203</li><li>8440</li><li>14973</li><li>7241</li><li>12500</li><li>19039</li><li>1387</li><li>21562</li><li>16311</li><li>69991</li><li>96167</li><li>9303</li><li>6983</li><li>31324</li><li>33527</li><li>25164</li><li>-1226</li><li>42124</li><li>7484</li><li>45917</li><li>421215</li><li>41743</li><li>522</li><li>72651</li><li>87088</li><li>996</li><li>20108</li><li>3604</li></ol>\n"
            ]
          },
          "metadata": {
            "tags": []
          }
        },
        {
          "output_type": "display_data",
          "data": {
            "text/plain": [
              "[1] 2"
            ],
            "text/latex": "2",
            "text/markdown": "2",
            "text/html": [
              "2"
            ]
          },
          "metadata": {
            "tags": []
          }
        },
        {
          "output_type": "display_data",
          "data": {
            "text/plain": [
              "[1] 2"
            ],
            "text/latex": "2",
            "text/markdown": "2",
            "text/html": [
              "2"
            ]
          },
          "metadata": {
            "tags": []
          }
        },
        {
          "output_type": "display_data",
          "data": {
            "text/plain": [
              "[1] 2"
            ],
            "text/latex": "2",
            "text/markdown": "2",
            "text/html": [
              "2"
            ]
          },
          "metadata": {
            "tags": []
          }
        },
        {
          "output_type": "display_data",
          "data": {
            "text/plain": [
              "[1] 13"
            ],
            "text/latex": "13",
            "text/markdown": "13",
            "text/html": [
              "13"
            ]
          },
          "metadata": {
            "tags": []
          }
        },
        {
          "output_type": "display_data",
          "data": {
            "text/plain": [
              "[1] 13"
            ],
            "text/latex": "13",
            "text/markdown": "13",
            "text/html": [
              "13"
            ]
          },
          "metadata": {
            "tags": []
          }
        },
        {
          "output_type": "display_data",
          "data": {
            "text/plain": [
              "[1] 13"
            ],
            "text/latex": "13",
            "text/markdown": "13",
            "text/html": [
              "13"
            ]
          },
          "metadata": {
            "tags": []
          }
        }
      ]
    },
    {
      "cell_type": "markdown",
      "metadata": {
        "id": "BegCXDvENhu5"
      },
      "source": [
        "3. Two states decreased in population between July 2010 and July 2011\n",
        "4. Thirteen states had population increases that were less than 10,000 from July 2010 t0 July 2011."
      ]
    }
  ]
}
